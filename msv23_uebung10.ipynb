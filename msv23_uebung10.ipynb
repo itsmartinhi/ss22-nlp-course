{
 "cells": [
  {
   "cell_type": "markdown",
   "id": "92194704",
   "metadata": {},
   "source": [
    "# MSV / SS 2023 - Übung 10"
   ]
  },
  {
   "cell_type": "markdown",
   "id": "4fa35ead",
   "metadata": {},
   "source": [
    "## 10.1 Word2Vec Wiederholung"
   ]
  },
  {
   "cell_type": "code",
   "execution_count": 1,
   "id": "62986bac",
   "metadata": {},
   "outputs": [],
   "source": [
    "import gensim\n",
    "%matplotlib inline"
   ]
  },
  {
   "cell_type": "markdown",
   "id": "239a0f0a",
   "metadata": {},
   "source": [
    "Daten: Google News corpus, 6B tokens (1M häufigsten Wörter)\n",
    "\n",
    "Es ist wahrscheinlich, dass Sie eine erhöhte Datenrat brauchen (``jupyter notebook --NotebookApp.iopub_data_rate_limit=10000000`` im Terminal)"
   ]
  },
  {
   "cell_type": "code",
   "execution_count": 2,
   "id": "9669c84b",
   "metadata": {},
   "outputs": [],
   "source": [
    "import gensim.downloader as api\n",
    "wv = api.load('word2vec-google-news-300')"
   ]
  },
  {
   "cell_type": "markdown",
   "id": "bee053a6",
   "metadata": {},
   "source": [
    "#### Embeddingsvektor für <i>King</i>"
   ]
  },
  {
   "cell_type": "code",
   "execution_count": 3,
   "id": "b7f12a1b",
   "metadata": {},
   "outputs": [
    {
     "data": {
      "text/plain": [
       "array([ 1.25976562e-01,  2.97851562e-02,  8.60595703e-03,  1.39648438e-01,\n",
       "       -2.56347656e-02, -3.61328125e-02,  1.11816406e-01, -1.98242188e-01,\n",
       "        5.12695312e-02,  3.63281250e-01, -2.42187500e-01, -3.02734375e-01,\n",
       "       -1.77734375e-01, -2.49023438e-02, -1.67968750e-01, -1.69921875e-01,\n",
       "        3.46679688e-02,  5.21850586e-03,  4.63867188e-02,  1.28906250e-01,\n",
       "        1.36718750e-01,  1.12792969e-01,  5.95703125e-02,  1.36718750e-01,\n",
       "        1.01074219e-01, -1.76757812e-01, -2.51953125e-01,  5.98144531e-02,\n",
       "        3.41796875e-01, -3.11279297e-02,  1.04492188e-01,  6.17675781e-02,\n",
       "        1.24511719e-01,  4.00390625e-01, -3.22265625e-01,  8.39843750e-02,\n",
       "        3.90625000e-02,  5.85937500e-03,  7.03125000e-02,  1.72851562e-01,\n",
       "        1.38671875e-01, -2.31445312e-01,  2.83203125e-01,  1.42578125e-01,\n",
       "        3.41796875e-01, -2.39257812e-02, -1.09863281e-01,  3.32031250e-02,\n",
       "       -5.46875000e-02,  1.53198242e-02, -1.62109375e-01,  1.58203125e-01,\n",
       "       -2.59765625e-01,  2.01416016e-02, -1.63085938e-01,  1.35803223e-03,\n",
       "       -1.44531250e-01, -5.68847656e-02,  4.29687500e-02, -2.46582031e-02,\n",
       "        1.85546875e-01,  4.47265625e-01,  9.58251953e-03,  1.31835938e-01,\n",
       "        9.86328125e-02, -1.85546875e-01, -1.00097656e-01, -1.33789062e-01,\n",
       "       -1.25000000e-01,  2.83203125e-01,  1.23046875e-01,  5.32226562e-02,\n",
       "       -1.77734375e-01,  8.59375000e-02, -2.18505859e-02,  2.05078125e-02,\n",
       "       -1.39648438e-01,  2.51464844e-02,  1.38671875e-01, -1.05468750e-01,\n",
       "        1.38671875e-01,  8.88671875e-02, -7.51953125e-02, -2.13623047e-02,\n",
       "        1.72851562e-01,  4.63867188e-02, -2.65625000e-01,  8.91113281e-03,\n",
       "        1.49414062e-01,  3.78417969e-02,  2.38281250e-01, -1.24511719e-01,\n",
       "       -2.17773438e-01, -1.81640625e-01,  2.97851562e-02,  5.71289062e-02,\n",
       "       -2.89306641e-02,  1.24511719e-02,  9.66796875e-02, -2.31445312e-01,\n",
       "        5.81054688e-02,  6.68945312e-02,  7.08007812e-02, -3.08593750e-01,\n",
       "       -2.14843750e-01,  1.45507812e-01, -4.27734375e-01, -9.39941406e-03,\n",
       "        1.54296875e-01, -7.66601562e-02,  2.89062500e-01,  2.77343750e-01,\n",
       "       -4.86373901e-04, -1.36718750e-01,  3.24218750e-01, -2.46093750e-01,\n",
       "       -3.03649902e-03, -2.11914062e-01,  1.25000000e-01,  2.69531250e-01,\n",
       "        2.04101562e-01,  8.25195312e-02, -2.01171875e-01, -1.60156250e-01,\n",
       "       -3.78417969e-02, -1.20117188e-01,  1.15234375e-01, -4.10156250e-02,\n",
       "       -3.95507812e-02, -8.98437500e-02,  6.34765625e-03,  2.03125000e-01,\n",
       "        1.86523438e-01,  2.73437500e-01,  6.29882812e-02,  1.41601562e-01,\n",
       "       -9.81445312e-02,  1.38671875e-01,  1.82617188e-01,  1.73828125e-01,\n",
       "        1.73828125e-01, -2.37304688e-01,  1.78710938e-01,  6.34765625e-02,\n",
       "        2.36328125e-01, -2.08984375e-01,  8.74023438e-02, -1.66015625e-01,\n",
       "       -7.91015625e-02,  2.43164062e-01, -8.88671875e-02,  1.26953125e-01,\n",
       "       -2.16796875e-01, -1.73828125e-01, -3.59375000e-01, -8.25195312e-02,\n",
       "       -6.49414062e-02,  5.07812500e-02,  1.35742188e-01, -7.47070312e-02,\n",
       "       -1.64062500e-01,  1.15356445e-02,  4.45312500e-01, -2.15820312e-01,\n",
       "       -1.11328125e-01, -1.92382812e-01,  1.70898438e-01, -1.25000000e-01,\n",
       "        2.65502930e-03,  1.92382812e-01, -1.74804688e-01,  1.39648438e-01,\n",
       "        2.92968750e-01,  1.13281250e-01,  5.95703125e-02, -6.39648438e-02,\n",
       "        9.96093750e-02, -2.72216797e-02,  1.96533203e-02,  4.27246094e-02,\n",
       "       -2.46093750e-01,  6.39648438e-02, -2.25585938e-01, -1.68945312e-01,\n",
       "        2.89916992e-03,  8.20312500e-02,  3.41796875e-01,  4.32128906e-02,\n",
       "        1.32812500e-01,  1.42578125e-01,  7.61718750e-02,  5.98144531e-02,\n",
       "       -1.19140625e-01,  2.74658203e-03, -6.29882812e-02, -2.72216797e-02,\n",
       "       -4.82177734e-03, -8.20312500e-02, -2.49023438e-02, -4.00390625e-01,\n",
       "       -1.06933594e-01,  4.24804688e-02,  7.76367188e-02, -1.16699219e-01,\n",
       "        7.37304688e-02, -9.22851562e-02,  1.07910156e-01,  1.58203125e-01,\n",
       "        4.24804688e-02,  1.26953125e-01,  3.61328125e-02,  2.67578125e-01,\n",
       "       -1.01074219e-01, -3.02734375e-01, -5.76171875e-02,  5.05371094e-02,\n",
       "        5.26428223e-04, -2.07031250e-01, -1.38671875e-01, -8.97216797e-03,\n",
       "       -2.78320312e-02, -1.41601562e-01,  2.07031250e-01, -1.58203125e-01,\n",
       "        1.27929688e-01,  1.49414062e-01, -2.24609375e-02, -8.44726562e-02,\n",
       "        1.22558594e-01,  2.15820312e-01, -2.13867188e-01, -3.12500000e-01,\n",
       "       -3.73046875e-01,  4.08935547e-03,  1.07421875e-01,  1.06933594e-01,\n",
       "        7.32421875e-02,  8.97216797e-03, -3.88183594e-02, -1.29882812e-01,\n",
       "        1.49414062e-01, -2.14843750e-01, -1.83868408e-03,  9.91210938e-02,\n",
       "        1.57226562e-01, -1.14257812e-01, -2.05078125e-01,  9.91210938e-02,\n",
       "        3.69140625e-01, -1.97265625e-01,  3.54003906e-02,  1.09375000e-01,\n",
       "        1.31835938e-01,  1.66992188e-01,  2.35351562e-01,  1.04980469e-01,\n",
       "       -4.96093750e-01, -1.64062500e-01, -1.56250000e-01, -5.22460938e-02,\n",
       "        1.03027344e-01,  2.43164062e-01, -1.88476562e-01,  5.07812500e-02,\n",
       "       -9.37500000e-02, -6.68945312e-02,  2.27050781e-02,  7.61718750e-02,\n",
       "        2.89062500e-01,  3.10546875e-01, -5.37109375e-02,  2.28515625e-01,\n",
       "        2.51464844e-02,  6.78710938e-02, -1.21093750e-01, -2.15820312e-01,\n",
       "       -2.73437500e-01, -3.07617188e-02, -3.37890625e-01,  1.53320312e-01,\n",
       "        2.33398438e-01, -2.08007812e-01,  3.73046875e-01,  8.20312500e-02,\n",
       "        2.51953125e-01, -7.61718750e-02, -4.66308594e-02, -2.23388672e-02,\n",
       "        2.99072266e-02, -5.93261719e-02, -4.66918945e-03, -2.44140625e-01,\n",
       "       -2.09960938e-01, -2.87109375e-01, -4.54101562e-02, -1.77734375e-01,\n",
       "       -2.79296875e-01, -8.59375000e-02,  9.13085938e-02,  2.51953125e-01],\n",
       "      dtype=float32)"
      ]
     },
     "execution_count": 3,
     "metadata": {},
     "output_type": "execute_result"
    }
   ],
   "source": [
    "vec_king = wv['king']\n",
    "vec_king"
   ]
  },
  {
   "cell_type": "markdown",
   "id": "9527bc72",
   "metadata": {},
   "source": [
    "#### Wortähnlichkeit und Wortassoziationen"
   ]
  },
  {
   "cell_type": "code",
   "execution_count": 4,
   "id": "34ade0ac",
   "metadata": {},
   "outputs": [
    {
     "name": "stdout",
     "output_type": "stream",
     "text": [
      "[('kings', 0.7138046622276306), ('queen', 0.6510956883430481), ('monarch', 0.6413194537162781), ('crown_prince', 0.6204220056533813), ('prince', 0.6159993410110474), ('sultan', 0.5864824056625366), ('ruler', 0.5797566771507263), ('princes', 0.5646551847457886), ('Prince_Paras', 0.5432944297790527), ('throne', 0.5422104597091675)]\n"
     ]
    }
   ],
   "source": [
    "print(wv.most_similar(positive=['king'], topn=10))"
   ]
  },
  {
   "cell_type": "code",
   "execution_count": 5,
   "id": "0c1d176f",
   "metadata": {},
   "outputs": [
    {
     "name": "stdout",
     "output_type": "stream",
     "text": [
      "[('Hogwart', 0.7789777517318726), ('Death_Eaters', 0.6555673480033875), ('wizarding', 0.6494502425193787), ('Dumbledore', 0.6284919381141663), ('Harry_Daniel_Radcliffe', 0.6209906935691833), ('headmaster_Dumbledore', 0.6206334233283997), ('Hermione', 0.619870126247406), ('Voldemort', 0.6164700388908386), ('Harry_Potter', 0.6097619533538818), ('dementors', 0.6092057228088379)]\n"
     ]
    }
   ],
   "source": [
    "print(wv.most_similar(positive=['Hogwarts'], topn=10))"
   ]
  },
  {
   "cell_type": "code",
   "execution_count": 6,
   "id": "18f32734",
   "metadata": {},
   "outputs": [
    {
     "data": {
      "text/plain": [
       "0.62849194"
      ]
     },
     "execution_count": 6,
     "metadata": {},
     "output_type": "execute_result"
    }
   ],
   "source": [
    "wv.similarity('Hogwarts', 'Dumbledore')"
   ]
  },
  {
   "cell_type": "code",
   "execution_count": 7,
   "id": "48503997",
   "metadata": {},
   "outputs": [
    {
     "data": {
      "text/plain": [
       "0.29181698"
      ]
     },
     "execution_count": 7,
     "metadata": {},
     "output_type": "execute_result"
    }
   ],
   "source": [
    "wv.similarity('Hogwarts', 'Sunnydale') # fictional setting for Buffy the Vampire Slayer "
   ]
  },
  {
   "cell_type": "code",
   "execution_count": 8,
   "id": "1a7d5125",
   "metadata": {},
   "outputs": [
    {
     "data": {
      "text/plain": [
       "[('queen', 0.7118192911148071)]"
      ]
     },
     "execution_count": 8,
     "metadata": {},
     "output_type": "execute_result"
    }
   ],
   "source": [
    "wv.most_similar(positive=['king', 'woman'], negative=['man'], topn=1)"
   ]
  },
  {
   "cell_type": "code",
   "execution_count": 9,
   "id": "b4eea5b2",
   "metadata": {},
   "outputs": [
    {
     "data": {
      "text/plain": [
       "[('becuase', 0.6815075278282166),\n",
       " ('becasue', 0.6744951605796814),\n",
       " ('cuz', 0.6165346503257751),\n",
       " ('becuz', 0.6027254462242126),\n",
       " ('coz', 0.580410361289978),\n",
       " ('b_c', 0.5737689733505249),\n",
       " ('tho', 0.5647958517074585),\n",
       " ('beacause', 0.5630674362182617),\n",
       " ('thats', 0.5605655908584595),\n",
       " ('lol', 0.5597798824310303)]"
      ]
     },
     "execution_count": 9,
     "metadata": {},
     "output_type": "execute_result"
    }
   ],
   "source": [
    "wv.most_similar(positive=['because','teh'],negative=['the'])"
   ]
  },
  {
   "cell_type": "markdown",
   "id": "dbd944d1",
   "metadata": {},
   "source": [
    "#### Analogien \n",
    "\n",
    "* 'Man' : 'King' = 'Woman': ?\n",
    "* 'Man' verhält sich zu 'King' wie 'Woman' zu .....?\n",
    "\n",
    "* vec(\"king\") - vec(\"man\") + vec(\"woman\") =~ vec(\"queen\")"
   ]
  },
  {
   "cell_type": "code",
   "execution_count": 10,
   "id": "615410c7",
   "metadata": {},
   "outputs": [
    {
     "data": {
      "text/plain": [
       "[('queen', 0.7118192911148071)]"
      ]
     },
     "execution_count": 10,
     "metadata": {},
     "output_type": "execute_result"
    }
   ],
   "source": [
    "wv.most_similar(positive=['king', 'woman'], negative=['man'], topn=1)"
   ]
  },
  {
   "cell_type": "code",
   "execution_count": 11,
   "id": "eae13635",
   "metadata": {},
   "outputs": [
    {
     "data": {
      "text/plain": [
       "[('tapas', 0.6775947213172913)]"
      ]
     },
     "execution_count": 11,
     "metadata": {},
     "output_type": "execute_result"
    }
   ],
   "source": [
    "wv.most_similar(positive=['sushi', 'Spain'], negative=['Japan'], topn=1)"
   ]
  },
  {
   "cell_type": "code",
   "execution_count": 12,
   "id": "71d5c41c",
   "metadata": {},
   "outputs": [
    {
     "data": {
      "text/plain": [
       "[('homemaker', 0.5627119541168213)]"
      ]
     },
     "execution_count": 12,
     "metadata": {},
     "output_type": "execute_result"
    }
   ],
   "source": [
    "wv.most_similar(positive=['computer_programmer', 'woman'], negative=['man'], topn=1)"
   ]
  },
  {
   "cell_type": "markdown",
   "id": "cf5dfe78",
   "metadata": {},
   "source": [
    "#### ... aber auch Bias!"
   ]
  },
  {
   "cell_type": "code",
   "execution_count": 13,
   "id": "88218cd4",
   "metadata": {},
   "outputs": [
    {
     "data": {
      "text/plain": [
       "[('knitting_needle', 0.5527439117431641)]"
      ]
     },
     "execution_count": 13,
     "metadata": {},
     "output_type": "execute_result"
    }
   ],
   "source": [
    "wv.most_similar(positive=['screwdriver', 'she'], negative=['he'], topn=1)"
   ]
  },
  {
   "cell_type": "markdown",
   "id": "945b97ac",
   "metadata": {},
   "source": [
    "#### Crappie vs Guitar\n",
    "    \n",
    "![Image of a Crappie](https://upload.wikimedia.org/wikipedia/commons/thumb/4/4e/Pomoxis_nigromaculatus1.jpg/300px-Pomoxis_nigromaculatus1.jpg) "
   ]
  },
  {
   "cell_type": "code",
   "execution_count": 14,
   "id": "f2f1ff4c",
   "metadata": {},
   "outputs": [
    {
     "data": {
      "text/plain": [
       "0.8140925616025925"
      ]
     },
     "execution_count": 14,
     "metadata": {},
     "output_type": "execute_result"
    }
   ],
   "source": [
    "wv.distance('crappie', 'guitar')"
   ]
  },
  {
   "cell_type": "markdown",
   "id": "af13b7de",
   "metadata": {},
   "source": [
    "#### \"Dumb disambiguation\" as vector sum with word2vec"
   ]
  },
  {
   "cell_type": "code",
   "execution_count": 15,
   "id": "4384a030",
   "metadata": {},
   "outputs": [
    {
     "name": "stdout",
     "output_type": "stream",
     "text": [
      "[('trout', 0.7888783812522888), ('striped_bass', 0.7623767256736755), ('largemouth_bass', 0.7479658126831055), ('crappie', 0.739653468132019), ('catfish', 0.7386457324028015), ('largemouth', 0.7284579873085022), ('smallmouth_bass', 0.7273966670036316), ('smallmouth', 0.7260484099388123), ('redfish', 0.7245889902114868), ('largemouths', 0.7244795560836792)]\n"
     ]
    }
   ],
   "source": [
    "print(wv.most_similar(positive=['bass','fish'], topn=10))"
   ]
  },
  {
   "cell_type": "code",
   "execution_count": 16,
   "id": "c6c158d6",
   "metadata": {},
   "outputs": [
    {
     "name": "stdout",
     "output_type": "stream",
     "text": [
      "[('playing', 0.6247290968894958), ('plays', 0.5736489295959473), ('played', 0.5574871897697449), ('acoustic_bass', 0.541383683681488), ('fingerstyle', 0.5367710590362549), ('topwater_bites', 0.5350249409675598), ('Spotted_bass', 0.5315738320350647), ('chordal_instrument', 0.5237420797348022), ('tenor_banjo', 0.5212451815605164), ('Niels_Henning_Orsted_Pedersen', 0.5189350247383118)]\n"
     ]
    }
   ],
   "source": [
    "print(wv.most_similar(positive=['bass','play'], topn=10))"
   ]
  },
  {
   "cell_type": "markdown",
   "id": "77bf7035",
   "metadata": {},
   "source": [
    "### Word Embeddings mit SpaCy"
   ]
  },
  {
   "cell_type": "code",
   "execution_count": 17,
   "id": "f8df8f12",
   "metadata": {},
   "outputs": [],
   "source": [
    "import spacy\n",
    "nlp_lg = spacy.load('en_core_web_lg')"
   ]
  },
  {
   "cell_type": "code",
   "execution_count": 18,
   "id": "f08188fb",
   "metadata": {},
   "outputs": [],
   "source": [
    "text1 = \"She learned to play the bass and joined a band\"\n",
    "text2 = \"She went to her favorite fish restaurant and ordered the bass\"\n",
    "\n",
    "doc1_lg = nlp_lg(text1)\n",
    "doc2_lg = nlp_lg(text2)"
   ]
  },
  {
   "cell_type": "code",
   "execution_count": 19,
   "id": "1162a775",
   "metadata": {},
   "outputs": [],
   "source": [
    "bass1_lg = doc1_lg[5]"
   ]
  },
  {
   "cell_type": "code",
   "execution_count": 20,
   "id": "12ae3f7f",
   "metadata": {},
   "outputs": [],
   "source": [
    "bass2_lg = doc2_lg[10]"
   ]
  },
  {
   "cell_type": "code",
   "execution_count": 21,
   "id": "2fa70944",
   "metadata": {},
   "outputs": [
    {
     "data": {
      "text/plain": [
       "array([-1.9977 , -1.0515 ,  1.9286 ,  3.7206 , -0.16152, -1.2849 ,\n",
       "       -2.2769 , -0.15887, -3.7156 , -0.44295,  1.0265 , -1.9462 ,\n",
       "       -2.1289 , -0.74129,  4.0834 , -7.9771 ,  4.6809 ,  3.0406 ,\n",
       "        8.7441 ,  2.2193 ,  1.8363 ,  0.02707,  6.9868 , -3.906  ,\n",
       "        5.8547 ,  3.2925 , -5.5755 ,  0.22354,  4.2541 ,  0.50485],\n",
       "      dtype=float32)"
      ]
     },
     "execution_count": 21,
     "metadata": {},
     "output_type": "execute_result"
    }
   ],
   "source": [
    "bass1_lg.vector[:30]"
   ]
  },
  {
   "cell_type": "code",
   "execution_count": 22,
   "id": "24af2ef7",
   "metadata": {},
   "outputs": [
    {
     "data": {
      "text/plain": [
       "array([-1.9977 , -1.0515 ,  1.9286 ,  3.7206 , -0.16152, -1.2849 ,\n",
       "       -2.2769 , -0.15887, -3.7156 , -0.44295,  1.0265 , -1.9462 ,\n",
       "       -2.1289 , -0.74129,  4.0834 , -7.9771 ,  4.6809 ,  3.0406 ,\n",
       "        8.7441 ,  2.2193 ,  1.8363 ,  0.02707,  6.9868 , -3.906  ,\n",
       "        5.8547 ,  3.2925 , -5.5755 ,  0.22354,  4.2541 ,  0.50485],\n",
       "      dtype=float32)"
      ]
     },
     "execution_count": 22,
     "metadata": {},
     "output_type": "execute_result"
    }
   ],
   "source": [
    "bass2_lg.vector[:30]"
   ]
  },
  {
   "cell_type": "code",
   "execution_count": 23,
   "id": "85a0922d",
   "metadata": {},
   "outputs": [
    {
     "data": {
      "text/plain": [
       "1.0"
      ]
     },
     "execution_count": 23,
     "metadata": {},
     "output_type": "execute_result"
    }
   ],
   "source": [
    "# Compare the similarity of the two meanings of 'bass'\n",
    "bass1_lg.similarity(bass2_lg)"
   ]
  },
  {
   "cell_type": "markdown",
   "id": "d5118d93",
   "metadata": {},
   "source": [
    "### 10.2 Contextuelle Embeddings\n",
    "\n",
    "Quelle: https://applied-language-technology.mooc.fi/html/notebooks/part_iii/05_embeddings_continued.html\n",
    "\n",
    "Sie sollen spacy-transformers installieren - ein Wrapper für Hugging Face’s transformers package"
   ]
  },
  {
   "cell_type": "code",
   "execution_count": 28,
   "id": "9dbc2c1b",
   "metadata": {},
   "outputs": [],
   "source": [
    "import spacy\n",
    "\n",
    "nlp_trf = spacy.load(\"en_core_web_trf\")"
   ]
  },
  {
   "cell_type": "code",
   "execution_count": 29,
   "id": "aef97c77",
   "metadata": {},
   "outputs": [
    {
     "data": {
      "text/plain": [
       "[('transformer',\n",
       "  <spacy_transformers.pipeline_component.Transformer at 0x7fe353e5c700>),\n",
       " ('tagger', <spacy.pipeline.tagger.Tagger at 0x7fe353e5c100>),\n",
       " ('parser', <spacy.pipeline.dep_parser.DependencyParser at 0x7fe323403370>),\n",
       " ('attribute_ruler',\n",
       "  <spacy.pipeline.attributeruler.AttributeRuler at 0x7fe357e4cf00>),\n",
       " ('lemmatizer',\n",
       "  <spacy.lang.en.lemmatizer.EnglishLemmatizer at 0x7fe350df4840>),\n",
       " ('ner', <spacy.pipeline.ner.EntityRecognizer at 0x7fe323403290>)]"
      ]
     },
     "execution_count": 29,
     "metadata": {},
     "output_type": "execute_result"
    }
   ],
   "source": [
    "# Call the 'pipeline' attribute to examine the processing pipeline\n",
    "# Am Anfang ist die Transformer-Component\n",
    "\n",
    "nlp_trf.pipeline"
   ]
  },
  {
   "cell_type": "code",
   "execution_count": 30,
   "id": "1ff3503a",
   "metadata": {},
   "outputs": [
    {
     "name": "stderr",
     "output_type": "stream",
     "text": [
      "/Users/alessandra/anaconda3/lib/python3.10/site-packages/torch/amp/autocast_mode.py:198: UserWarning: User provided device_type of 'cuda', but CUDA is not available. Disabling\n",
      "  warnings.warn('User provided device_type of \\'cuda\\', but CUDA is not available. Disabling')\n"
     ]
    }
   ],
   "source": [
    "text1 = \"She learned to play the bass and joined a band\"\n",
    "text2 = \"She went to her favorite fish restaurant and ordered the bass\"\n",
    "\n",
    "doc1_trf = nlp_trf(text1)\n",
    "doc2_trf = nlp_trf(text2)"
   ]
  },
  {
   "cell_type": "code",
   "execution_count": 31,
   "id": "d1dcf552",
   "metadata": {},
   "outputs": [
    {
     "data": {
      "text/plain": [
       "10"
      ]
     },
     "execution_count": 31,
     "metadata": {},
     "output_type": "execute_result"
    }
   ],
   "source": [
    "doc1_trf.__len__() # token length"
   ]
  },
  {
   "cell_type": "code",
   "execution_count": 32,
   "id": "cc813acf",
   "metadata": {},
   "outputs": [
    {
     "data": {
      "text/plain": [
       "11"
      ]
     },
     "execution_count": 32,
     "metadata": {},
     "output_type": "execute_result"
    }
   ],
   "source": [
    "doc2_trf.__len__() # token length"
   ]
  },
  {
   "cell_type": "code",
   "execution_count": 33,
   "id": "4cac40fa",
   "metadata": {},
   "outputs": [
    {
     "data": {
      "text/plain": [
       "spacy_transformers.data_classes.TransformerData"
      ]
     },
     "execution_count": 33,
     "metadata": {},
     "output_type": "execute_result"
    }
   ],
   "source": [
    "type(doc1_trf._.trf_data) # Transformer Data Object"
   ]
  },
  {
   "cell_type": "markdown",
   "id": "a6018699",
   "metadata": {},
   "source": [
    "### Vortrainierte Räpresentationen\n",
    "\n",
    "... als Tokensammlung:"
   ]
  },
  {
   "cell_type": "code",
   "execution_count": 34,
   "id": "e63ff422",
   "metadata": {},
   "outputs": [
    {
     "data": {
      "text/plain": [
       "(1, 12, 768)"
      ]
     },
     "execution_count": 34,
     "metadata": {},
     "output_type": "execute_result"
    }
   ],
   "source": [
    "doc1_trf._.trf_data.tensors[0].shape"
   ]
  },
  {
   "cell_type": "markdown",
   "id": "e22806d8",
   "metadata": {},
   "source": [
    "eine \"Batch\" von 12 Vektoren (12 Tokens) mit jeweils 768 Dimensionen.\n",
    "\n",
    "... als Sentence-Vektor:"
   ]
  },
  {
   "cell_type": "code",
   "execution_count": 35,
   "id": "68810bf0",
   "metadata": {},
   "outputs": [
    {
     "data": {
      "text/plain": [
       "(1, 768)"
      ]
     },
     "execution_count": 35,
     "metadata": {},
     "output_type": "execute_result"
    }
   ],
   "source": [
    "doc1_trf._.trf_data.tensors[1].shape"
   ]
  },
  {
   "cell_type": "markdown",
   "id": "987956ba",
   "metadata": {},
   "source": [
    "ein Vektor mit jeweils 768 Dimensionen.\n",
    "\n",
    "Warum 12 Vektoren für 10 Tokens? Transformer-Modelle haben eine leicht unterschiedliche Tokenisierung"
   ]
  },
  {
   "cell_type": "code",
   "execution_count": 36,
   "id": "c8093708",
   "metadata": {},
   "outputs": [
    {
     "data": {
      "text/plain": [
       "[['<s>',\n",
       "  'She',\n",
       "  'Ġlearned',\n",
       "  'Ġto',\n",
       "  'Ġplay',\n",
       "  'Ġthe',\n",
       "  'Ġbass',\n",
       "  'Ġand',\n",
       "  'Ġjoined',\n",
       "  'Ġa',\n",
       "  'Ġband',\n",
       "  '</s>']]"
      ]
     },
     "execution_count": 36,
     "metadata": {},
     "output_type": "execute_result"
    }
   ],
   "source": [
    "doc1_trf._.trf_data.tokens['input_texts']"
   ]
  },
  {
   "cell_type": "code",
   "execution_count": 37,
   "id": "eef2dbff",
   "metadata": {},
   "outputs": [],
   "source": [
    "text3 = \"Helsinki is the capital of Finland\"\n",
    "doc3_trf = nlp_trf(text3)"
   ]
  },
  {
   "cell_type": "code",
   "execution_count": 38,
   "id": "2ef85965",
   "metadata": {},
   "outputs": [
    {
     "data": {
      "text/plain": [
       "[['<s>',\n",
       "  'H',\n",
       "  'els',\n",
       "  'inki',\n",
       "  'Ġis',\n",
       "  'Ġthe',\n",
       "  'Ġcapital',\n",
       "  'Ġof',\n",
       "  'ĠFinland',\n",
       "  '</s>']]"
      ]
     },
     "execution_count": 38,
     "metadata": {},
     "output_type": "execute_result"
    }
   ],
   "source": [
    "doc3_trf._.trf_data.tokens['input_texts'] "
   ]
  },
  {
   "cell_type": "markdown",
   "id": "a8d14539",
   "metadata": {},
   "source": [
    "nicht so häufige Wörter sind auf Sub-Wörten zerlegt, 'Ġ' wird zur Kennzeichnung von Leerzeichen verwendet"
   ]
  },
  {
   "cell_type": "markdown",
   "id": "7119064e",
   "metadata": {},
   "source": [
    "### Alignment zwischen Spacy-Tokens und Transformer-Tokens\n",
    "\n",
    "Um die Spacy-Tokens und die Transformer-Tokens abzugleichen, verwenden wir das Attribut \"align\""
   ]
  },
  {
   "cell_type": "code",
   "execution_count": 39,
   "id": "733197d7",
   "metadata": {},
   "outputs": [
    {
     "data": {
      "text/plain": [
       "(Helsinki,\n",
       " array([[1],\n",
       "        [2],\n",
       "        [3]], dtype=int32))"
      ]
     },
     "execution_count": 39,
     "metadata": {},
     "output_type": "execute_result"
    }
   ],
   "source": [
    "doc3_trf[0], doc3_trf._.trf_data.align[0].data"
   ]
  },
  {
   "cell_type": "code",
   "execution_count": 40,
   "id": "67baa9f9",
   "metadata": {},
   "outputs": [
    {
     "data": {
      "text/plain": [
       "(capital, array([[6]], dtype=int32))"
      ]
     },
     "execution_count": 40,
     "metadata": {},
     "output_type": "execute_result"
    }
   ],
   "source": [
    "doc3_trf[3], doc3_trf._.trf_data.align[3].data"
   ]
  },
  {
   "cell_type": "markdown",
   "id": "fead4318",
   "metadata": {},
   "source": [
    "#### Alignment für \"bass\" Sätze"
   ]
  },
  {
   "cell_type": "code",
   "execution_count": 41,
   "id": "2f8dd921",
   "metadata": {},
   "outputs": [
    {
     "data": {
      "text/plain": [
       "She learned to play the bass and joined a band"
      ]
     },
     "execution_count": 41,
     "metadata": {},
     "output_type": "execute_result"
    }
   ],
   "source": [
    "doc1_trf"
   ]
  },
  {
   "cell_type": "code",
   "execution_count": 42,
   "id": "6a19a6d9",
   "metadata": {},
   "outputs": [
    {
     "data": {
      "text/plain": [
       "bass"
      ]
     },
     "execution_count": 42,
     "metadata": {},
     "output_type": "execute_result"
    }
   ],
   "source": [
    "# bass als Instrument\n",
    "doc1_trf[5]"
   ]
  },
  {
   "cell_type": "code",
   "execution_count": 43,
   "id": "e397083d",
   "metadata": {},
   "outputs": [
    {
     "data": {
      "text/plain": [
       "6"
      ]
     },
     "execution_count": 43,
     "metadata": {},
     "output_type": "execute_result"
    }
   ],
   "source": [
    "# Transformer Token Nr\n",
    "n1 = doc1_trf._.trf_data.align[5].data[0][0]\n",
    "n1"
   ]
  },
  {
   "cell_type": "code",
   "execution_count": 44,
   "id": "91eedf4e",
   "metadata": {},
   "outputs": [
    {
     "data": {
      "text/plain": [
       "She went to her favorite fish restaurant and ordered the bass"
      ]
     },
     "execution_count": 44,
     "metadata": {},
     "output_type": "execute_result"
    }
   ],
   "source": [
    "doc2_trf"
   ]
  },
  {
   "cell_type": "code",
   "execution_count": 45,
   "id": "bcef515a",
   "metadata": {},
   "outputs": [
    {
     "data": {
      "text/plain": [
       "bass"
      ]
     },
     "execution_count": 45,
     "metadata": {},
     "output_type": "execute_result"
    }
   ],
   "source": [
    "# bass als Fisch\n",
    "doc2_trf[10]"
   ]
  },
  {
   "cell_type": "code",
   "execution_count": 46,
   "id": "cbff655e",
   "metadata": {},
   "outputs": [
    {
     "data": {
      "text/plain": [
       "11"
      ]
     },
     "execution_count": 46,
     "metadata": {},
     "output_type": "execute_result"
    }
   ],
   "source": [
    "# Transformer Token Nr\n",
    "n2 = doc2_trf._.trf_data.align[10].data[0][0]\n",
    "n2"
   ]
  },
  {
   "cell_type": "markdown",
   "id": "ac99f076",
   "metadata": {},
   "source": [
    "### Bass vs. bass"
   ]
  },
  {
   "cell_type": "code",
   "execution_count": 47,
   "id": "c20d2f7b",
   "metadata": {},
   "outputs": [
    {
     "data": {
      "text/plain": [
       "array([ 0.26807055, -1.508554  , -0.60347795,  1.9065542 ,  2.605329  ,\n",
       "        0.9219192 , -0.46964204,  0.5106118 , -0.19875261,  0.27527687,\n",
       "       -1.0029974 , -1.8395708 , -0.34004122,  0.9450486 ,  1.1553266 ,\n",
       "       -1.3235228 ,  2.2169526 , -1.012013  ,  1.1336058 ,  1.0907037 ,\n",
       "       -0.44728377, -2.457325  ,  0.73260254,  0.00731617,  0.30130714,\n",
       "        1.3202472 ,  0.39686862,  0.34239843,  1.2354615 , -1.5773274 ],\n",
       "      dtype=float32)"
      ]
     },
     "execution_count": 47,
     "metadata": {},
     "output_type": "execute_result"
    }
   ],
   "source": [
    "# [0]: es get um die einzelne Tokens\n",
    "# [0]: diese Batch besteht aus 1 Vektor\n",
    "# [n1]: token # n1\n",
    "# [:30]: die erste 30 Dimensionen\n",
    "doc1_trf._.trf_data.tensors[0][0][n1][:30]"
   ]
  },
  {
   "cell_type": "code",
   "execution_count": 48,
   "id": "c90a4245",
   "metadata": {},
   "outputs": [],
   "source": [
    "bass1_trf = doc1_trf._.trf_data.tensors[0][0][n1]"
   ]
  },
  {
   "cell_type": "code",
   "execution_count": 49,
   "id": "88ae7325",
   "metadata": {},
   "outputs": [
    {
     "data": {
      "text/plain": [
       "array([ 0.48879564, -1.1985157 , -0.39528474,  1.2869403 ,  1.2567066 ,\n",
       "        1.9768509 , -0.87547135,  0.6764189 , -0.02737204,  0.03502624,\n",
       "       -1.3747454 , -1.7706739 , -0.36914095,  0.74596727,  0.46084306,\n",
       "       -1.0485327 ,  2.596198  , -0.03518698,  1.084833  ,  1.2747976 ,\n",
       "        0.12945312, -1.9378859 ,  0.6463141 ,  0.23293847,  0.70158815,\n",
       "        1.4257596 ,  0.5985061 ,  0.32111108,  0.98047197, -0.53150326],\n",
       "      dtype=float32)"
      ]
     },
     "execution_count": 49,
     "metadata": {},
     "output_type": "execute_result"
    }
   ],
   "source": [
    "doc2_trf._.trf_data.tensors[0][0][n2][:30]"
   ]
  },
  {
   "cell_type": "code",
   "execution_count": 50,
   "id": "c20e04a7",
   "metadata": {},
   "outputs": [],
   "source": [
    "bass2_trf = doc2_trf._.trf_data.tensors[0][0][n2]"
   ]
  },
  {
   "cell_type": "code",
   "execution_count": 51,
   "id": "8bf0c4cb",
   "metadata": {},
   "outputs": [
    {
     "data": {
      "text/plain": [
       "0.86093944"
      ]
     },
     "execution_count": 51,
     "metadata": {},
     "output_type": "execute_result"
    }
   ],
   "source": [
    "from numpy import dot\n",
    "from numpy.linalg import norm\n",
    "\n",
    "cos_sim = dot(bass1_trf, bass2_trf)/(norm(bass1_trf)*norm(bass2_trf))\n",
    "cos_sim"
   ]
  },
  {
   "cell_type": "code",
   "execution_count": 119,
   "id": "e9cb287f",
   "metadata": {},
   "outputs": [],
   "source": [
    "doc_fish_trf = nlp_trf(\"I was just done fileting my fish\")\n",
    "doc_guitar_trf = nlp_trf(\"I was just done tuning my guitar\")"
   ]
  },
  {
   "cell_type": "code",
   "execution_count": 121,
   "id": "45ea52bb",
   "metadata": {},
   "outputs": [
    {
     "data": {
      "text/plain": [
       "fish"
      ]
     },
     "execution_count": 121,
     "metadata": {},
     "output_type": "execute_result"
    }
   ],
   "source": [
    "doc_fish_trf[6]"
   ]
  },
  {
   "cell_type": "code",
   "execution_count": 125,
   "id": "a15b5859",
   "metadata": {},
   "outputs": [
    {
     "data": {
      "text/plain": [
       "array([8], dtype=int32)"
      ]
     },
     "execution_count": 125,
     "metadata": {},
     "output_type": "execute_result"
    }
   ],
   "source": [
    "doc_fish_trf._.trf_data.align[6].data[0]"
   ]
  },
  {
   "cell_type": "code",
   "execution_count": 122,
   "id": "444b2f13",
   "metadata": {},
   "outputs": [
    {
     "data": {
      "text/plain": [
       "guitar"
      ]
     },
     "execution_count": 122,
     "metadata": {},
     "output_type": "execute_result"
    }
   ],
   "source": [
    "doc_guitar_trf[6]"
   ]
  },
  {
   "cell_type": "code",
   "execution_count": 126,
   "id": "e264a644",
   "metadata": {},
   "outputs": [
    {
     "data": {
      "text/plain": [
       "array([7], dtype=int32)"
      ]
     },
     "execution_count": 126,
     "metadata": {},
     "output_type": "execute_result"
    }
   ],
   "source": [
    "doc_guitar_trf._.trf_data.align[6].data[0]"
   ]
  },
  {
   "cell_type": "code",
   "execution_count": 127,
   "id": "943a1c06",
   "metadata": {},
   "outputs": [],
   "source": [
    "fish_trf = doc_fish_trf._.trf_data.tensors[0][0][8]\n",
    "guitar_trf = doc_guitar_trf._.trf_data.tensors[0][0][7]"
   ]
  },
  {
   "cell_type": "markdown",
   "id": "e71e8c9b",
   "metadata": {},
   "source": [
    "#### Bass als Fisch vs. Guitar"
   ]
  },
  {
   "cell_type": "code",
   "execution_count": 128,
   "id": "5b33e044",
   "metadata": {},
   "outputs": [
    {
     "data": {
      "text/plain": [
       "0.7972537"
      ]
     },
     "execution_count": 128,
     "metadata": {},
     "output_type": "execute_result"
    }
   ],
   "source": [
    "cos_sim = dot(bass2_trf, guitar_trf)/(norm(bass2_trf)*norm(guitar_trf))\n",
    "cos_sim"
   ]
  },
  {
   "cell_type": "markdown",
   "id": "bc314706",
   "metadata": {},
   "source": [
    "#### Bass als Instrument vs. Guitar"
   ]
  },
  {
   "cell_type": "code",
   "execution_count": 129,
   "id": "63ebf994",
   "metadata": {},
   "outputs": [
    {
     "data": {
      "text/plain": [
       "0.80724585"
      ]
     },
     "execution_count": 129,
     "metadata": {},
     "output_type": "execute_result"
    }
   ],
   "source": [
    "cos_sim = dot(bass1_trf, guitar_trf)/(norm(bass1_trf)*norm(guitar_trf))\n",
    "cos_sim"
   ]
  },
  {
   "cell_type": "markdown",
   "id": "eedc2bbf",
   "metadata": {},
   "source": [
    "#### Bass als Instrument vs. Fisch"
   ]
  },
  {
   "cell_type": "code",
   "execution_count": 130,
   "id": "ff47ae77",
   "metadata": {},
   "outputs": [
    {
     "data": {
      "text/plain": [
       "0.787453"
      ]
     },
     "execution_count": 130,
     "metadata": {},
     "output_type": "execute_result"
    }
   ],
   "source": [
    "cos_sim = dot(bass1_trf, fish_trf)/(norm(bass1_trf)*norm(fish_trf))\n",
    "cos_sim"
   ]
  },
  {
   "cell_type": "markdown",
   "id": "8773e825",
   "metadata": {},
   "source": [
    "#### Bass als Fisch vs. Crappie"
   ]
  },
  {
   "cell_type": "code",
   "execution_count": 131,
   "id": "46adc2cc",
   "metadata": {},
   "outputs": [
    {
     "data": {
      "text/plain": [
       "0.83117515"
      ]
     },
     "execution_count": 131,
     "metadata": {},
     "output_type": "execute_result"
    }
   ],
   "source": [
    "cos_sim = dot(bass2_trf, fish_trf)/(norm(bass2_trf)*norm(fish_trf))\n",
    "cos_sim"
   ]
  },
  {
   "cell_type": "markdown",
   "id": "442a8522",
   "metadata": {},
   "source": [
    "#### Crappie vs. Guitar"
   ]
  },
  {
   "cell_type": "code",
   "execution_count": 132,
   "id": "c1be791a",
   "metadata": {},
   "outputs": [
    {
     "data": {
      "text/plain": [
       "0.53351605"
      ]
     },
     "execution_count": 132,
     "metadata": {},
     "output_type": "execute_result"
    }
   ],
   "source": [
    "cos_sim = dot(crappie_trf, guitar_trf)/(norm(crappie_trf)*norm(guitar_trf))\n",
    "cos_sim"
   ]
  }
 ],
 "metadata": {
  "kernelspec": {
   "display_name": "Python 3 (ipykernel)",
   "language": "python",
   "name": "python3"
  },
  "language_info": {
   "codemirror_mode": {
    "name": "ipython",
    "version": 3
   },
   "file_extension": ".py",
   "mimetype": "text/x-python",
   "name": "python",
   "nbconvert_exporter": "python",
   "pygments_lexer": "ipython3",
   "version": "3.10.9"
  }
 },
 "nbformat": 4,
 "nbformat_minor": 5
}
