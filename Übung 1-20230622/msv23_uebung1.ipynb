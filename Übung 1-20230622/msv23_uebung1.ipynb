{
 "cells": [
  {
   "cell_type": "markdown",
   "id": "bba5e7d1",
   "metadata": {},
   "source": [
    "# MSV / SS 2023 - Übung 1"
   ]
  },
  {
   "cell_type": "markdown",
   "id": "ca2e8482",
   "metadata": {},
   "source": [
    "## 1.1 Reguläre Ausdrücke"
   ]
  },
  {
   "cell_type": "markdown",
   "id": "2c2b0d07",
   "metadata": {},
   "source": [
    "Um mit Python mit regulären Ausdrücken arbeiten zu können, importieren wir das Modul re"
   ]
  },
  {
   "cell_type": "code",
   "execution_count": 1,
   "id": "fcbc2ca9",
   "metadata": {},
   "outputs": [],
   "source": [
    "import re"
   ]
  },
  {
   "cell_type": "code",
   "execution_count": 2,
   "id": "cf2ba958",
   "metadata": {},
   "outputs": [],
   "source": [
    "rotkaeppchen_file = 'Rotkäppchen.txt'\n",
    "rotkaeppchen_txt = open(rotkaeppchen_file).read()\n",
    "# replace \\n with whitespace\n",
    "rotkaeppchen_txt = rotkaeppchen_txt.replace('\\n',' ')"
   ]
  },
  {
   "cell_type": "code",
   "execution_count": 3,
   "id": "39bf4f40",
   "metadata": {},
   "outputs": [
    {
     "name": "stdout",
     "output_type": "stream",
     "text": [
      "Es war einmal ein gar allerliebstes, niedliches Ding von einem Mädchen, das hatte eine Mutter und eine Großmutter, die waren gar gut und hatten das kleine Ding so lieb. Die Großmutter absonderlich, die wußte gar nicht, wie gut sie's mit dem Enkelchen meinen sollte, schenkt' ihm immer dies und das und hatte ihm auch ein feines Käppchen von rotem Sammet geschenkt, das stand dem Kind so überaus hübsch, und das wußte auch das kleine Mädchen und wollte nichts anderes mehr tragen, und darum hieß es bei alt und jung nur das Rotkäppchen. Mutter und Großmutter wohnten aber nicht beisammen in einem Häuschen, sondern eine halbe Stunde voneinander, und zwischen den beiden Häusern lag ein Wald. Da sprach eines Morgens die Mutter zum Rotkäppchen: »Liebes Rotkäppchen, Großmutter ist schwach und krank geworden und kann nicht zu uns kommen. Ich habe Kuchen gebacken, geh und bringe Großmutter von dem Kuchen und auch eine Flasche Wein, und grüße sie recht schön von mir, und sei recht vorsichtig, daß du n\n"
     ]
    }
   ],
   "source": [
    "print(rotkaeppchen_txt[0:1000])"
   ]
  },
  {
   "cell_type": "code",
   "execution_count": 4,
   "id": "9ff793a2",
   "metadata": {},
   "outputs": [
    {
     "name": "stdout",
     "output_type": "stream",
     "text": [
      "Wolf\n",
      "Wolfsbast\n",
      "Wolfsbeeren\n",
      "Wolfsmilch\n",
      "Wolfswurz\n",
      "Wolfsbauch\n"
     ]
    }
   ],
   "source": [
    "#Komposita mit \"Wolf\"\n",
    "W_words_all = re.findall(r'Wolf[\\w]*', rotkaeppchen_txt)\n",
    "\n",
    "W_words = []\n",
    "[W_words.append(x) for x in W_words_all if x not in W_words]\n",
    "\n",
    "for word in W_words:\n",
    "    print(word)"
   ]
  },
  {
   "cell_type": "code",
   "execution_count": 5,
   "id": "7ba6fde3",
   "metadata": {},
   "outputs": [
    {
     "name": "stdout",
     "output_type": "stream",
     "text": [
      "Es war einmal ein gar allerliebstes, niedliches Ding von einem Mädchen, das hatte eine Mutter und eine Großmutter, die waren gar gut und hatten das kleine Ding so lieb. Die Großmutter absonderlich, die wußte gar nicht, wie gut sie's mit dem Enkelchen meinen sollte, schenkt' ihm immer dies und das und hatte ihm auch ein feines Käppchen von rotem Sammet geschenkt, das stand dem Kind so überaus hübsch, und das wußte auch das kleine Mädchen und wollte nichts anderes mehr tragen, und darum hieß es bei alt und jung nur das Grünkäppchen. Mutter und Großmutter wohnten aber nicht beisammen in einem Häuschen, sondern eine halbe Stunde voneinander, und zwischen den beiden Häusern lag ein Wald. Da sprach eines Morgens die Mutter zum Grünkäppchen: »Liebes Grünkäppchen, Großmutter ist schwach und krank geworden und kann nicht zu uns kommen. Ich habe Kuchen gebacken, geh und bringe Großmutter von dem Kuchen und auch eine Flasche Wein, und grüße sie recht schön von mir, und sei recht vorsichtig, daß d\n"
     ]
    }
   ],
   "source": [
    "gruenkaeppchen_txt = re.sub(r'Rot', r'Grün', rotkaeppchen_txt)\n",
    "print(gruenkaeppchen_txt[0:1000])"
   ]
  },
  {
   "cell_type": "markdown",
   "id": "0e0e3891",
   "metadata": {},
   "source": [
    "### Eliza mit RegEx"
   ]
  },
  {
   "cell_type": "code",
   "execution_count": 6,
   "id": "f45bc539",
   "metadata": {},
   "outputs": [
    {
     "name": "stdout",
     "output_type": "stream",
     "text": [
      "They’re always bugging us about something or other\n"
     ]
    }
   ],
   "source": [
    "user1 = \"They’re always bugging us about something or other\"\n",
    "print(user1)"
   ]
  },
  {
   "cell_type": "code",
   "execution_count": 7,
   "id": "ae50dd1b",
   "metadata": {},
   "outputs": [
    {
     "name": "stdout",
     "output_type": "stream",
     "text": [
      "Can you think of a specific example?\n"
     ]
    }
   ],
   "source": [
    "reply_always = re.sub(r'.* always .*', r'Can you think of a specific example?', user1)\n",
    "print(reply_always)"
   ]
  },
  {
   "cell_type": "code",
   "execution_count": 8,
   "id": "5e784abb",
   "metadata": {},
   "outputs": [
    {
     "name": "stdout",
     "output_type": "stream",
     "text": [
      "I'm sad much of the time\n"
     ]
    }
   ],
   "source": [
    "user2 = \"I'm sad much of the time\"\n",
    "print(user2)"
   ]
  },
  {
   "cell_type": "code",
   "execution_count": 9,
   "id": "42fb9769",
   "metadata": {},
   "outputs": [
    {
     "name": "stdout",
     "output_type": "stream",
     "text": [
      "Sorry to hear you are sad\n"
     ]
    }
   ],
   "source": [
    "reply_sad = re.sub(r'.* (depressed|sad) .*', r'Sorry to hear you are \\1', user2)\n",
    "print(reply_sad)"
   ]
  },
  {
   "cell_type": "markdown",
   "id": "5c65bc1a",
   "metadata": {},
   "source": [
    "## 1.2 Tokens und Types und TTR mit re"
   ]
  },
  {
   "cell_type": "code",
   "execution_count": 10,
   "id": "d7514dd9",
   "metadata": {},
   "outputs": [],
   "source": [
    "my_lyrics = \"I can't get no satisfaction, 'Cause I try, and I try, and I try, and I try\""
   ]
  },
  {
   "cell_type": "markdown",
   "id": "8c607197",
   "metadata": {},
   "source": [
    "#### Tokenisierungsregel 1: Der Text wird an den Leerzeichen aufgetrennt."
   ]
  },
  {
   "cell_type": "code",
   "execution_count": 11,
   "id": "1fb75ba8",
   "metadata": {},
   "outputs": [
    {
     "name": "stdout",
     "output_type": "stream",
     "text": [
      "['I', \"can't\", 'get', 'no', 'satisfaction,', \"'Cause\", 'I', 'try,', 'and', 'I', 'try,', 'and', 'I', 'try,', 'and', 'I', 'try']\n"
     ]
    }
   ],
   "source": [
    "tokens = re.split(' ',my_lyrics)\n",
    "print(tokens)"
   ]
  },
  {
   "cell_type": "markdown",
   "id": "48f592d1",
   "metadata": {},
   "source": [
    "#### Tokenisierungsregel 2: Der Text wird an nicht alphanumerische Zeichen aufgetrennt."
   ]
  },
  {
   "cell_type": "code",
   "execution_count": 12,
   "id": "e4aa0ec9",
   "metadata": {},
   "outputs": [
    {
     "name": "stdout",
     "output_type": "stream",
     "text": [
      "['I', \"can't\", 'get', 'no', 'satisfaction', \"'Cause\", 'I', 'try', 'and', 'I', 'try', 'and', 'I', 'try', 'and', 'I', 'try']\n"
     ]
    }
   ],
   "source": [
    "tokens = re.findall(\"[\\w']+\", my_lyrics)\n",
    "print(tokens)"
   ]
  },
  {
   "cell_type": "code",
   "execution_count": 13,
   "id": "fff17715",
   "metadata": {},
   "outputs": [
    {
     "data": {
      "text/plain": [
       "17"
      ]
     },
     "execution_count": 13,
     "metadata": {},
     "output_type": "execute_result"
    }
   ],
   "source": [
    "len(tokens)"
   ]
  },
  {
   "cell_type": "markdown",
   "id": "9d2e5e9a",
   "metadata": {},
   "source": [
    "#### Types"
   ]
  },
  {
   "cell_type": "code",
   "execution_count": 14,
   "id": "1ddc1b33",
   "metadata": {},
   "outputs": [
    {
     "name": "stdout",
     "output_type": "stream",
     "text": [
      "['I', \"can't\", 'get', 'no', 'satisfaction', \"'Cause\", 'try', 'and']\n"
     ]
    }
   ],
   "source": [
    "types = [] \n",
    "[types.append(x) for x in tokens if x not in types] \n",
    "print(types)"
   ]
  },
  {
   "cell_type": "markdown",
   "id": "bed325c6",
   "metadata": {},
   "source": [
    "### Type Token Ratio: Halleluja vs. Let It Be"
   ]
  },
  {
   "cell_type": "code",
   "execution_count": 15,
   "id": "f7c8f93c",
   "metadata": {},
   "outputs": [],
   "source": [
    "halleluja = 'halleluja.txt'\n",
    "halleluja_lyrics = open(halleluja).read()\n",
    "# replace \\n with whitespace\n",
    "halleluja_lyrics=halleluja_lyrics.replace('\\n',' ')"
   ]
  },
  {
   "cell_type": "code",
   "execution_count": 16,
   "id": "61ab6e7a",
   "metadata": {},
   "outputs": [
    {
     "data": {
      "text/plain": [
       "\"Now I've heard there was a secret chord That David played, and it pleased the Lord But you don't really care for music, do you? It goes like this The fourth, the fifth The minor fall, the major lift The baffled king composing Hallelujah Hallelujah, Hallelujah, Hallelujah, Hallelujah  Your faith was strong, but you needed proof You saw her bathing on the roof Her beauty and the moonlight overthrew you She tied you To a kitchen chair She broke your throne and she cut your hair And from your lips she drew the Hallelujah Hallelujah, Hallelujah, Hallelujah, Hallelujah  You say I took the Name in vain I don't even know the Name But if I did, well really, what's it to you? There's a blaze of light In every word It doesn't matter which you heard The holy or the broken Hallelujah Hallelujah, Hallelujah, Hallelujah, Hallelujah  I did my best, it wasn't much I couldn't feel, so I tried to touch I've told the truth, I didn't come to fool you And even though It all went wrong I'll stand before the Lord of Song With nothing on my tongue but Hallelujah Hallelujah, Hallelujah, Hallelujah, Hallelujah Hallelujah, Hallelujah, Hallelujah, Hallelujah Hallelujah, Hallelujah, Hallelujah, Hallelujah Hallelujah, Hallelujah, Hallelujah, Hallelujah Hallelujah, Hallelujah... \""
      ]
     },
     "execution_count": 16,
     "metadata": {},
     "output_type": "execute_result"
    }
   ],
   "source": [
    "# (optional: print lyrics)\n",
    "halleluja_lyrics"
   ]
  },
  {
   "cell_type": "code",
   "execution_count": 17,
   "id": "6d358247",
   "metadata": {},
   "outputs": [],
   "source": [
    "letitbe = 'letitbe.txt'\n",
    "letitbe_lyrics = open(letitbe).read()\n",
    "# replace \\n with whitespace\n",
    "letitbe_lyrics=letitbe_lyrics.replace('\\n',' ')"
   ]
  },
  {
   "cell_type": "code",
   "execution_count": 18,
   "id": "a4da94fa",
   "metadata": {},
   "outputs": [
    {
     "data": {
      "text/plain": [
       "\"When I find myself in times of trouble, Mother Mary comes to me Speaking words of wisdom, let it be And in my hour of darkness she is standing right in front of me Speaking words of wisdom, let it be Let it be, let it be, let it be, let it be Whisper words of wisdom, let it be And when the broken hearted people living in the world agree There will be an answer, let it be For though they may be parted, there is still a chance that they will see There will be an answer, let it be Let it be, let it be, let it be, let it be There will be an answer, let it be Let it be, let it be, let it be, let it be Whisper words of wisdom, let it be Let it be, let it be, let it be, let it be Whisper words of wisdom, let it be, be And when the night is cloudy there is still a light that shines on me Shinin' until tomorrow, let it be I wake up to the sound of music, Mother Mary comes to me Speaking words of wisdom, let it be And let it be, let it be, let it be, let it be Whisper words of wisdom, let it be And let it be, let it be, let it be, let it be Whisper words of wisdom, let it be \""
      ]
     },
     "execution_count": 18,
     "metadata": {},
     "output_type": "execute_result"
    }
   ],
   "source": [
    "# (optional: print lyrics)\n",
    "letitbe_lyrics"
   ]
  },
  {
   "cell_type": "markdown",
   "id": "c02381ce",
   "metadata": {},
   "source": [
    "#### Tokens in Halleluja and Let it Be"
   ]
  },
  {
   "cell_type": "code",
   "execution_count": 19,
   "id": "8a28dcc1",
   "metadata": {},
   "outputs": [
    {
     "data": {
      "text/plain": [
       "210"
      ]
     },
     "execution_count": 19,
     "metadata": {},
     "output_type": "execute_result"
    }
   ],
   "source": [
    "halleluja_tokens = re.findall(\"[\\w']+\", halleluja_lyrics)\n",
    "len(halleluja_tokens)"
   ]
  },
  {
   "cell_type": "code",
   "execution_count": 20,
   "id": "01c5409e",
   "metadata": {},
   "outputs": [
    {
     "data": {
      "text/plain": [
       "242"
      ]
     },
     "execution_count": 20,
     "metadata": {},
     "output_type": "execute_result"
    }
   ],
   "source": [
    "letitbe_tokens = re.findall(\"[\\w']+\", letitbe_lyrics)\n",
    "len(letitbe_tokens)"
   ]
  },
  {
   "cell_type": "markdown",
   "id": "de04f209",
   "metadata": {},
   "source": [
    "#### Types in Halleluja and Let it Be"
   ]
  },
  {
   "cell_type": "code",
   "execution_count": 21,
   "id": "6ae84ef6",
   "metadata": {},
   "outputs": [
    {
     "data": {
      "text/plain": [
       "121"
      ]
     },
     "execution_count": 21,
     "metadata": {},
     "output_type": "execute_result"
    }
   ],
   "source": [
    "halleluja_types = [] \n",
    "[halleluja_types.append(x) for x in halleluja_tokens if x not in halleluja_types] \n",
    "len(halleluja_types)"
   ]
  },
  {
   "cell_type": "code",
   "execution_count": 22,
   "id": "eb5c870b",
   "metadata": {},
   "outputs": [
    {
     "name": "stdout",
     "output_type": "stream",
     "text": [
      "[\"I've\", 'heard', 'there', 'was', 'a', 'secret', 'chord', 'That', 'David', 'played', 'and', 'it', 'pleased', 'the', 'Lord', 'But', 'you', \"don't\", 'really', 'care', 'for', 'music', 'do', 'you', 'It', 'goes', 'like', 'this', 'The']\n",
      "[\"I've\", 'heard', 'there', 'was', 'a', 'secret', 'chord', 'That', 'David', 'played', 'and', 'it', 'pleased', 'the', 'Lord', 'But', 'you', \"don't\", 'really', 'care', 'for', 'music', 'do', 'It', 'goes', 'like', 'this', 'The', 'fourth']\n"
     ]
    }
   ],
   "source": [
    "print(halleluja_tokens[1:30])\n",
    "print(halleluja_types[1:30])"
   ]
  },
  {
   "cell_type": "code",
   "execution_count": 23,
   "id": "0e4fc4e0",
   "metadata": {},
   "outputs": [
    {
     "data": {
      "text/plain": [
       "65"
      ]
     },
     "execution_count": 23,
     "metadata": {},
     "output_type": "execute_result"
    }
   ],
   "source": [
    "letitbe_types = [] \n",
    "[letitbe_types.append(x) for x in letitbe_tokens if x not in letitbe_types] \n",
    "len(letitbe_types)"
   ]
  },
  {
   "cell_type": "code",
   "execution_count": 24,
   "id": "b0bbf915",
   "metadata": {},
   "outputs": [
    {
     "name": "stdout",
     "output_type": "stream",
     "text": [
      "['I', 'find', 'myself', 'in', 'times', 'of', 'trouble', 'Mother', 'Mary', 'comes', 'to', 'me', 'Speaking', 'words', 'of', 'wisdom', 'let', 'it', 'be', 'And', 'in', 'my', 'hour', 'of', 'darkness', 'she', 'is', 'standing', 'right']\n",
      "['I', 'find', 'myself', 'in', 'times', 'of', 'trouble', 'Mother', 'Mary', 'comes', 'to', 'me', 'Speaking', 'words', 'wisdom', 'let', 'it', 'be', 'And', 'my', 'hour', 'darkness', 'she', 'is', 'standing', 'right', 'front', 'Let', 'Whisper']\n"
     ]
    }
   ],
   "source": [
    "print(letitbe_tokens[1:30])\n",
    "print(letitbe_types[1:30])"
   ]
  },
  {
   "cell_type": "markdown",
   "id": "6e776562",
   "metadata": {},
   "source": [
    "#### TTR für Halleluja"
   ]
  },
  {
   "cell_type": "code",
   "execution_count": 25,
   "id": "4ef16677",
   "metadata": {},
   "outputs": [
    {
     "data": {
      "text/plain": [
       "0.5761904761904761"
      ]
     },
     "execution_count": 25,
     "metadata": {},
     "output_type": "execute_result"
    }
   ],
   "source": [
    "len(halleluja_types) / len(halleluja_tokens)"
   ]
  },
  {
   "cell_type": "markdown",
   "id": "827db49a",
   "metadata": {},
   "source": [
    "#### TTR für Let it Be"
   ]
  },
  {
   "cell_type": "code",
   "execution_count": 26,
   "id": "eeadc614",
   "metadata": {},
   "outputs": [
    {
     "data": {
      "text/plain": [
       "0.26859504132231404"
      ]
     },
     "execution_count": 26,
     "metadata": {},
     "output_type": "execute_result"
    }
   ],
   "source": [
    "len(letitbe_types) / len(letitbe_tokens)"
   ]
  },
  {
   "cell_type": "markdown",
   "id": "f912e5f5",
   "metadata": {},
   "source": [
    "## Hausaufgaben"
   ]
  },
  {
   "cell_type": "markdown",
   "id": "04c69d37",
   "metadata": {},
   "source": [
    "### Übung 1\n",
    "\n",
    "Schreiben Sie einen Regex der (möglichst genau) Email-Adressen der HSA erfasst.\n",
    "Wandeln Sie die Adressen in th-augsburg Adressen um"
   ]
  },
  {
   "cell_type": "code",
   "execution_count": null,
   "id": "ba6fe694",
   "metadata": {},
   "outputs": [],
   "source": []
  },
  {
   "cell_type": "markdown",
   "id": "ab579811",
   "metadata": {},
   "source": [
    "### Übung 2\n",
    "\n",
    "Erweitern Sie die Regeln, um die ELIZA-Fähigkeiten zu erweitern"
   ]
  },
  {
   "cell_type": "code",
   "execution_count": null,
   "id": "cc89777f",
   "metadata": {},
   "outputs": [],
   "source": []
  }
 ],
 "metadata": {
  "kernelspec": {
   "display_name": "Python 3 (ipykernel)",
   "language": "python",
   "name": "python3"
  },
  "language_info": {
   "codemirror_mode": {
    "name": "ipython",
    "version": 3
   },
   "file_extension": ".py",
   "mimetype": "text/x-python",
   "name": "python",
   "nbconvert_exporter": "python",
   "pygments_lexer": "ipython3",
   "version": "3.10.9"
  }
 },
 "nbformat": 4,
 "nbformat_minor": 5
}
