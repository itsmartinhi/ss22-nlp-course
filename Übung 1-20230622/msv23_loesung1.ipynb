{
 "cells": [
  {
   "cell_type": "markdown",
   "id": "5285aa43",
   "metadata": {},
   "source": [
    "# MSV / SS 2023 - Übung 1 - Lösung der Hausaufgaben"
   ]
  },
  {
   "cell_type": "markdown",
   "id": "0a958b55",
   "metadata": {},
   "source": [
    "### Übung 1 \n",
    "\n",
    "Schreiben Sie einen Regex der (möglichst genau) Email-Adressen der HSA erfasst.\n",
    "Wandeln Sie die Adressen in th-augsburg Adressen um"
   ]
  },
  {
   "cell_type": "code",
   "execution_count": 10,
   "id": "ec770f7d",
   "metadata": {},
   "outputs": [
    {
     "name": "stdout",
     "output_type": "stream",
     "text": [
      "Alessandra.Zarcone@hs-augsburg.de\n",
      "Zarcone@hs-augsburg.de\n",
      "Alessandra123.Zarcone@hs-augsburg.de\n",
      "123.Zarcone@hs-augsburg.de\n",
      "A_zarcone@hs-augsburg.de\n"
     ]
    }
   ],
   "source": [
    "import re\n",
    "\n",
    "find_email_text = (\"And my new email is Alessandra.Zarcone@hs-augsburg.de but\"\n",
    "               \"not .Zarcone@hs-augsburg.de or Alessandra.@hs-augsburg.de. It could\"\n",
    "               \"also be Alessandra123.Zarcone@hs-augsburg.de but\"\n",
    "               \"not .123.Zarcone@hs-augsburg.de and just in case it's relevant my old\"\n",
    "               \"mail at Fraunhofer was Alessandra.Zarcone@iis.fraunhofer.de but \"\n",
    "               \"not .Alessandra.Zarcone@iis.fraunhofer.de \"\n",
    "               \"but @another possible email address could be A_zarcone@fraunhofer.de or \"\n",
    "               \"A_zarcone@hs-augsburg.de but not _strangeemail@fraunhofer.de\")\n",
    "\n",
    "emails_hsa = re.findall(r'[a-zA-Z0-9]+[a-zA-Z0-9\\.\\-\\+\\_]*[a-zA-Z0-9]+@hs\\-augsburg\\.de', find_email_text)\n",
    "\n",
    "for matched_email in emails_hsa:\n",
    "    print(matched_email)"
   ]
  },
  {
   "cell_type": "code",
   "execution_count": 13,
   "id": "8fc63aac",
   "metadata": {},
   "outputs": [
    {
     "name": "stdout",
     "output_type": "stream",
     "text": [
      "Alessandra.Zarcone@th-augsburg.de\n",
      "Zarcone@th-augsburg.de\n",
      "Alessandra123.Zarcone@th-augsburg.de\n",
      "123.Zarcone@th-augsburg.de\n",
      "A_zarcone@th-augsburg.de\n"
     ]
    }
   ],
   "source": [
    "for matched_email in emails_hsa:\n",
    "    tha_address = re.sub(r'(.*)@hs\\-(.*)', r'\\1@th-\\2', matched_email)\n",
    "    print(tha_address)"
   ]
  },
  {
   "cell_type": "markdown",
   "id": "c80f4d8d",
   "metadata": {},
   "source": [
    "### Übung 2\n",
    "\n",
    "Erweitern Sie die Regeln, um die ELIZA-Fähigkeiten zu erweitern"
   ]
  },
  {
   "cell_type": "markdown",
   "id": "bbd9d95c",
   "metadata": {},
   "source": [
    "- men are all alike\n",
    "- in what way?"
   ]
  },
  {
   "cell_type": "code",
   "execution_count": 38,
   "id": "258e572e",
   "metadata": {},
   "outputs": [
    {
     "name": "stdout",
     "output_type": "stream",
     "text": [
      "men are all alike\n"
     ]
    }
   ],
   "source": [
    "user1 = \"men are all alike\"\n",
    "print(user1)"
   ]
  },
  {
   "cell_type": "code",
   "execution_count": 40,
   "id": "cf9f9438",
   "metadata": {},
   "outputs": [
    {
     "name": "stdout",
     "output_type": "stream",
     "text": [
      "in what way?\n"
     ]
    }
   ],
   "source": [
    "reply_areall = re.sub(r'.* are all .*', r'in what way?', user1)\n",
    "print(reply_areall)"
   ]
  },
  {
   "cell_type": "markdown",
   "id": "d49ba5c1",
   "metadata": {},
   "source": [
    "- my boyfriend made me come here\n",
    "- your boyfriend made you come here?"
   ]
  },
  {
   "cell_type": "code",
   "execution_count": 35,
   "id": "b25cc1e8",
   "metadata": {},
   "outputs": [
    {
     "name": "stdout",
     "output_type": "stream",
     "text": [
      "My boyfriend made me come here\n"
     ]
    }
   ],
   "source": [
    "user2 = \"My boyfriend made me come here\"\n",
    "print(user2)"
   ]
  },
  {
   "cell_type": "code",
   "execution_count": 36,
   "id": "ab260bd8",
   "metadata": {},
   "outputs": [
    {
     "name": "stdout",
     "output_type": "stream",
     "text": [
      "Your boyfriend made you come here?\n"
     ]
    }
   ],
   "source": [
    "reply_family = re.sub(r'[Mm]y (boyfriend|mother|father|husband) (.*)', r'Your \\1 \\2?', user2)\n",
    "reply_family = re.sub(r' me ', r' you ', reply_family)\n",
    "print(reply_family)"
   ]
  }
 ],
 "metadata": {
  "kernelspec": {
   "display_name": "Python 3 (ipykernel)",
   "language": "python",
   "name": "python3"
  },
  "language_info": {
   "codemirror_mode": {
    "name": "ipython",
    "version": 3
   },
   "file_extension": ".py",
   "mimetype": "text/x-python",
   "name": "python",
   "nbconvert_exporter": "python",
   "pygments_lexer": "ipython3",
   "version": "3.10.9"
  }
 },
 "nbformat": 4,
 "nbformat_minor": 5
}
