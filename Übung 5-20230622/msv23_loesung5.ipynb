{
 "cells": [
  {
   "cell_type": "markdown",
   "id": "bba5e7d1",
   "metadata": {},
   "source": [
    "# MSV / SS 2023 - Übung 5 - Lösung der Hausaufgaben"
   ]
  },
  {
   "cell_type": "markdown",
   "id": "4ae4723f",
   "metadata": {},
   "source": [
    "### Übung 5.1\n",
    "\n",
    "Bewerten Sie, wie ähnlich diese Konzepte sind:\n",
    "- car-automobile\n",
    "- boy-lad,\n",
    "- bird-crane, \n",
    "- monk-oracle, \n",
    "- shore-woodland, \n",
    "- rooster-voyage\n",
    "\n",
    "Ihre Bewertungen mit die WordNet-Ähnlichkeit vergleichen."
   ]
  },
  {
   "cell_type": "code",
   "execution_count": 3,
   "id": "29923777",
   "metadata": {},
   "outputs": [],
   "source": [
    "import nltk\n",
    "import numpy as np\n",
    "import pandas as pd"
   ]
  },
  {
   "cell_type": "code",
   "execution_count": 4,
   "id": "30505812",
   "metadata": {},
   "outputs": [
    {
     "name": "stderr",
     "output_type": "stream",
     "text": [
      "[nltk_data] Downloading package wordnet to\n",
      "[nltk_data]     /Users/alessandra/nltk_data...\n",
      "[nltk_data]   Package wordnet is already up-to-date!\n",
      "[nltk_data] Downloading package omw-1.4 to\n",
      "[nltk_data]     /Users/alessandra/nltk_data...\n",
      "[nltk_data]   Package omw-1.4 is already up-to-date!\n"
     ]
    },
    {
     "data": {
      "text/plain": [
       "True"
      ]
     },
     "execution_count": 4,
     "metadata": {},
     "output_type": "execute_result"
    }
   ],
   "source": [
    "nltk.download('wordnet')\n",
    "nltk.download('omw-1.4')"
   ]
  },
  {
   "cell_type": "code",
   "execution_count": 5,
   "id": "6f517ed1",
   "metadata": {},
   "outputs": [],
   "source": [
    "from nltk.corpus import wordnet as wn"
   ]
  },
  {
   "cell_type": "markdown",
   "id": "4d7ef416",
   "metadata": {},
   "source": [
    "- car-automobile - 1\n",
    "- boy-lad - 1\n",
    "- bird-crane - 0.9 \n",
    "- monk-oracle - 0.8\n",
    "- shore-woodland - 0.6\n",
    "- rooster-voyage - 0"
   ]
  },
  {
   "cell_type": "markdown",
   "id": "d7d21b90",
   "metadata": {},
   "source": [
    "#### car-automobile 1.0"
   ]
  },
  {
   "cell_type": "code",
   "execution_count": 8,
   "id": "2b03d27d",
   "metadata": {},
   "outputs": [
    {
     "name": "stdout",
     "output_type": "stream",
     "text": [
      "Synset('car.n.01') a motor vehicle with four wheels; usually propelled by an internal combustion engine\n",
      "Synset('car.n.02') a wheeled vehicle adapted to the rails of railroad\n",
      "Synset('car.n.03') the compartment that is suspended from an airship and that carries personnel and the cargo and the power plant\n",
      "Synset('car.n.04') where passengers ride up and down\n",
      "Synset('cable_car.n.01') a conveyance for passengers or freight on a cable railway\n"
     ]
    }
   ],
   "source": [
    "for ss in wn.synsets(\"car\"):\n",
    "    print(ss, ss.definition())"
   ]
  },
  {
   "cell_type": "code",
   "execution_count": 14,
   "id": "96111faf",
   "metadata": {},
   "outputs": [
    {
     "name": "stdout",
     "output_type": "stream",
     "text": [
      "Synset('car.n.01') a motor vehicle with four wheels; usually propelled by an internal combustion engine\n",
      "Synset('automobile.v.01') travel in an automobile\n"
     ]
    }
   ],
   "source": [
    "for ss in wn.synsets(\"automobile\"):\n",
    "    print(ss, ss.definition())"
   ]
  },
  {
   "cell_type": "code",
   "execution_count": 13,
   "id": "3f232905",
   "metadata": {},
   "outputs": [
    {
     "data": {
      "text/plain": [
       "1.0"
      ]
     },
     "execution_count": 13,
     "metadata": {},
     "output_type": "execute_result"
    }
   ],
   "source": [
    "car = wn.synset('car.n.01')\n",
    "automobile = wn.synset('car.n.01')\n",
    "car.path_similarity(automobile)"
   ]
  },
  {
   "cell_type": "markdown",
   "id": "dde09e8b",
   "metadata": {},
   "source": [
    "#### boy-lad 1.0"
   ]
  },
  {
   "cell_type": "code",
   "execution_count": 15,
   "id": "fce5286f",
   "metadata": {},
   "outputs": [
    {
     "name": "stdout",
     "output_type": "stream",
     "text": [
      "Synset('male_child.n.01') a youthful male person\n",
      "Synset('boy.n.02') a friendly informal reference to a grown man\n",
      "Synset('son.n.01') a male human offspring\n",
      "Synset('boy.n.04') (ethnic slur) offensive and disparaging term for Black man\n"
     ]
    }
   ],
   "source": [
    "for ss in wn.synsets(\"boy\"):\n",
    "    print(ss, ss.definition())"
   ]
  },
  {
   "cell_type": "code",
   "execution_count": 12,
   "id": "8cb8d1e5",
   "metadata": {},
   "outputs": [
    {
     "name": "stdout",
     "output_type": "stream",
     "text": [
      "Synset('chap.n.01') a boy or man\n",
      "Synset('cub.n.02') a male child (a familiar term of address to a boy)\n"
     ]
    }
   ],
   "source": [
    "for ss in wn.synsets(\"lad\"):\n",
    "    print(ss, ss.definition())"
   ]
  },
  {
   "cell_type": "code",
   "execution_count": 16,
   "id": "8a9c3c2a",
   "metadata": {},
   "outputs": [
    {
     "data": {
      "text/plain": [
       "0.3333333333333333"
      ]
     },
     "execution_count": 16,
     "metadata": {},
     "output_type": "execute_result"
    }
   ],
   "source": [
    "boy = wn.synset('boy.n.01')\n",
    "lad = wn.synset('chap.n.01')\n",
    "boy.path_similarity(lad)"
   ]
  },
  {
   "cell_type": "markdown",
   "id": "98abb567",
   "metadata": {},
   "source": [
    "#### bird-crane 0.9"
   ]
  },
  {
   "cell_type": "code",
   "execution_count": 17,
   "id": "a77c0c3a",
   "metadata": {},
   "outputs": [
    {
     "name": "stdout",
     "output_type": "stream",
     "text": [
      "Synset('bird.n.01') warm-blooded egg-laying vertebrates characterized by feathers and forelimbs modified as wings\n",
      "Synset('bird.n.02') the flesh of a bird or fowl (wild or domestic) used as food\n",
      "Synset('dame.n.01') informal terms for a (young) woman\n",
      "Synset('boo.n.01') a cry or noise made to express displeasure or contempt\n",
      "Synset('shuttlecock.n.01') badminton equipment consisting of a ball of cork or rubber with a crown of feathers\n",
      "Synset('bird.v.01') watch and study birds in their natural habitat\n"
     ]
    }
   ],
   "source": [
    "for ss in wn.synsets(\"bird\"):\n",
    "    print(ss, ss.definition())"
   ]
  },
  {
   "cell_type": "code",
   "execution_count": 18,
   "id": "42a74823",
   "metadata": {},
   "outputs": [
    {
     "name": "stdout",
     "output_type": "stream",
     "text": [
      "Synset('crane.n.01') United States writer (1871-1900)\n",
      "Synset('crane.n.02') United States poet (1899-1932)\n",
      "Synset('grus.n.01') a small constellation in the southern hemisphere near Phoenix\n",
      "Synset('crane.n.04') lifts and moves heavy objects; lifting tackle is suspended from a pivoted boom that rotates around a vertical axis\n",
      "Synset('crane.n.05') large long-necked wading bird of marshes and plains in many parts of the world\n",
      "Synset('crane.v.01') stretch (the neck) so as to see better\n"
     ]
    }
   ],
   "source": [
    "for ss in wn.synsets(\"crane\"):\n",
    "    print(ss, ss.definition())"
   ]
  },
  {
   "cell_type": "code",
   "execution_count": 19,
   "id": "23650fd7",
   "metadata": {},
   "outputs": [
    {
     "data": {
      "text/plain": [
       "0.25"
      ]
     },
     "execution_count": 19,
     "metadata": {},
     "output_type": "execute_result"
    }
   ],
   "source": [
    "bird = wn.synset('bird.n.01')\n",
    "crane = wn.synset('crane.n.05')\n",
    "bird.path_similarity(crane)"
   ]
  },
  {
   "cell_type": "markdown",
   "id": "8acb0c64",
   "metadata": {},
   "source": [
    "#### monk-oracle 0.8"
   ]
  },
  {
   "cell_type": "code",
   "execution_count": 21,
   "id": "8c36c5f3",
   "metadata": {},
   "outputs": [
    {
     "data": {
      "text/plain": [
       "0.125"
      ]
     },
     "execution_count": 21,
     "metadata": {},
     "output_type": "execute_result"
    }
   ],
   "source": [
    "monk = wn.synset('monk.n.01')\n",
    "oracle = wn.synset('oracle.n.01')\n",
    "monk.path_similarity(oracle)"
   ]
  },
  {
   "cell_type": "markdown",
   "id": "dbb772db",
   "metadata": {},
   "source": [
    "#### shore-woodland 0.6"
   ]
  },
  {
   "cell_type": "code",
   "execution_count": 22,
   "id": "f960ecdb",
   "metadata": {},
   "outputs": [
    {
     "data": {
      "text/plain": [
       "0.2"
      ]
     },
     "execution_count": 22,
     "metadata": {},
     "output_type": "execute_result"
    }
   ],
   "source": [
    "shore = wn.synset('shore.n.01')\n",
    "woodland = wn.synset('woodland.n.01')\n",
    "shore.path_similarity(woodland)"
   ]
  },
  {
   "cell_type": "markdown",
   "id": "59e5e071",
   "metadata": {},
   "source": [
    "#### rooster - voyage - 0"
   ]
  },
  {
   "cell_type": "code",
   "execution_count": 23,
   "id": "3af7abb5",
   "metadata": {},
   "outputs": [
    {
     "data": {
      "text/plain": [
       "0.041666666666666664"
      ]
     },
     "execution_count": 23,
     "metadata": {},
     "output_type": "execute_result"
    }
   ],
   "source": [
    "rooster = wn.synset('rooster.n.01')\n",
    "voyage = wn.synset('voyage.n.02')\n",
    "rooster.path_similarity(voyage)"
   ]
  },
  {
   "cell_type": "markdown",
   "id": "1f0f3e09",
   "metadata": {},
   "source": [
    "### Übung 5.2\n",
    "\n",
    "Analysieren Sie \n",
    "\n",
    "* die Word2vec Ähnlichkeitswerte einer synonymischen Wortpaar"
   ]
  },
  {
   "cell_type": "code",
   "execution_count": 25,
   "id": "fd956461",
   "metadata": {},
   "outputs": [],
   "source": [
    "import gensim\n",
    "import gensim.downloader as api\n",
    "wv = api.load('word2vec-google-news-300')"
   ]
  },
  {
   "cell_type": "code",
   "execution_count": 26,
   "id": "a68227b0",
   "metadata": {},
   "outputs": [
    {
     "data": {
      "text/plain": [
       "0.5974444"
      ]
     },
     "execution_count": 26,
     "metadata": {},
     "output_type": "execute_result"
    }
   ],
   "source": [
    "wv.similarity('rich', 'wealthy')"
   ]
  },
  {
   "cell_type": "code",
   "execution_count": 27,
   "id": "41debb1d",
   "metadata": {},
   "outputs": [
    {
     "data": {
      "text/plain": [
       "0.42903966"
      ]
     },
     "execution_count": 27,
     "metadata": {},
     "output_type": "execute_result"
    }
   ],
   "source": [
    "wv.similarity('rich', 'affluent')"
   ]
  },
  {
   "cell_type": "markdown",
   "id": "f20da8f7",
   "metadata": {},
   "source": [
    "* die Word2vec Ähnlichkeitswerte einer antonymische Wortpaar"
   ]
  },
  {
   "cell_type": "code",
   "execution_count": 28,
   "id": "331c13e3",
   "metadata": {},
   "outputs": [
    {
     "data": {
      "text/plain": [
       "0.37227997"
      ]
     },
     "execution_count": 28,
     "metadata": {},
     "output_type": "execute_result"
    }
   ],
   "source": [
    "wv.similarity('rich', 'poor')"
   ]
  },
  {
   "cell_type": "markdown",
   "id": "571e3762",
   "metadata": {},
   "source": [
    "* die Nachbarn im Vektorraum eines mehrdeutigen Wortes. Mithilfe von ``positive=[]`` versuchen sie, das Wort zu disambiguiren"
   ]
  },
  {
   "cell_type": "markdown",
   "id": "b60d1fde",
   "metadata": {},
   "source": [
    "#### z.B. Was für Bedeutungen hat \"mole\" auf English?\n",
    "\n",
    "![Image of a Mole](https://upload.wikimedia.org/wikipedia/commons/thumb/4/44/Kret_mole.jpg/301px-Kret_mole.jpg) "
   ]
  },
  {
   "cell_type": "code",
   "execution_count": 30,
   "id": "9b3fab07",
   "metadata": {},
   "outputs": [
    {
     "name": "stdout",
     "output_type": "stream",
     "text": [
      "Synset('gram_molecule.n.01') the molecular weight of a substance expressed in grams; the basic unit of amount of substance adopted under the Systeme International d'Unites\n",
      "Synset('counterspy.n.01') a spy who works against enemy espionage\n",
      "Synset('mole.n.03') spicy sauce often containing chocolate\n",
      "Synset('mole.n.04') a small congenital pigmented spot on the skin\n",
      "Synset('breakwater.n.01') a protective structure of stone or concrete; extends from shore into the water to prevent a beach from washing away\n",
      "Synset('mole.n.06') small velvety-furred burrowing mammal having small eyes and fossorial forefeet\n"
     ]
    }
   ],
   "source": [
    "for ss in wn.synsets(\"mole\"):\n",
    "    print(ss, ss.definition())"
   ]
  },
  {
   "cell_type": "markdown",
   "id": "5911db75",
   "metadata": {},
   "source": [
    "#### und wie sehen seine Nachbar-Enbeddings aus?"
   ]
  },
  {
   "cell_type": "markdown",
   "id": "624a4d02",
   "metadata": {},
   "source": [
    "Positive words contribute positively towards the similarity (simple mean of the projection weight vectors of the given words)"
   ]
  },
  {
   "cell_type": "code",
   "execution_count": 31,
   "id": "6ab8b35a",
   "metadata": {},
   "outputs": [
    {
     "name": "stdout",
     "output_type": "stream",
     "text": [
      "[('moles', 0.6953788995742798), ('pollo_en', 0.5143669247627258), ('freckle', 0.4829964339733124), ('cancerous_mole', 0.47879719734191895), ('birthmark', 0.46605661511421204), ('unibrow', 0.465206503868103), ('spies', 0.4556558430194855), ('codenamed_Stakeknife', 0.4547296464443207), ('nodule', 0.4530535340309143), ('pube', 0.4359903335571289), ('wart', 0.43582144379615784), ('Mario_Mugan', 0.4351434111595154), ('pre_cancerous_cells', 0.4342755377292633), ('blackhead', 0.43285322189331055), ('bald_patch', 0.4320111572742462), ('pre_cancerous_lesion', 0.4278036057949066), ('crawly_creatures', 0.42732861638069153), ('cancerous_tumor', 0.4270630180835724), ('pea_puree', 0.41543763875961304), ('pecker', 0.41508975625038147), ('Istanbul_Haghia_Sophia', 0.41504019498825073), ('beady_eyes', 0.4120869040489197), ('cyst', 0.412010133266449), ('saboteur', 0.4119090735912323), ('polyp', 0.4111848771572113), ('cruiser_burly', 0.4099330008029938), ('Black_Widow_spider', 0.40785861015319824), ('preying_mantis', 0.40745046734809875), ('informer', 0.407009094953537), ('basilisk', 0.4069768488407135), ('Freddie_Scappaticci', 0.40682756900787354), ('Mole', 0.40674248337745667), ('cancerous_moles', 0.4063805639743805), ('Speckles', 0.405125230550766), ('alien_creature', 0.4040832221508026), ('carpenter_bee', 0.403527170419693), ('bum_fluff', 0.4024483561515808), ('shaped_birthmark', 0.40226873755455017), ('pimple', 0.40181946754455566), ('toad', 0.40073031187057495), ('ingrowing', 0.40003693103790283), ('amanita', 0.39902374148368835), ('spy', 0.3984518051147461), ('scorpion_tattoo', 0.3977241814136505), ('ovarian_cyst', 0.39765381813049316), ('wriggler', 0.39756324887275696), ('skin_lesion', 0.3968101739883423), ('pinkness', 0.39543387293815613), ('tummy_bulge', 0.3950091600418091), ('covert', 0.3940601348876953)]\n"
     ]
    }
   ],
   "source": [
    "print(wv.most_similar(positive=['mole'], topn=50))"
   ]
  },
  {
   "cell_type": "markdown",
   "id": "cf5867a4",
   "metadata": {},
   "source": [
    "#### mole = Spion"
   ]
  },
  {
   "cell_type": "code",
   "execution_count": 32,
   "id": "14ca6b14",
   "metadata": {},
   "outputs": [
    {
     "name": "stdout",
     "output_type": "stream",
     "text": [
      "[('spies', 0.7144663333892822), ('moles', 0.6125962138175964), ('spying', 0.5784648060798645), ('spymaster', 0.5561749339103699), ('covert', 0.5543562173843384), ('MI6', 0.5476832985877991), ('CIA', 0.5461190938949585), ('honeytrap', 0.5207542181015015), ('CIA_operative', 0.5194926857948303), ('codenamed_Stakeknife', 0.5168454051017761), ('espionage', 0.5152338743209839), ('spied', 0.5126438736915588), ('Spy', 0.5067140460014343), ('spymasters', 0.5056111216545105), ('secret', 0.5055983066558838), ('MI5', 0.5054400563240051), ('clandestine', 0.5053969621658325), ('counterspies', 0.5027799010276794), ('supersecret', 0.49964088201522827), ('KGB', 0.49541616439819336), ('KGB_spy', 0.4945177435874939), ('counterspy', 0.49238669872283936), ('Mossad', 0.49171993136405945), ('assassin', 0.49141573905944824), ('intelligence', 0.49104419350624084), ('secretly', 0.489378958940506), ('persecute_dissidents', 0.48753342032432556), ('Mossad_spy', 0.4866253733634949), ('bugging', 0.486116886138916), ('Marissa_Wiegler_Cate_Blanchett', 0.4856257140636444), ('informer', 0.4851529002189636), ('spy_cam', 0.4834539294242859), ('covert_operatives', 0.4817025065422058), ('informers', 0.48162662982940674), ('MOSSAD', 0.48083266615867615), ('Walker_Yvonne_Strahovski', 0.4798121452331543), ('Mi6', 0.4787689745426178), ('David_Shayler', 0.4774782657623291), ('Noah_Vosen_David_Strathairn', 0.47641631960868835), ('Colonel_Shcherbakov', 0.47606465220451355), ('MI6_spy', 0.47590523958206177), ('intel', 0.47466206550598145), ('Sarah_Yvonne_Strahovski', 0.47464510798454285), ('Peabody_Chiwetel_Ejiofor', 0.4740576148033142), ('Kim_Philby', 0.47401678562164307), ('Freddie_Scappaticci', 0.4714556634426117), ('infiltrator', 0.47054731845855713), ('SMERSH', 0.47017964720726013), ('Dandridge_shouted', 0.4682125151157379), ('spooks', 0.4678133726119995)]\n"
     ]
    }
   ],
   "source": [
    "print(wv.most_similar(positive=['mole','spy'], topn=50))"
   ]
  },
  {
   "cell_type": "markdown",
   "id": "68237410",
   "metadata": {},
   "source": [
    "#### mole = Soße"
   ]
  },
  {
   "cell_type": "code",
   "execution_count": 33,
   "id": "38d5267e",
   "metadata": {},
   "outputs": [
    {
     "name": "stdout",
     "output_type": "stream",
     "text": [
      "[('pepperoncini', 0.6237400770187378), ('sugo', 0.6125661134719849), ('onion_slices', 0.6090795397758484), ('honey_glaze', 0.6087576150894165), ('sriracha', 0.6082465648651123), ('anchovy_paste', 0.6055631041526794), ('poblanos', 0.6030601859092712), ('spicy_sauce', 0.6027092933654785), ('broth', 0.602519690990448), ('dipping_sauce', 0.6013593077659607), ('curry_sauce', 0.6003585457801819), ('marinated_skirt_steak', 0.5998510122299194), ('salsa_verde', 0.5992843508720398), ('garlic_sauce', 0.5972826480865479), ('pancetta', 0.5963554382324219), ('shrimp_appetizer', 0.5956166386604309), ('ginger_sauce', 0.5948421359062195), ('veal_shank', 0.5939694046974182), ('celeriac_puree', 0.5935015678405762), ('pollo_en', 0.5932588577270508), ('creamy_sauce', 0.5930727124214172), ('sautéed_onions', 0.5925516486167908), ('ragù', 0.5924109816551208), ('shredded_chicken', 0.5918897986412048), ('horseradish_sauce', 0.5916742086410522), ('aioli', 0.5913442969322205), ('pastry_crust', 0.5904357433319092), ('verde_sauce', 0.5899887084960938), ('Bolognese_sauce', 0.5895645618438721), ('chipotle_barbecue_sauce', 0.5889055728912354), ('tomato_sauce', 0.588873028755188), ('potato_mash', 0.5885724425315857), ('Arborio_rice', 0.5879313349723816), ('tomatillo_sauce', 0.5879186391830444), ('bleu_cheese_dressing', 0.5875130891799927), ('bolognese_sauce', 0.5874722003936768), ('seasoning_blend', 0.5872567892074585), ('bearnaise', 0.5871222019195557), ('marinade', 0.5870955586433411), ('shallot', 0.5861430168151855), ('celery_root', 0.5858201384544373), ('herb_butter', 0.585811972618103), ('polenta', 0.5857833623886108), ('roasted_poblano_peppers', 0.5855432748794556), ('cheese_sauce', 0.5852500796318054), ('coconut_curry', 0.5848444700241089), ('chile_sauce', 0.5843972563743591), ('potato_croquettes', 0.584026575088501), ('pea_puree', 0.5838924050331116), ('bolognaise', 0.5838152170181274)]\n"
     ]
    }
   ],
   "source": [
    "print(wv.most_similar(positive=['mole','sauce'], topn=50))"
   ]
  },
  {
   "cell_type": "markdown",
   "id": "aaa853ff",
   "metadata": {},
   "source": [
    "#### mole = Nävus"
   ]
  },
  {
   "cell_type": "code",
   "execution_count": 34,
   "id": "0bc5891c",
   "metadata": {},
   "outputs": [
    {
     "name": "stdout",
     "output_type": "stream",
     "text": [
      "[('moles', 0.6526623964309692), ('blackhead', 0.6182907819747925), ('saggy_skin', 0.5835700631141663), ('scaly_skin', 0.578711211681366), ('blotchy_skin', 0.5764867067337036), ('freckle', 0.5763406753540039), ('dermal_layers', 0.5738863348960876), ('leathery_skin', 0.571236252784729), ('skin_peels', 0.5689150094985962), ('epidermis', 0.563870370388031), ('blackheads', 0.5604124069213867), ('cancerous_mole', 0.5570328831672668), ('pre_cancerous_lesion', 0.5554013252258301), ('unibrow', 0.5522571802139282), ('cuticles', 0.5521460175514221), ('intensely_itchy', 0.5512115359306335), ('suspicious_moles', 0.548064649105072), ('ingrowing', 0.5480281710624695), ('cuticle', 0.545251190662384), ('volumizer', 0.5427988767623901), ('acne_scar', 0.5427281856536865), ('cancerous_moles', 0.5423965454101562), ('broken_capillaries', 0.5416174530982971), ('sagging_jowls', 0.5399507284164429), ('keratoses', 0.5390583276748657), ('depilatory_cream', 0.5385881066322327), ('toe_nails', 0.5381949543952942), ('skin_discolorations', 0.5365742444992065), ('chapped_skin', 0.5361860990524292), (\"crow's_feet\", 0.5361422300338745), ('acne_scars', 0.5361276268959045), ('Skin', 0.5354422330856323), ('skin_lesion', 0.534771740436554), ('pre_cancerous_cells', 0.5347395539283752), ('rashy', 0.5339889526367188), ('ingrown_hair', 0.5335344672203064), ('hair', 0.5333549976348877), ('pigmentation', 0.5322102308273315), ('seborrheic_keratosis', 0.5319365859031677), ('contain_salicylic_acid', 0.5316556692123413), ('wart', 0.5308321714401245), ('eyebrows_eyelashes', 0.5298587679862976), ('stretchmarks', 0.5292943120002747), ('ulcerate', 0.5288981199264526), ('facial_blemishes', 0.5285977721214294), ('nail_hardener', 0.5278259515762329), ('scaly_patches', 0.5269613862037659), ('Melanomas', 0.5266537070274353), ('pus_filled', 0.5257710218429565), ('uni_brow', 0.5255513787269592)]\n"
     ]
    }
   ],
   "source": [
    "print(wv.most_similar(positive=['mole','skin'], topn=50))"
   ]
  },
  {
   "cell_type": "markdown",
   "id": "e200bbda",
   "metadata": {},
   "source": [
    "#### mole = Tier"
   ]
  },
  {
   "cell_type": "code",
   "execution_count": 36,
   "id": "ff781da3",
   "metadata": {},
   "outputs": [
    {
     "name": "stdout",
     "output_type": "stream",
     "text": [
      "[('rat', 0.6502087712287903), ('moles', 0.632191002368927), ('critter', 0.6245903372764587), ('toad', 0.6085116863250732), ('rodents', 0.605733335018158), ('cockroach', 0.5924831628799438), ('insect', 0.5722218751907349), ('spider', 0.5592222809791565), ('rabbit', 0.5564301609992981), ('squirrel', 0.552226185798645), ('lizard', 0.5480753183364868), ('preying_mantis', 0.5471409559249878), ('snake', 0.5407053828239441), ('itch_mite', 0.5376974940299988), ('frog', 0.5369380116462708), ('moth_larvae', 0.5331310629844666), ('moth', 0.5310292840003967), ('carpenter_bee', 0.5300403237342834), ('venomous_spider', 0.5290510654449463), ('tarantula', 0.5284982323646545), ('skunk', 0.5256781578063965), ('arachnid', 0.5253869891166687), ('wasp', 0.5236393809318542), ('cockroaches', 0.52344810962677), ('insectivore', 0.5229939818382263), ('raccoon', 0.5216551423072815), ('iguana', 0.5216211080551147), ('tobacco_hornworm', 0.5172977447509766), ('crawly_creatures', 0.5149145722389221), ('possum', 0.5145565271377563), ('rats', 0.5142752528190613), ('hairy_caterpillars', 0.5130518078804016), ('wolf_spider', 0.512626051902771), ('caterpillar', 0.5104445219039917), ('cicada_killers', 0.5102261900901794), ('tomato_hornworm', 0.5089306235313416), ('hornworm', 0.5078768730163574), ('itch_mites', 0.5078638792037964), ('wasp_larva', 0.5077194571495056), ('coyote', 0.5051498413085938), ('amanita', 0.5037323236465454), ('insects', 0.5030070543289185), ('nocturnal_mammal', 0.5020031332969666), ('bee_larvae', 0.5016201734542847), ('cucumber_beetle', 0.5003157258033752), ('creature', 0.4998404085636139), ('drywood_termites', 0.4995175302028656), ('garter_snake', 0.4989611804485321), ('camel_spider', 0.4988451302051544), ('Rodent', 0.49875104427337646)]\n"
     ]
    }
   ],
   "source": [
    "print(wv.most_similar(positive=['mole','rodent'], topn=50))"
   ]
  },
  {
   "cell_type": "markdown",
   "id": "95ef52d9",
   "metadata": {},
   "source": [
    "### Übung 5.3\n",
    "\n",
    "Suchen Sie nach Analogien im Word2vec\n",
    "\n",
    "* eine Analogie, die Verzerrungen im Word2vec zeigt"
   ]
  },
  {
   "cell_type": "code",
   "execution_count": 37,
   "id": "a078b813",
   "metadata": {},
   "outputs": [
    {
     "data": {
      "text/plain": [
       "[('vocalist', 0.7317063212394714)]"
      ]
     },
     "execution_count": 37,
     "metadata": {},
     "output_type": "execute_result"
    }
   ],
   "source": [
    "wv.most_similar(positive=['guitarist', 'she'], negative=['he'], topn=1)"
   ]
  },
  {
   "cell_type": "code",
   "execution_count": 38,
   "id": "db98557a",
   "metadata": {},
   "outputs": [
    {
     "data": {
      "text/plain": [
       "[('fulltime', 0.4935436248779297)]"
      ]
     },
     "execution_count": 38,
     "metadata": {},
     "output_type": "execute_result"
    }
   ],
   "source": [
    "wv.most_similar(positive=['parttime', 'he'], negative=['she'], topn=1)"
   ]
  },
  {
   "cell_type": "code",
   "execution_count": 39,
   "id": "c5f0117e",
   "metadata": {},
   "outputs": [
    {
     "data": {
      "text/plain": [
       "[('shrewd', 0.49839869141578674)]"
      ]
     },
     "execution_count": 39,
     "metadata": {},
     "output_type": "execute_result"
    }
   ],
   "source": [
    "wv.most_similar(positive=['smart', 'he'], negative=['she'], topn=1)"
   ]
  },
  {
   "cell_type": "markdown",
   "id": "9b64eae4",
   "metadata": {},
   "source": [
    "* eine Analogie, die funkioniert"
   ]
  },
  {
   "cell_type": "code",
   "execution_count": 40,
   "id": "2f9dbc1c",
   "metadata": {},
   "outputs": [
    {
     "data": {
      "text/plain": [
       "[('poetess', 0.6690706610679626)]"
      ]
     },
     "execution_count": 40,
     "metadata": {},
     "output_type": "execute_result"
    }
   ],
   "source": [
    "wv.most_similar(positive=['poet', 'she'], negative=['he'], topn=1)"
   ]
  },
  {
   "cell_type": "code",
   "execution_count": 41,
   "id": "78e264c0",
   "metadata": {},
   "outputs": [
    {
     "data": {
      "text/plain": [
       "[('burrows', 0.5411170721054077)]"
      ]
     },
     "execution_count": 41,
     "metadata": {},
     "output_type": "execute_result"
    }
   ],
   "source": [
    "wv.most_similar(positive=['nest', 'rabbit'], negative=['bird'], topn=1)"
   ]
  },
  {
   "cell_type": "code",
   "execution_count": 42,
   "id": "b87e5499",
   "metadata": {},
   "outputs": [
    {
     "data": {
      "text/plain": [
       "[('pork', 0.6499472260475159)]"
      ]
     },
     "execution_count": 42,
     "metadata": {},
     "output_type": "execute_result"
    }
   ],
   "source": [
    "wv.most_similar(positive=['beef', 'pig'], negative=['cow'], topn=1)"
   ]
  },
  {
   "cell_type": "markdown",
   "id": "e8922a86",
   "metadata": {},
   "source": [
    "* eine Analogie, die nicht funkioniert"
   ]
  },
  {
   "cell_type": "code",
   "execution_count": 43,
   "id": "9334c88b",
   "metadata": {},
   "outputs": [
    {
     "data": {
      "text/plain": [
       "[('woman', 0.5046582818031311)]"
      ]
     },
     "execution_count": 43,
     "metadata": {},
     "output_type": "execute_result"
    }
   ],
   "source": [
    "wv.most_similar(positive=['nest', 'man'], negative=['bird'], topn=1)"
   ]
  },
  {
   "cell_type": "code",
   "execution_count": 44,
   "id": "bbfdb84a",
   "metadata": {},
   "outputs": [
    {
     "data": {
      "text/plain": [
       "[('feet', 0.4614947438240051)]"
      ]
     },
     "execution_count": 44,
     "metadata": {},
     "output_type": "execute_result"
    }
   ],
   "source": [
    "wv.most_similar(positive=['finger', 'foot'], negative=['hand'], topn=1)"
   ]
  }
 ],
 "metadata": {
  "kernelspec": {
   "display_name": "Python 3 (ipykernel)",
   "language": "python",
   "name": "python3"
  },
  "language_info": {
   "codemirror_mode": {
    "name": "ipython",
    "version": 3
   },
   "file_extension": ".py",
   "mimetype": "text/x-python",
   "name": "python",
   "nbconvert_exporter": "python",
   "pygments_lexer": "ipython3",
   "version": "3.10.9"
  }
 },
 "nbformat": 4,
 "nbformat_minor": 5
}
