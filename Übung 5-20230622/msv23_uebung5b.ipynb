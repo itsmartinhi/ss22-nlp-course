{
 "cells": [
  {
   "cell_type": "markdown",
   "id": "bba5e7d1",
   "metadata": {},
   "source": [
    "# MSV / SS 2023 - Übung 5b"
   ]
  },
  {
   "cell_type": "code",
   "execution_count": 1,
   "id": "cbe98583",
   "metadata": {},
   "outputs": [],
   "source": [
    "import nltk\n",
    "import pandas as pd\n",
    "import numpy as np"
   ]
  },
  {
   "cell_type": "markdown",
   "id": "53371907",
   "metadata": {},
   "source": [
    "## Dokumente als Vektoren\n",
    "### Shakespeare Corpus"
   ]
  },
  {
   "cell_type": "code",
   "execution_count": 29,
   "id": "f5dd9c64",
   "metadata": {},
   "outputs": [
    {
     "name": "stderr",
     "output_type": "stream",
     "text": [
      "[nltk_data] Downloading package shakespeare to\n",
      "[nltk_data]     /Users/alessandra/nltk_data...\n",
      "[nltk_data]   Package shakespeare is already up-to-date!\n",
      "[nltk_data] Downloading package punkt to\n",
      "[nltk_data]     /Users/alessandra/nltk_data...\n",
      "[nltk_data]   Package punkt is already up-to-date!\n"
     ]
    },
    {
     "data": {
      "text/plain": [
       "True"
      ]
     },
     "execution_count": 29,
     "metadata": {},
     "output_type": "execute_result"
    }
   ],
   "source": [
    "nltk.download('shakespeare')\n",
    "from nltk.corpus import shakespeare\n",
    "from xml.etree import ElementTree\n",
    "shakespeare.fileids()\n",
    "\n",
    "from nltk.tokenize import word_tokenize\n",
    "nltk.download('punkt')"
   ]
  },
  {
   "cell_type": "code",
   "execution_count": 30,
   "id": "55dcb2cb",
   "metadata": {},
   "outputs": [],
   "source": [
    "shakespeare_corpus = {}\n",
    "\n",
    "for play_title in shakespeare.fileids():\n",
    "    play = shakespeare.xml(play_title)\n",
    "    title = play[0].text\n",
    "\n",
    "    play_text = \"\"\n",
    "        \n",
    "    for line in play.findall('ACT/SCENE/SPEECH/LINE'):\n",
    "        if line.text is not None:\n",
    "            #print(line.text)\n",
    "            play_text += line.text\n",
    "            play_text += ' '\n",
    "            \n",
    "    shakespeare_corpus[title] = play_text "
   ]
  },
  {
   "cell_type": "code",
   "execution_count": 31,
   "id": "a941fb83",
   "metadata": {},
   "outputs": [
    {
     "name": "stdout",
     "output_type": "stream",
     "text": [
      "Tush! never tell me; I take it much unkindly That thou, Iago, who hast had my purse As if the strings were thine, shouldst know of this. 'Sblood, but you will not hear me: If ever I did dream of such \n"
     ]
    }
   ],
   "source": [
    "print(shakespeare_corpus['The Tragedy of Othello, the Moor of Venice'][0:200])"
   ]
  },
  {
   "cell_type": "code",
   "execution_count": 32,
   "id": "b1382d6b",
   "metadata": {},
   "outputs": [],
   "source": [
    "shakespeare_words = [\"battle\", \"good\", \"fool\", \"wit\"]"
   ]
  },
  {
   "cell_type": "markdown",
   "id": "744fd160",
   "metadata": {},
   "source": [
    "#### Term-Document Matrix"
   ]
  },
  {
   "cell_type": "code",
   "execution_count": 33,
   "id": "369cef5d",
   "metadata": {},
   "outputs": [
    {
     "data": {
      "text/html": [
       "<div>\n",
       "<style scoped>\n",
       "    .dataframe tbody tr th:only-of-type {\n",
       "        vertical-align: middle;\n",
       "    }\n",
       "\n",
       "    .dataframe tbody tr th {\n",
       "        vertical-align: top;\n",
       "    }\n",
       "\n",
       "    .dataframe thead th {\n",
       "        text-align: right;\n",
       "    }\n",
       "</style>\n",
       "<table border=\"1\" class=\"dataframe\">\n",
       "  <thead>\n",
       "    <tr style=\"text-align: right;\">\n",
       "      <th></th>\n",
       "      <th>The Tragedy of Antony and Cleopatra</th>\n",
       "      <th>A Midsummer Night's Dream</th>\n",
       "      <th>The Tragedy of Hamlet, Prince of Denmark</th>\n",
       "      <th>The Tragedy of Julius Caesar</th>\n",
       "      <th>The Tragedy of Macbeth</th>\n",
       "      <th>The Merchant of Venice</th>\n",
       "      <th>The Tragedy of Othello, the Moor of Venice</th>\n",
       "      <th>The Tragedy of Romeo and Juliet</th>\n",
       "    </tr>\n",
       "  </thead>\n",
       "  <tbody>\n",
       "    <tr>\n",
       "      <th>battle</th>\n",
       "      <td>4</td>\n",
       "      <td>0</td>\n",
       "      <td>0</td>\n",
       "      <td>7</td>\n",
       "      <td>2</td>\n",
       "      <td>0</td>\n",
       "      <td>2</td>\n",
       "      <td>0</td>\n",
       "    </tr>\n",
       "    <tr>\n",
       "      <th>good</th>\n",
       "      <td>66</td>\n",
       "      <td>36</td>\n",
       "      <td>82</td>\n",
       "      <td>49</td>\n",
       "      <td>43</td>\n",
       "      <td>55</td>\n",
       "      <td>67</td>\n",
       "      <td>65</td>\n",
       "    </tr>\n",
       "    <tr>\n",
       "      <th>fool</th>\n",
       "      <td>7</td>\n",
       "      <td>3</td>\n",
       "      <td>7</td>\n",
       "      <td>2</td>\n",
       "      <td>3</td>\n",
       "      <td>11</td>\n",
       "      <td>12</td>\n",
       "      <td>7</td>\n",
       "    </tr>\n",
       "    <tr>\n",
       "      <th>wit</th>\n",
       "      <td>0</td>\n",
       "      <td>4</td>\n",
       "      <td>7</td>\n",
       "      <td>2</td>\n",
       "      <td>2</td>\n",
       "      <td>8</td>\n",
       "      <td>12</td>\n",
       "      <td>12</td>\n",
       "    </tr>\n",
       "  </tbody>\n",
       "</table>\n",
       "</div>"
      ],
      "text/plain": [
       "        The Tragedy of Antony and Cleopatra  A Midsummer Night's Dream  \\\n",
       "battle                                    4                          0   \n",
       "good                                     66                         36   \n",
       "fool                                      7                          3   \n",
       "wit                                       0                          4   \n",
       "\n",
       "        The Tragedy of Hamlet, Prince of Denmark  \\\n",
       "battle                                         0   \n",
       "good                                          82   \n",
       "fool                                           7   \n",
       "wit                                            7   \n",
       "\n",
       "        The Tragedy of Julius Caesar  The Tragedy of Macbeth  \\\n",
       "battle                             7                       2   \n",
       "good                              49                      43   \n",
       "fool                               2                       3   \n",
       "wit                                2                       2   \n",
       "\n",
       "        The Merchant of Venice  The Tragedy of Othello, the Moor of Venice  \\\n",
       "battle                       0                                           2   \n",
       "good                        55                                          67   \n",
       "fool                        11                                          12   \n",
       "wit                          8                                          12   \n",
       "\n",
       "        The Tragedy of Romeo and Juliet  \n",
       "battle                                0  \n",
       "good                                 65  \n",
       "fool                                  7  \n",
       "wit                                  12  "
      ]
     },
     "execution_count": 33,
     "metadata": {},
     "output_type": "execute_result"
    }
   ],
   "source": [
    "shakespeare_docvect = {}\n",
    "\n",
    "for play in shakespeare_corpus.keys():\n",
    "    \n",
    "    play_counts = []\n",
    "    wordcounts = Counter(word_tokenize(shakespeare_corpus[play]))\n",
    "    \n",
    "    for word in shakespeare_words:\n",
    "        play_counts.append(wordcounts[word])\n",
    "        \n",
    "    shakespeare_docvect[play] = play_counts\n",
    "        \n",
    "\n",
    "shakespeare_termdoc_df = pd.DataFrame.from_dict(shakespeare_docvect, orient='index',columns=shakespeare_words).T\n",
    "shakespeare_termdoc_df"
   ]
  },
  {
   "cell_type": "markdown",
   "id": "1db1f29c",
   "metadata": {},
   "source": [
    "#### Document-Term Matrix"
   ]
  },
  {
   "cell_type": "code",
   "execution_count": 34,
   "id": "6c2d1fca",
   "metadata": {},
   "outputs": [
    {
     "data": {
      "text/html": [
       "<div>\n",
       "<style scoped>\n",
       "    .dataframe tbody tr th:only-of-type {\n",
       "        vertical-align: middle;\n",
       "    }\n",
       "\n",
       "    .dataframe tbody tr th {\n",
       "        vertical-align: top;\n",
       "    }\n",
       "\n",
       "    .dataframe thead th {\n",
       "        text-align: right;\n",
       "    }\n",
       "</style>\n",
       "<table border=\"1\" class=\"dataframe\">\n",
       "  <thead>\n",
       "    <tr style=\"text-align: right;\">\n",
       "      <th></th>\n",
       "      <th>battle</th>\n",
       "      <th>good</th>\n",
       "      <th>fool</th>\n",
       "      <th>wit</th>\n",
       "    </tr>\n",
       "  </thead>\n",
       "  <tbody>\n",
       "    <tr>\n",
       "      <th>The Tragedy of Antony and Cleopatra</th>\n",
       "      <td>4</td>\n",
       "      <td>66</td>\n",
       "      <td>7</td>\n",
       "      <td>0</td>\n",
       "    </tr>\n",
       "    <tr>\n",
       "      <th>A Midsummer Night's Dream</th>\n",
       "      <td>0</td>\n",
       "      <td>36</td>\n",
       "      <td>3</td>\n",
       "      <td>4</td>\n",
       "    </tr>\n",
       "    <tr>\n",
       "      <th>The Tragedy of Hamlet, Prince of Denmark</th>\n",
       "      <td>0</td>\n",
       "      <td>82</td>\n",
       "      <td>7</td>\n",
       "      <td>7</td>\n",
       "    </tr>\n",
       "    <tr>\n",
       "      <th>The Tragedy of Julius Caesar</th>\n",
       "      <td>7</td>\n",
       "      <td>49</td>\n",
       "      <td>2</td>\n",
       "      <td>2</td>\n",
       "    </tr>\n",
       "    <tr>\n",
       "      <th>The Tragedy of Macbeth</th>\n",
       "      <td>2</td>\n",
       "      <td>43</td>\n",
       "      <td>3</td>\n",
       "      <td>2</td>\n",
       "    </tr>\n",
       "    <tr>\n",
       "      <th>The Merchant of Venice</th>\n",
       "      <td>0</td>\n",
       "      <td>55</td>\n",
       "      <td>11</td>\n",
       "      <td>8</td>\n",
       "    </tr>\n",
       "    <tr>\n",
       "      <th>The Tragedy of Othello, the Moor of Venice</th>\n",
       "      <td>2</td>\n",
       "      <td>67</td>\n",
       "      <td>12</td>\n",
       "      <td>12</td>\n",
       "    </tr>\n",
       "    <tr>\n",
       "      <th>The Tragedy of Romeo and Juliet</th>\n",
       "      <td>0</td>\n",
       "      <td>65</td>\n",
       "      <td>7</td>\n",
       "      <td>12</td>\n",
       "    </tr>\n",
       "  </tbody>\n",
       "</table>\n",
       "</div>"
      ],
      "text/plain": [
       "                                            battle  good  fool  wit\n",
       "The Tragedy of Antony and Cleopatra              4    66     7    0\n",
       "A Midsummer Night's Dream                        0    36     3    4\n",
       "The Tragedy of Hamlet, Prince of Denmark         0    82     7    7\n",
       "The Tragedy of Julius Caesar                     7    49     2    2\n",
       "The Tragedy of Macbeth                           2    43     3    2\n",
       "The Merchant of Venice                           0    55    11    8\n",
       "The Tragedy of Othello, the Moor of Venice       2    67    12   12\n",
       "The Tragedy of Romeo and Juliet                  0    65     7   12"
      ]
     },
     "execution_count": 34,
     "metadata": {},
     "output_type": "execute_result"
    }
   ],
   "source": [
    "shakespeare_docterm_df = shakespeare_termdoc_df.T\n",
    "shakespeare_docterm_df"
   ]
  },
  {
   "cell_type": "markdown",
   "id": "e28cc884",
   "metadata": {},
   "source": [
    "#### Query"
   ]
  },
  {
   "cell_type": "code",
   "execution_count": 35,
   "id": "b54cd655",
   "metadata": {},
   "outputs": [
    {
     "data": {
      "text/html": [
       "<div>\n",
       "<style scoped>\n",
       "    .dataframe tbody tr th:only-of-type {\n",
       "        vertical-align: middle;\n",
       "    }\n",
       "\n",
       "    .dataframe tbody tr th {\n",
       "        vertical-align: top;\n",
       "    }\n",
       "\n",
       "    .dataframe thead th {\n",
       "        text-align: right;\n",
       "    }\n",
       "</style>\n",
       "<table border=\"1\" class=\"dataframe\">\n",
       "  <thead>\n",
       "    <tr style=\"text-align: right;\">\n",
       "      <th></th>\n",
       "      <th>battle</th>\n",
       "      <th>good</th>\n",
       "      <th>fool</th>\n",
       "      <th>wit</th>\n",
       "    </tr>\n",
       "  </thead>\n",
       "  <tbody>\n",
       "    <tr>\n",
       "      <th>query</th>\n",
       "      <td>1</td>\n",
       "      <td>40</td>\n",
       "      <td>14</td>\n",
       "      <td>11</td>\n",
       "    </tr>\n",
       "  </tbody>\n",
       "</table>\n",
       "</div>"
      ],
      "text/plain": [
       "       battle  good  fool  wit\n",
       "query       1    40    14   11"
      ]
     },
     "execution_count": 35,
     "metadata": {},
     "output_type": "execute_result"
    }
   ],
   "source": [
    "shakespeare_query = [(1, 40, 14, 11)]  \n",
    "shakespeare_query_df = pd.DataFrame(shakespeare_query, columns = ['battle' , 'good', 'fool', 'wit'], index=['query'])\n",
    "shakespeare_query_df"
   ]
  },
  {
   "cell_type": "markdown",
   "id": "11f6ca77",
   "metadata": {},
   "source": [
    "#### Kookkurrenz-Matrix"
   ]
  },
  {
   "cell_type": "code",
   "execution_count": 36,
   "id": "94991115",
   "metadata": {},
   "outputs": [
    {
     "data": {
      "image/png": "[encoded data removed]",
      "text/plain": [
       "<Figure size 432x288 with 1 Axes>"
      ]
     },
     "metadata": {
      "needs_background": "light"
     },
     "output_type": "display_data"
    }
   ],
   "source": [
    "to_plot = shakespeare_docterm_df\n",
    "\n",
    "fig, ax = plt.subplots()\n",
    "\n",
    "ax.scatter(to_plot['battle'], to_plot['wit'])\n",
    "ax.set_xlabel('battle')\n",
    "ax.set_ylabel('wit')\n",
    "ax.set_xlim([0, 15])\n",
    "ax.set_ylim([0, 20])\n",
    "\n",
    "for play in shakespeare_corpus.keys():\n",
    "    ax.annotate(play, (to_plot['battle'][play], to_plot['wit'][play]), rotation=40)\n",
    "    ax.annotate(\"\", xy=(to_plot['battle'][play], to_plot['wit'][play]), xytext=(0, 0), arrowprops=dict(arrowstyle=\"->\"))\n",
    "\n",
    "ax.scatter(1, 11, color = 'red')\n",
    "ax.annotate('query', (1, 11), rotation=40)\n",
    "ax.annotate(\"\", xy=(1, 11), xytext=(0, 0), arrowprops=dict(arrowstyle=\"->\"))    \n",
    "    \n",
    "plt.show()"
   ]
  },
  {
   "cell_type": "markdown",
   "id": "6d0212ec",
   "metadata": {},
   "source": [
    "#### Nearest Neighbor to Query"
   ]
  },
  {
   "cell_type": "code",
   "execution_count": 37,
   "id": "aba05255",
   "metadata": {},
   "outputs": [
    {
     "name": "stdout",
     "output_type": "stream",
     "text": [
      "The Tragedy of Romeo and Juliet\n"
     ]
    }
   ],
   "source": [
    "shakespeare_simtable = shakespeare_docterm_df\n",
    "\n",
    "shakespeare_similarities = {}\n",
    "\n",
    "for play in shakespeare_corpus.keys():\n",
    "    \n",
    "    shakespeare_similarities[play] = cosine_similarity(shakespeare_query_df.loc[['query']], shakespeare_docterm_df.loc[[play]])[0][0]\n",
    "\n",
    "print(max(shakespeare_similarities))"
   ]
  },
  {
   "cell_type": "markdown",
   "id": "a27db969",
   "metadata": {},
   "source": [
    "## Gewichtungsfunktionen\n",
    "### Uninformative Wörter (Brown Corpus)"
   ]
  },
  {
   "cell_type": "code",
   "execution_count": 38,
   "id": "24fdc7cf",
   "metadata": {},
   "outputs": [],
   "source": [
    "cleaned_brown = [token for token in brown.words() if token not in punctuation]\n",
    "sixgrams = Counter(list(ngrams(cleaned_brown,6)))"
   ]
  },
  {
   "cell_type": "code",
   "execution_count": 39,
   "id": "1951db37",
   "metadata": {},
   "outputs": [
    {
     "name": "stdout",
     "output_type": "stream",
     "text": [
      "{'the': 106, 'in': 48, 'and': 47, 'of': 44, 'to': 44, 'a': 43, 'was': 31, 'with': 23, 'The': 19, 'I': 19, 'is': 16, 'you': 16, 'on': 15, 'had': 15, 'by': 13, 'he': 13, 'at': 13, 'He': 12, 'into': 12, 'it': 11, 'that': 11, 'for': 11, 'out': 10, 'as': 9, 'his': 9, 'up': 9, 'when': 9, 'which': 9, 'got': 9, 'will': 8, 'said': 8, 'be': 8, 'one': 8, 'take': 7, 'driving': 7, 'have': 7, 'back': 7, 'coming': 7, 'around': 6, 'get': 6, 'but': 6, 'before': 6, 'drive': 6, 'she': 6, 'parked': 6, 'see': 6}\n"
     ]
    }
   ],
   "source": [
    "cooccurrence = {}\n",
    "\n",
    "for k in sixgrams.keys():\n",
    "    \n",
    "    if k[0] == \"car\": \n",
    "        \n",
    "        for c_word in k[1:4]: \n",
    "                       \n",
    "            if c_word in cooccurrence.keys(): cooccurrence[c_word] += 1\n",
    "            else: cooccurrence[c_word] = 1\n",
    "                \n",
    "    if k[4] == \"car\":\n",
    "        \n",
    "        for c_word in k[0:3]:\n",
    "\n",
    "            if c_word in cooccurrence.keys():  cooccurrence[c_word] += 1\n",
    "            else: cooccurrence[c_word] = 1\n",
    "                \n",
    "cooccurrence = {key:val for key, val in cooccurrence.items() if val > 5}               \n",
    "print(dict(sorted(cooccurrence.items(), key = lambda x: x[1], reverse = True)))"
   ]
  },
  {
   "cell_type": "markdown",
   "id": "e9c22d11",
   "metadata": {},
   "source": [
    "### tf-idf (Shakespeare Corpus)"
   ]
  },
  {
   "cell_type": "code",
   "execution_count": 40,
   "id": "3abe12bb",
   "metadata": {},
   "outputs": [
    {
     "data": {
      "text/html": [
       "<div>\n",
       "<style scoped>\n",
       "    .dataframe tbody tr th:only-of-type {\n",
       "        vertical-align: middle;\n",
       "    }\n",
       "\n",
       "    .dataframe tbody tr th {\n",
       "        vertical-align: top;\n",
       "    }\n",
       "\n",
       "    .dataframe thead th {\n",
       "        text-align: right;\n",
       "    }\n",
       "</style>\n",
       "<table border=\"1\" class=\"dataframe\">\n",
       "  <thead>\n",
       "    <tr style=\"text-align: right;\">\n",
       "      <th></th>\n",
       "      <th>battle</th>\n",
       "      <th>good</th>\n",
       "      <th>fool</th>\n",
       "      <th>wit</th>\n",
       "    </tr>\n",
       "  </thead>\n",
       "  <tbody>\n",
       "    <tr>\n",
       "      <th>The Tragedy of Antony and Cleopatra</th>\n",
       "      <td>4</td>\n",
       "      <td>66</td>\n",
       "      <td>7</td>\n",
       "      <td>0</td>\n",
       "    </tr>\n",
       "    <tr>\n",
       "      <th>A Midsummer Night's Dream</th>\n",
       "      <td>0</td>\n",
       "      <td>36</td>\n",
       "      <td>3</td>\n",
       "      <td>4</td>\n",
       "    </tr>\n",
       "    <tr>\n",
       "      <th>The Tragedy of Hamlet, Prince of Denmark</th>\n",
       "      <td>0</td>\n",
       "      <td>82</td>\n",
       "      <td>7</td>\n",
       "      <td>7</td>\n",
       "    </tr>\n",
       "    <tr>\n",
       "      <th>The Tragedy of Julius Caesar</th>\n",
       "      <td>7</td>\n",
       "      <td>49</td>\n",
       "      <td>2</td>\n",
       "      <td>2</td>\n",
       "    </tr>\n",
       "    <tr>\n",
       "      <th>The Tragedy of Macbeth</th>\n",
       "      <td>2</td>\n",
       "      <td>43</td>\n",
       "      <td>3</td>\n",
       "      <td>2</td>\n",
       "    </tr>\n",
       "    <tr>\n",
       "      <th>The Merchant of Venice</th>\n",
       "      <td>0</td>\n",
       "      <td>55</td>\n",
       "      <td>11</td>\n",
       "      <td>8</td>\n",
       "    </tr>\n",
       "    <tr>\n",
       "      <th>The Tragedy of Othello, the Moor of Venice</th>\n",
       "      <td>2</td>\n",
       "      <td>67</td>\n",
       "      <td>12</td>\n",
       "      <td>12</td>\n",
       "    </tr>\n",
       "    <tr>\n",
       "      <th>The Tragedy of Romeo and Juliet</th>\n",
       "      <td>0</td>\n",
       "      <td>65</td>\n",
       "      <td>7</td>\n",
       "      <td>12</td>\n",
       "    </tr>\n",
       "  </tbody>\n",
       "</table>\n",
       "</div>"
      ],
      "text/plain": [
       "                                            battle  good  fool  wit\n",
       "The Tragedy of Antony and Cleopatra              4    66     7    0\n",
       "A Midsummer Night's Dream                        0    36     3    4\n",
       "The Tragedy of Hamlet, Prince of Denmark         0    82     7    7\n",
       "The Tragedy of Julius Caesar                     7    49     2    2\n",
       "The Tragedy of Macbeth                           2    43     3    2\n",
       "The Merchant of Venice                           0    55    11    8\n",
       "The Tragedy of Othello, the Moor of Venice       2    67    12   12\n",
       "The Tragedy of Romeo and Juliet                  0    65     7   12"
      ]
     },
     "execution_count": 40,
     "metadata": {},
     "output_type": "execute_result"
    }
   ],
   "source": [
    "shakespeare_docterm_df"
   ]
  },
  {
   "cell_type": "code",
   "execution_count": 41,
   "id": "47ef2313",
   "metadata": {},
   "outputs": [
    {
     "data": {
      "text/html": [
       "<div>\n",
       "<style scoped>\n",
       "    .dataframe tbody tr th:only-of-type {\n",
       "        vertical-align: middle;\n",
       "    }\n",
       "\n",
       "    .dataframe tbody tr th {\n",
       "        vertical-align: top;\n",
       "    }\n",
       "\n",
       "    .dataframe thead th {\n",
       "        text-align: right;\n",
       "    }\n",
       "</style>\n",
       "<table border=\"1\" class=\"dataframe\">\n",
       "  <thead>\n",
       "    <tr style=\"text-align: right;\">\n",
       "      <th></th>\n",
       "      <th>battle</th>\n",
       "      <th>good</th>\n",
       "      <th>fool</th>\n",
       "      <th>wit</th>\n",
       "    </tr>\n",
       "  </thead>\n",
       "  <tbody>\n",
       "    <tr>\n",
       "      <th>The Tragedy of Antony and Cleopatra</th>\n",
       "      <td>0.210411</td>\n",
       "      <td>0.0</td>\n",
       "      <td>0.0</td>\n",
       "      <td>0.000000</td>\n",
       "    </tr>\n",
       "    <tr>\n",
       "      <th>A Midsummer Night's Dream</th>\n",
       "      <td>0.000000</td>\n",
       "      <td>0.0</td>\n",
       "      <td>0.0</td>\n",
       "      <td>0.040535</td>\n",
       "    </tr>\n",
       "    <tr>\n",
       "      <th>The Tragedy of Hamlet, Prince of Denmark</th>\n",
       "      <td>0.000000</td>\n",
       "      <td>0.0</td>\n",
       "      <td>0.0</td>\n",
       "      <td>0.052372</td>\n",
       "    </tr>\n",
       "    <tr>\n",
       "      <th>The Tragedy of Julius Caesar</th>\n",
       "      <td>0.271857</td>\n",
       "      <td>0.0</td>\n",
       "      <td>0.0</td>\n",
       "      <td>0.027669</td>\n",
       "    </tr>\n",
       "    <tr>\n",
       "      <th>The Tragedy of Macbeth</th>\n",
       "      <td>0.143628</td>\n",
       "      <td>0.0</td>\n",
       "      <td>0.0</td>\n",
       "      <td>0.027669</td>\n",
       "    </tr>\n",
       "    <tr>\n",
       "      <th>The Merchant of Venice</th>\n",
       "      <td>0.000000</td>\n",
       "      <td>0.0</td>\n",
       "      <td>0.0</td>\n",
       "      <td>0.055338</td>\n",
       "    </tr>\n",
       "    <tr>\n",
       "      <th>The Tragedy of Othello, the Moor of Venice</th>\n",
       "      <td>0.143628</td>\n",
       "      <td>0.0</td>\n",
       "      <td>0.0</td>\n",
       "      <td>0.064600</td>\n",
       "    </tr>\n",
       "    <tr>\n",
       "      <th>The Tragedy of Romeo and Juliet</th>\n",
       "      <td>0.000000</td>\n",
       "      <td>0.0</td>\n",
       "      <td>0.0</td>\n",
       "      <td>0.064600</td>\n",
       "    </tr>\n",
       "  </tbody>\n",
       "</table>\n",
       "</div>"
      ],
      "text/plain": [
       "                                              battle  good  fool       wit\n",
       "The Tragedy of Antony and Cleopatra         0.210411   0.0   0.0  0.000000\n",
       "A Midsummer Night's Dream                   0.000000   0.0   0.0  0.040535\n",
       "The Tragedy of Hamlet, Prince of Denmark    0.000000   0.0   0.0  0.052372\n",
       "The Tragedy of Julius Caesar                0.271857   0.0   0.0  0.027669\n",
       "The Tragedy of Macbeth                      0.143628   0.0   0.0  0.027669\n",
       "The Merchant of Venice                      0.000000   0.0   0.0  0.055338\n",
       "The Tragedy of Othello, the Moor of Venice  0.143628   0.0   0.0  0.064600\n",
       "The Tragedy of Romeo and Juliet             0.000000   0.0   0.0  0.064600"
      ]
     },
     "execution_count": 41,
     "metadata": {},
     "output_type": "execute_result"
    }
   ],
   "source": [
    "shakespeare_tf = {}\n",
    "shakespeare_idf = {}\n",
    "shakespeare_tfidf = {}\n",
    "\n",
    "for w in shakespeare_words:\n",
    "    shakespeare_tf[w] = {}\n",
    "    shakespeare_idf[w] = 0\n",
    "    \n",
    "    for play in shakespeare_corpus.keys():\n",
    "        \n",
    "        shakespeare_tf[w][play] = np.log10(shakespeare_docterm_df[w][play]+1)\n",
    "        \n",
    "        if shakespeare_docterm_df[w][play] > 1: \n",
    "            shakespeare_idf[w] += 1\n",
    "            \n",
    "    shakespeare_idf[w] = np.log10(len(shakespeare_corpus.keys())/shakespeare_idf[w])\n",
    "    \n",
    "for w in shakespeare_words:\n",
    "    shakespeare_tfidf[w] = {}\n",
    "    for play in shakespeare_corpus.keys():\n",
    "        shakespeare_tfidf[w][play] = shakespeare_tf[w][play]*shakespeare_idf[w]\n",
    "        \n",
    "shakespeare_tfidf_df = pd.DataFrame.from_dict(shakespeare_tfidf)\n",
    "shakespeare_tfidf_df"
   ]
  }
 ],
 "metadata": {
  "kernelspec": {
   "display_name": "Python 3 (ipykernel)",
   "language": "python",
   "name": "python3"
  },
  "language_info": {
   "codemirror_mode": {
    "name": "ipython",
    "version": 3
   },
   "file_extension": ".py",
   "mimetype": "text/x-python",
   "name": "python",
   "nbconvert_exporter": "python",
   "pygments_lexer": "ipython3",
   "version": "3.10.9"
  }
 },
 "nbformat": 4,
 "nbformat_minor": 5
}
