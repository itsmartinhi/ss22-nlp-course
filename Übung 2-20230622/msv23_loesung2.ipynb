{
 "cells": [
  {
   "cell_type": "markdown",
   "id": "140aff20",
   "metadata": {},
   "source": [
    "# MSV / SS 2023 - Übung 2 - Lösung der Hausaufgaben"
   ]
  },
  {
   "cell_type": "markdown",
   "id": "21cade39",
   "metadata": {},
   "source": [
    "## Hausaufgaben\n",
    "\n",
    "### Übung 1\n",
    "\n",
    "- \"on the other hand\"\n",
    "- \"on the other end\"\n",
    "\n",
    "Welche Wortfolge ist die wahrscheinlichste? Die Wahrscheinlichkeit mit N-grams (aus relativer Häufgkeit im Brown Korpus - Maximum-Likelihood-Schätzung) schätzen. Groß- und Kleinschreibung beachten."
   ]
  },
  {
   "cell_type": "code",
   "execution_count": 1,
   "id": "80c39aee",
   "metadata": {},
   "outputs": [],
   "source": [
    "import nltk\n",
    "from nltk.corpus import brown"
   ]
  },
  {
   "cell_type": "code",
   "execution_count": 2,
   "id": "8ad8756b",
   "metadata": {},
   "outputs": [],
   "source": [
    "from nltk.util import ngrams\n",
    "from collections import Counter, defaultdict"
   ]
  },
  {
   "cell_type": "markdown",
   "id": "41ef42a7",
   "metadata": {},
   "source": [
    "P(hand|on the other) = C(on the other hand) / C(on the other)<br/>\n",
    "P(end|on the other) = C(on the other end) / C(on the other)"
   ]
  },
  {
   "cell_type": "code",
   "execution_count": 3,
   "id": "4d5fb0b4",
   "metadata": {},
   "outputs": [],
   "source": [
    "threegrams = Counter(list(ngrams(brown.words(),3)))\n",
    "fourgrams = Counter(list(ngrams(brown.words(),4)))"
   ]
  },
  {
   "cell_type": "code",
   "execution_count": 4,
   "id": "8e798c47",
   "metadata": {},
   "outputs": [
    {
     "name": "stdout",
     "output_type": "stream",
     "text": [
      "Frequency of 'on the other / On the other': 99\n"
     ]
    }
   ],
   "source": [
    "OTO_freq = threegrams[('on', 'the', 'other')] + threegrams[('On', 'the', 'other')]\n",
    "print(\"Frequency of 'on the other / On the other': \" + str(OTO_freq))"
   ]
  },
  {
   "cell_type": "code",
   "execution_count": 5,
   "id": "b0127579",
   "metadata": {},
   "outputs": [
    {
     "name": "stdout",
     "output_type": "stream",
     "text": [
      "Frequency of 'on the other hand / On the other hand': 58; P: 0.5858585858585859\n"
     ]
    }
   ],
   "source": [
    "OTOH_freq = fourgrams[('on', 'the', 'other', 'hand')] + fourgrams[('On', 'the', 'other', 'hand')]\n",
    "print(\"Frequency of 'on the other hand / On the other hand': \" + str(OTOH_freq) + \"; P: \" + str(OTOH_freq/OTO_freq))"
   ]
  },
  {
   "cell_type": "code",
   "execution_count": 6,
   "id": "2d5e5fed",
   "metadata": {},
   "outputs": [
    {
     "name": "stdout",
     "output_type": "stream",
     "text": [
      "Frequency of 'on the other end / On the other end': 4; P: 0.04040404040404041\n"
     ]
    }
   ],
   "source": [
    "OTOE_freq = fourgrams[('on', 'the', 'other', 'end')] + fourgrams[('On', 'the', 'other', 'end')]\n",
    "print(\"Frequency of 'on the other end / On the other end': \" + str(OTOE_freq) + \"; P: \" + str(OTOE_freq/OTO_freq))"
   ]
  },
  {
   "cell_type": "markdown",
   "id": "fe240852",
   "metadata": {},
   "source": [
    "Was kommt noch häufig nach \"On the other....\"?"
   ]
  },
  {
   "cell_type": "code",
   "execution_count": 7,
   "id": "a448eabc",
   "metadata": {},
   "outputs": [
    {
     "name": "stdout",
     "output_type": "stream",
     "text": [
      "('On', 'the', 'other', 'hand') 35\n",
      "('on', 'the', 'other', 'hand') 23\n",
      "('on', 'the', 'other', 'side') 20\n",
      "('on', 'the', 'other', 'end') 4\n",
      "('On', 'the', 'other', 'side') 4\n",
      "('on', 'the', 'other', ',') 3\n",
      "('on', 'the', 'other', '.') 3\n",
      "('on', 'the', 'other', 'Af') 2\n",
      "('on', 'the', 'other', 'ends') 1\n",
      "('On', 'the', 'other', 'we') 1\n",
      "('on', 'the', 'other', 'by') 1\n",
      "('on', 'the', 'other', 'an') 1\n",
      "('on', 'the', 'other', \"man's\") 1\n"
     ]
    }
   ],
   "source": [
    "oto_ngrams = {}\n",
    "for k in fourgrams.keys():\n",
    "    if (k[0] == 'on') and (k[1] == 'the') and (k[2] == 'other'):\n",
    "        oto_ngrams[k] = fourgrams[k]\n",
    "    elif (k[0] == 'On') and (k[1] == 'the') and (k[2] == 'other'):\n",
    "        oto_ngrams[k] = fourgrams[k]\n",
    "\n",
    "for r in sorted(oto_ngrams, key=oto_ngrams.get, reverse=True):\n",
    "    print(r, oto_ngrams[r])"
   ]
  },
  {
   "cell_type": "markdown",
   "id": "792b660b",
   "metadata": {},
   "source": [
    "### Übung 2\n",
    "\n",
    "Suchen Sie nach alle Bigramme und Trigramme, die mit \"eat\" anfangen (z.B. \"eat chicken\", \"eat French fries\"), und sortieren Sie sie nach Häufigkeit. "
   ]
  },
  {
   "cell_type": "code",
   "execution_count": 8,
   "id": "5e6916e3",
   "metadata": {},
   "outputs": [],
   "source": [
    "bigrams = Counter(list(ngrams(brown.words(),2)))\n",
    "threegrams = Counter(list(ngrams(brown.words(),3)))\n",
    "fourgrams = Counter(list(ngrams(brown.words(),4)))"
   ]
  },
  {
   "cell_type": "markdown",
   "id": "68b5ccaf",
   "metadata": {},
   "source": [
    "#### Bigrams"
   ]
  },
  {
   "cell_type": "code",
   "execution_count": 9,
   "id": "69e06aa5",
   "metadata": {},
   "outputs": [
    {
     "name": "stdout",
     "output_type": "stream",
     "text": [
      "('eat', 'the') 4\n",
      "('eat', 'too') 4\n",
      "('eat', \"''\") 4\n",
      "('eat', '.') 3\n",
      "('eat', 'in') 3\n",
      "('eat', 'up') 3\n",
      "('eat', ',') 3\n",
      "('eat', 'his') 2\n",
      "('eat', '?') 2\n",
      "('eat', 'from') 2\n",
      "('eat', 'all') 2\n",
      "('eat', 'chickens') 2\n",
      "('eat', 'it') 1\n",
      "('eat', 'as') 1\n",
      "('eat', 'at') 1\n",
      "('eat', 'Western') 1\n",
      "('eat', 'affects') 1\n",
      "('eat', 'is') 1\n",
      "('eat', 'only') 1\n",
      "('eat', 'because') 1\n",
      "('eat', 'garbage') 1\n",
      "('eat', 'a') 1\n",
      "('eat', 'whatever') 1\n",
      "('eat', ';') 1\n",
      "('eat', 'dominant') 1\n",
      "('eat', 'will') 1\n",
      "('eat', 'enough') 1\n",
      "('eat', 'and') 1\n",
      "('eat', 'dinner') 1\n",
      "('eat', 'until') 1\n",
      "('eat', 'just') 1\n",
      "('eat', 'mussels') 1\n",
      "('eat', 'by') 1\n",
      "('eat', 'their') 1\n",
      "('eat', 'where') 1\n",
      "('eat', 'so') 1\n",
      "('eat', 'each') 1\n"
     ]
    }
   ],
   "source": [
    "eat_bigrams = {}\n",
    "for k in bigrams.keys():\n",
    "    if k[0] == 'eat':\n",
    "        eat_bigrams[k] = bigrams[k]\n",
    "\n",
    "for r in sorted(eat_bigrams, key=eat_bigrams.get, reverse=True):\n",
    "    print(r, eat_bigrams[r])"
   ]
  },
  {
   "cell_type": "markdown",
   "id": "68de3cd9",
   "metadata": {},
   "source": [
    "#### Trigrams"
   ]
  },
  {
   "cell_type": "code",
   "execution_count": 10,
   "id": "00b64a83",
   "metadata": {},
   "outputs": [
    {
     "name": "stdout",
     "output_type": "stream",
     "text": [
      "('eat', 'too', 'much') 4\n",
      "('eat', '?', '?') 2\n",
      "('eat', \"''\", '.') 2\n",
      "('eat', 'it', 'up') 1\n",
      "('eat', 'as', 'high') 1\n",
      "('eat', 'at', 'the') 1\n",
      "('eat', 'his', 'hat') 1\n",
      "('eat', 'Western', 'men') 1\n",
      "('eat', 'the', 'daisies') 1\n",
      "('eat', 'affects', 'their') 1\n",
      "('eat', 'is', 'human') 1\n",
      "('eat', '.', 'What') 1\n",
      "('eat', 'in', 'disobedience') 1\n",
      "('eat', 'up', 'my') 1\n",
      "('eat', 'up', 'his') 1\n",
      "('eat', 'the', 'skin') 1\n",
      "('eat', '.', 'The') 1\n",
      "('eat', 'from', 'one') 1\n",
      "('eat', 'from', 'all') 1\n",
      "('eat', 'only', 'from') 1\n",
      "('eat', 'because', 'they') 1\n",
      "('eat', 'garbage', ',') 1\n",
      "('eat', 'the', 'cereal') 1\n",
      "('eat', 'in', 'his') 1\n",
      "('eat', 'a', 'rider') 1\n",
      "('eat', 'the', 'entire') 1\n",
      "('eat', 'up', 'all') 1\n",
      "('eat', 'whatever', 'he') 1\n",
      "('eat', ';', ';') 1\n",
      "('eat', 'in', 'the') 1\n",
      "('eat', 'dominant', 'stress') 1\n",
      "('eat', 'will', 'have') 1\n",
      "('eat', '.', 'High') 1\n",
      "('eat', 'enough', ',') 1\n",
      "('eat', 'and', 'drink') 1\n",
      "('eat', 'his', 'meals') 1\n",
      "('eat', 'dinner', 'with') 1\n",
      "('eat', ',', \"didn't\") 1\n",
      "('eat', 'until', \"he's\") 1\n",
      "('eat', 'just', 'a') 1\n",
      "('eat', \"''\", ',') 1\n",
      "('eat', ',', 'get') 1\n",
      "('eat', 'mussels', '.') 1\n",
      "('eat', 'by', \"''\") 1\n",
      "('eat', 'their', 'bodies') 1\n",
      "('eat', 'where', 'angels') 1\n",
      "('eat', 'so', 'much') 1\n",
      "('eat', 'all', 'this') 1\n",
      "('eat', 'all', 'day') 1\n",
      "('eat', 'each', 'other') 1\n",
      "('eat', ',', 'I') 1\n",
      "('eat', \"''\", '?') 1\n",
      "('eat', 'chickens', 'sometimes') 1\n",
      "('eat', 'chickens', 'and') 1\n"
     ]
    }
   ],
   "source": [
    "eat_threegrams = {}\n",
    "for k in threegrams.keys():\n",
    "    if k[0] == 'eat':\n",
    "        eat_threegrams[k] = threegrams[k]\n",
    "\n",
    "for r in sorted(eat_threegrams, key=eat_threegrams.get, reverse=True):\n",
    "    print(r, eat_threegrams[r])"
   ]
  },
  {
   "cell_type": "markdown",
   "id": "7c7182e1",
   "metadata": {},
   "source": [
    "### Übung 3\n",
    "\n",
    "Wie wahrscheinlich ist \"i want chinese food\" mit Add-1-Smoothing?<br/>\n",
    "(Sie brauchen dafür auch P(i|\\<s\\>) = 0.19 and P(\\</s\\>|food) =0.40)<br />\n",
    "<br />\n",
    "Wie ist die Add-1-Smoothing Wahrscheinlicheit im Vergleich zur Wahrscheinlicheit ohne Smoothing?"
   ]
  },
  {
   "cell_type": "code",
   "execution_count": 11,
   "id": "c5c09fde",
   "metadata": {},
   "outputs": [
    {
     "name": "stdout",
     "output_type": "stream",
     "text": [
      "{'I': 2533, 'want': 927, 'to': 2417, 'eat': 746, 'chinese': 158, 'food': 1093, 'lunch': 341, 'spend': 278}\n"
     ]
    }
   ],
   "source": [
    "import nltk\n",
    "import pandas as pd\n",
    "import numpy as np\n",
    "\n",
    "brp_unigrams = {'I': 2533,\n",
    "                'want': 927,\n",
    "                'to': 2417,\n",
    "                'eat' : 746,\n",
    "                'chinese' : 158,\n",
    "                'food' : 1093,\n",
    "                'lunch': 341,\n",
    "                'spend': 278}\n",
    "\n",
    "print(brp_unigrams)"
   ]
  },
  {
   "cell_type": "code",
   "execution_count": 13,
   "id": "959324d1",
   "metadata": {},
   "outputs": [
    {
     "data": {
      "text/html": [
       "<div>\n",
       "<style scoped>\n",
       "    .dataframe tbody tr th:only-of-type {\n",
       "        vertical-align: middle;\n",
       "    }\n",
       "\n",
       "    .dataframe tbody tr th {\n",
       "        vertical-align: top;\n",
       "    }\n",
       "\n",
       "    .dataframe thead th {\n",
       "        text-align: right;\n",
       "    }\n",
       "</style>\n",
       "<table border=\"1\" class=\"dataframe\">\n",
       "  <thead>\n",
       "    <tr style=\"text-align: right;\">\n",
       "      <th></th>\n",
       "      <th>I</th>\n",
       "      <th>want</th>\n",
       "      <th>to</th>\n",
       "      <th>eat</th>\n",
       "      <th>chinese</th>\n",
       "      <th>food</th>\n",
       "      <th>lunch</th>\n",
       "      <th>spend</th>\n",
       "    </tr>\n",
       "  </thead>\n",
       "  <tbody>\n",
       "    <tr>\n",
       "      <th>I</th>\n",
       "      <td>5</td>\n",
       "      <td>827</td>\n",
       "      <td>0</td>\n",
       "      <td>9</td>\n",
       "      <td>0</td>\n",
       "      <td>0</td>\n",
       "      <td>0</td>\n",
       "      <td>2</td>\n",
       "    </tr>\n",
       "    <tr>\n",
       "      <th>want</th>\n",
       "      <td>2</td>\n",
       "      <td>0</td>\n",
       "      <td>608</td>\n",
       "      <td>1</td>\n",
       "      <td>6</td>\n",
       "      <td>6</td>\n",
       "      <td>5</td>\n",
       "      <td>1</td>\n",
       "    </tr>\n",
       "    <tr>\n",
       "      <th>to</th>\n",
       "      <td>2</td>\n",
       "      <td>0</td>\n",
       "      <td>4</td>\n",
       "      <td>686</td>\n",
       "      <td>2</td>\n",
       "      <td>0</td>\n",
       "      <td>6</td>\n",
       "      <td>211</td>\n",
       "    </tr>\n",
       "    <tr>\n",
       "      <th>eat</th>\n",
       "      <td>0</td>\n",
       "      <td>0</td>\n",
       "      <td>2</td>\n",
       "      <td>0</td>\n",
       "      <td>16</td>\n",
       "      <td>2</td>\n",
       "      <td>42</td>\n",
       "      <td>0</td>\n",
       "    </tr>\n",
       "    <tr>\n",
       "      <th>chinese</th>\n",
       "      <td>1</td>\n",
       "      <td>0</td>\n",
       "      <td>0</td>\n",
       "      <td>0</td>\n",
       "      <td>0</td>\n",
       "      <td>82</td>\n",
       "      <td>1</td>\n",
       "      <td>0</td>\n",
       "    </tr>\n",
       "    <tr>\n",
       "      <th>food</th>\n",
       "      <td>15</td>\n",
       "      <td>0</td>\n",
       "      <td>15</td>\n",
       "      <td>0</td>\n",
       "      <td>1</td>\n",
       "      <td>4</td>\n",
       "      <td>0</td>\n",
       "      <td>0</td>\n",
       "    </tr>\n",
       "    <tr>\n",
       "      <th>lunch</th>\n",
       "      <td>2</td>\n",
       "      <td>0</td>\n",
       "      <td>0</td>\n",
       "      <td>0</td>\n",
       "      <td>0</td>\n",
       "      <td>1</td>\n",
       "      <td>0</td>\n",
       "      <td>0</td>\n",
       "    </tr>\n",
       "    <tr>\n",
       "      <th>spend</th>\n",
       "      <td>1</td>\n",
       "      <td>0</td>\n",
       "      <td>1</td>\n",
       "      <td>0</td>\n",
       "      <td>0</td>\n",
       "      <td>0</td>\n",
       "      <td>0</td>\n",
       "      <td>0</td>\n",
       "    </tr>\n",
       "  </tbody>\n",
       "</table>\n",
       "</div>"
      ],
      "text/plain": [
       "          I  want   to  eat  chinese  food  lunch  spend\n",
       "I         5   827    0    9        0     0      0      2\n",
       "want      2     0  608    1        6     6      5      1\n",
       "to        2     0    4  686        2     0      6    211\n",
       "eat       0     0    2    0       16     2     42      0\n",
       "chinese   1     0    0    0        0    82      1      0\n",
       "food     15     0   15    0        1     4      0      0\n",
       "lunch     2     0    0    0        0     1      0      0\n",
       "spend     1     0    1    0        0     0      0      0"
      ]
     },
     "execution_count": 13,
     "metadata": {},
     "output_type": "execute_result"
    }
   ],
   "source": [
    "brp_big_fq = [(5, 827, 0, 9, 0, 0, 0, 2),\n",
    "              (2, 0, 608, 1, 6, 6, 5, 1),\n",
    "              (2, 0, 4, 686, 2, 0, 6, 211),\n",
    "              (0, 0, 2, 0, 16, 2, 42, 0),\n",
    "              (1, 0, 0, 0, 0, 82, 1, 0),\n",
    "              (15, 0, 15, 0, 1, 4, 0, 0),\n",
    "              (2, 0, 0, 0, 0, 1, 0, 0),\n",
    "              (1, 0, 1, 0, 0, 0, 0, 0)]  \n",
    "\n",
    "brp_bigrams = pd.DataFrame(brp_big_fq, columns = ['I' , 'want', 'to' , 'eat', 'chinese', 'food', 'lunch', 'spend'], index=['I' , 'want', 'to' , 'eat', 'chinese', 'food', 'lunch', 'spend'])\n",
    "brp_bigrams"
   ]
  },
  {
   "cell_type": "code",
   "execution_count": 14,
   "id": "1e41e6fe",
   "metadata": {},
   "outputs": [
    {
     "data": {
      "text/html": [
       "<div>\n",
       "<style scoped>\n",
       "    .dataframe tbody tr th:only-of-type {\n",
       "        vertical-align: middle;\n",
       "    }\n",
       "\n",
       "    .dataframe tbody tr th {\n",
       "        vertical-align: top;\n",
       "    }\n",
       "\n",
       "    .dataframe thead th {\n",
       "        text-align: right;\n",
       "    }\n",
       "</style>\n",
       "<table border=\"1\" class=\"dataframe\">\n",
       "  <thead>\n",
       "    <tr style=\"text-align: right;\">\n",
       "      <th></th>\n",
       "      <th>I</th>\n",
       "      <th>want</th>\n",
       "      <th>to</th>\n",
       "      <th>eat</th>\n",
       "      <th>chinese</th>\n",
       "      <th>food</th>\n",
       "      <th>lunch</th>\n",
       "      <th>spend</th>\n",
       "    </tr>\n",
       "  </thead>\n",
       "  <tbody>\n",
       "    <tr>\n",
       "      <th>I</th>\n",
       "      <td>0.001974</td>\n",
       "      <td>0.32649</td>\n",
       "      <td>0.000000</td>\n",
       "      <td>0.003553</td>\n",
       "      <td>0.000000</td>\n",
       "      <td>0.000000</td>\n",
       "      <td>0.000000</td>\n",
       "      <td>0.000790</td>\n",
       "    </tr>\n",
       "    <tr>\n",
       "      <th>want</th>\n",
       "      <td>0.002157</td>\n",
       "      <td>0.00000</td>\n",
       "      <td>0.655879</td>\n",
       "      <td>0.001079</td>\n",
       "      <td>0.006472</td>\n",
       "      <td>0.006472</td>\n",
       "      <td>0.005394</td>\n",
       "      <td>0.001079</td>\n",
       "    </tr>\n",
       "    <tr>\n",
       "      <th>to</th>\n",
       "      <td>0.000827</td>\n",
       "      <td>0.00000</td>\n",
       "      <td>0.001655</td>\n",
       "      <td>0.283823</td>\n",
       "      <td>0.000827</td>\n",
       "      <td>0.000000</td>\n",
       "      <td>0.002482</td>\n",
       "      <td>0.087298</td>\n",
       "    </tr>\n",
       "    <tr>\n",
       "      <th>eat</th>\n",
       "      <td>0.000000</td>\n",
       "      <td>0.00000</td>\n",
       "      <td>0.002681</td>\n",
       "      <td>0.000000</td>\n",
       "      <td>0.021448</td>\n",
       "      <td>0.002681</td>\n",
       "      <td>0.056300</td>\n",
       "      <td>0.000000</td>\n",
       "    </tr>\n",
       "    <tr>\n",
       "      <th>chinese</th>\n",
       "      <td>0.006329</td>\n",
       "      <td>0.00000</td>\n",
       "      <td>0.000000</td>\n",
       "      <td>0.000000</td>\n",
       "      <td>0.000000</td>\n",
       "      <td>0.518987</td>\n",
       "      <td>0.006329</td>\n",
       "      <td>0.000000</td>\n",
       "    </tr>\n",
       "    <tr>\n",
       "      <th>food</th>\n",
       "      <td>0.013724</td>\n",
       "      <td>0.00000</td>\n",
       "      <td>0.013724</td>\n",
       "      <td>0.000000</td>\n",
       "      <td>0.000915</td>\n",
       "      <td>0.003660</td>\n",
       "      <td>0.000000</td>\n",
       "      <td>0.000000</td>\n",
       "    </tr>\n",
       "    <tr>\n",
       "      <th>lunch</th>\n",
       "      <td>0.005865</td>\n",
       "      <td>0.00000</td>\n",
       "      <td>0.000000</td>\n",
       "      <td>0.000000</td>\n",
       "      <td>0.000000</td>\n",
       "      <td>0.002933</td>\n",
       "      <td>0.000000</td>\n",
       "      <td>0.000000</td>\n",
       "    </tr>\n",
       "    <tr>\n",
       "      <th>spend</th>\n",
       "      <td>0.003597</td>\n",
       "      <td>0.00000</td>\n",
       "      <td>0.003597</td>\n",
       "      <td>0.000000</td>\n",
       "      <td>0.000000</td>\n",
       "      <td>0.000000</td>\n",
       "      <td>0.000000</td>\n",
       "      <td>0.000000</td>\n",
       "    </tr>\n",
       "  </tbody>\n",
       "</table>\n",
       "</div>"
      ],
      "text/plain": [
       "                I     want        to       eat   chinese      food     lunch  \\\n",
       "I        0.001974  0.32649  0.000000  0.003553  0.000000  0.000000  0.000000   \n",
       "want     0.002157  0.00000  0.655879  0.001079  0.006472  0.006472  0.005394   \n",
       "to       0.000827  0.00000  0.001655  0.283823  0.000827  0.000000  0.002482   \n",
       "eat      0.000000  0.00000  0.002681  0.000000  0.021448  0.002681  0.056300   \n",
       "chinese  0.006329  0.00000  0.000000  0.000000  0.000000  0.518987  0.006329   \n",
       "food     0.013724  0.00000  0.013724  0.000000  0.000915  0.003660  0.000000   \n",
       "lunch    0.005865  0.00000  0.000000  0.000000  0.000000  0.002933  0.000000   \n",
       "spend    0.003597  0.00000  0.003597  0.000000  0.000000  0.000000  0.000000   \n",
       "\n",
       "            spend  \n",
       "I        0.000790  \n",
       "want     0.001079  \n",
       "to       0.087298  \n",
       "eat      0.000000  \n",
       "chinese  0.000000  \n",
       "food     0.000000  \n",
       "lunch    0.000000  \n",
       "spend    0.000000  "
      ]
     },
     "execution_count": 14,
     "metadata": {},
     "output_type": "execute_result"
    }
   ],
   "source": [
    "brp_bigrams_norm = brp_bigrams.div(brp_unigrams, axis='index')\n",
    "brp_bigrams_norm"
   ]
  },
  {
   "cell_type": "markdown",
   "id": "cc9f8238",
   "metadata": {},
   "source": [
    "#### Wahrscheinlichkeit ohne Smoothing\n",
    "\n",
    "P(\\<s\\> i want chinese food \\</s\\>) = P(i|\\<s\\>)\\*P(want|i)\\*P(chinese|want)\\*P(food|chinese)\\*P(\\</s\\>|food)"
   ]
  },
  {
   "cell_type": "code",
   "execution_count": 15,
   "id": "09af47a6",
   "metadata": {},
   "outputs": [],
   "source": [
    "P_s_i = 0.25 # P(i|<s>) = 0.25\n",
    "P_food_s = 0.68 # P(</s>|food) = 0.68"
   ]
  },
  {
   "cell_type": "code",
   "execution_count": 16,
   "id": "f5a13b02",
   "metadata": {},
   "outputs": [
    {
     "name": "stdout",
     "output_type": "stream",
     "text": [
      "P(<s> i want chinese food </s>) = 0.000186\n"
     ]
    }
   ],
   "source": [
    "# P(<s> i want chinese food </s>) = P(i|<s>)*P(want|i)*P(chinese|want)*P(food|english)*P(</s>|food)\n",
    "P_chi = P_s_i * brp_bigrams_norm.loc['I','want'] * brp_bigrams_norm.loc['want','chinese']  * brp_bigrams_norm.loc['chinese','food'] * P_food_s\n",
    "print(\"P(<s> i want chinese food </s>) = \" + '{:f}'.format(P_chi)) # no scientific notation"
   ]
  },
  {
   "cell_type": "markdown",
   "id": "b74b4a78",
   "metadata": {},
   "source": [
    "#### Wahrscheinlichkeit mit Smoothing"
   ]
  },
  {
   "cell_type": "code",
   "execution_count": 17,
   "id": "3fc28344",
   "metadata": {},
   "outputs": [
    {
     "data": {
      "text/html": [
       "<div>\n",
       "<style scoped>\n",
       "    .dataframe tbody tr th:only-of-type {\n",
       "        vertical-align: middle;\n",
       "    }\n",
       "\n",
       "    .dataframe tbody tr th {\n",
       "        vertical-align: top;\n",
       "    }\n",
       "\n",
       "    .dataframe thead th {\n",
       "        text-align: right;\n",
       "    }\n",
       "</style>\n",
       "<table border=\"1\" class=\"dataframe\">\n",
       "  <thead>\n",
       "    <tr style=\"text-align: right;\">\n",
       "      <th></th>\n",
       "      <th>I</th>\n",
       "      <th>want</th>\n",
       "      <th>to</th>\n",
       "      <th>eat</th>\n",
       "      <th>chinese</th>\n",
       "      <th>food</th>\n",
       "      <th>lunch</th>\n",
       "      <th>spend</th>\n",
       "    </tr>\n",
       "  </thead>\n",
       "  <tbody>\n",
       "    <tr>\n",
       "      <th>I</th>\n",
       "      <td>6</td>\n",
       "      <td>828</td>\n",
       "      <td>1</td>\n",
       "      <td>10</td>\n",
       "      <td>1</td>\n",
       "      <td>1</td>\n",
       "      <td>1</td>\n",
       "      <td>3</td>\n",
       "    </tr>\n",
       "    <tr>\n",
       "      <th>want</th>\n",
       "      <td>3</td>\n",
       "      <td>1</td>\n",
       "      <td>609</td>\n",
       "      <td>2</td>\n",
       "      <td>7</td>\n",
       "      <td>7</td>\n",
       "      <td>6</td>\n",
       "      <td>2</td>\n",
       "    </tr>\n",
       "    <tr>\n",
       "      <th>to</th>\n",
       "      <td>3</td>\n",
       "      <td>1</td>\n",
       "      <td>5</td>\n",
       "      <td>687</td>\n",
       "      <td>3</td>\n",
       "      <td>1</td>\n",
       "      <td>7</td>\n",
       "      <td>212</td>\n",
       "    </tr>\n",
       "    <tr>\n",
       "      <th>eat</th>\n",
       "      <td>1</td>\n",
       "      <td>1</td>\n",
       "      <td>3</td>\n",
       "      <td>1</td>\n",
       "      <td>17</td>\n",
       "      <td>3</td>\n",
       "      <td>43</td>\n",
       "      <td>1</td>\n",
       "    </tr>\n",
       "    <tr>\n",
       "      <th>chinese</th>\n",
       "      <td>2</td>\n",
       "      <td>1</td>\n",
       "      <td>1</td>\n",
       "      <td>1</td>\n",
       "      <td>1</td>\n",
       "      <td>83</td>\n",
       "      <td>2</td>\n",
       "      <td>1</td>\n",
       "    </tr>\n",
       "    <tr>\n",
       "      <th>food</th>\n",
       "      <td>16</td>\n",
       "      <td>1</td>\n",
       "      <td>16</td>\n",
       "      <td>1</td>\n",
       "      <td>2</td>\n",
       "      <td>5</td>\n",
       "      <td>1</td>\n",
       "      <td>1</td>\n",
       "    </tr>\n",
       "    <tr>\n",
       "      <th>lunch</th>\n",
       "      <td>3</td>\n",
       "      <td>1</td>\n",
       "      <td>1</td>\n",
       "      <td>1</td>\n",
       "      <td>1</td>\n",
       "      <td>2</td>\n",
       "      <td>1</td>\n",
       "      <td>1</td>\n",
       "    </tr>\n",
       "    <tr>\n",
       "      <th>spend</th>\n",
       "      <td>2</td>\n",
       "      <td>1</td>\n",
       "      <td>2</td>\n",
       "      <td>1</td>\n",
       "      <td>1</td>\n",
       "      <td>1</td>\n",
       "      <td>1</td>\n",
       "      <td>1</td>\n",
       "    </tr>\n",
       "  </tbody>\n",
       "</table>\n",
       "</div>"
      ],
      "text/plain": [
       "          I  want   to  eat  chinese  food  lunch  spend\n",
       "I         6   828    1   10        1     1      1      3\n",
       "want      3     1  609    2        7     7      6      2\n",
       "to        3     1    5  687        3     1      7    212\n",
       "eat       1     1    3    1       17     3     43      1\n",
       "chinese   2     1    1    1        1    83      2      1\n",
       "food     16     1   16    1        2     5      1      1\n",
       "lunch     3     1    1    1        1     2      1      1\n",
       "spend     2     1    2    1        1     1      1      1"
      ]
     },
     "execution_count": 17,
     "metadata": {},
     "output_type": "execute_result"
    }
   ],
   "source": [
    "brp_bigrams_laplace = brp_bigrams.copy()\n",
    "brp_bigrams_laplace += 1\n",
    "brp_bigrams_laplace"
   ]
  },
  {
   "cell_type": "code",
   "execution_count": 18,
   "id": "71a182da",
   "metadata": {},
   "outputs": [
    {
     "data": {
      "text/plain": [
       "{'I': 3979,\n",
       " 'want': 2373,\n",
       " 'to': 3863,\n",
       " 'eat': 2192,\n",
       " 'chinese': 1604,\n",
       " 'food': 2539,\n",
       " 'lunch': 1787,\n",
       " 'spend': 1724}"
      ]
     },
     "execution_count": 18,
     "metadata": {},
     "output_type": "execute_result"
    }
   ],
   "source": [
    "W = 1446\n",
    "brp_unigrams_laplace = brp_unigrams.copy()\n",
    "for k, v in brp_unigrams_laplace.items():\n",
    "    brp_unigrams_laplace[k] += W\n",
    "brp_unigrams_laplace   "
   ]
  },
  {
   "cell_type": "code",
   "execution_count": 19,
   "id": "5db9911d",
   "metadata": {},
   "outputs": [
    {
     "data": {
      "text/html": [
       "<div>\n",
       "<style scoped>\n",
       "    .dataframe tbody tr th:only-of-type {\n",
       "        vertical-align: middle;\n",
       "    }\n",
       "\n",
       "    .dataframe tbody tr th {\n",
       "        vertical-align: top;\n",
       "    }\n",
       "\n",
       "    .dataframe thead th {\n",
       "        text-align: right;\n",
       "    }\n",
       "</style>\n",
       "<table border=\"1\" class=\"dataframe\">\n",
       "  <thead>\n",
       "    <tr style=\"text-align: right;\">\n",
       "      <th></th>\n",
       "      <th>I</th>\n",
       "      <th>want</th>\n",
       "      <th>to</th>\n",
       "      <th>eat</th>\n",
       "      <th>chinese</th>\n",
       "      <th>food</th>\n",
       "      <th>lunch</th>\n",
       "      <th>spend</th>\n",
       "    </tr>\n",
       "  </thead>\n",
       "  <tbody>\n",
       "    <tr>\n",
       "      <th>I</th>\n",
       "      <td>0.001508</td>\n",
       "      <td>0.208092</td>\n",
       "      <td>0.000251</td>\n",
       "      <td>0.002513</td>\n",
       "      <td>0.000251</td>\n",
       "      <td>0.000251</td>\n",
       "      <td>0.000251</td>\n",
       "      <td>0.000754</td>\n",
       "    </tr>\n",
       "    <tr>\n",
       "      <th>want</th>\n",
       "      <td>0.001264</td>\n",
       "      <td>0.000421</td>\n",
       "      <td>0.256637</td>\n",
       "      <td>0.000843</td>\n",
       "      <td>0.002950</td>\n",
       "      <td>0.002950</td>\n",
       "      <td>0.002528</td>\n",
       "      <td>0.000843</td>\n",
       "    </tr>\n",
       "    <tr>\n",
       "      <th>to</th>\n",
       "      <td>0.000777</td>\n",
       "      <td>0.000259</td>\n",
       "      <td>0.001294</td>\n",
       "      <td>0.177841</td>\n",
       "      <td>0.000777</td>\n",
       "      <td>0.000259</td>\n",
       "      <td>0.001812</td>\n",
       "      <td>0.054880</td>\n",
       "    </tr>\n",
       "    <tr>\n",
       "      <th>eat</th>\n",
       "      <td>0.000456</td>\n",
       "      <td>0.000456</td>\n",
       "      <td>0.001369</td>\n",
       "      <td>0.000456</td>\n",
       "      <td>0.007755</td>\n",
       "      <td>0.001369</td>\n",
       "      <td>0.019617</td>\n",
       "      <td>0.000456</td>\n",
       "    </tr>\n",
       "    <tr>\n",
       "      <th>chinese</th>\n",
       "      <td>0.001247</td>\n",
       "      <td>0.000623</td>\n",
       "      <td>0.000623</td>\n",
       "      <td>0.000623</td>\n",
       "      <td>0.000623</td>\n",
       "      <td>0.051746</td>\n",
       "      <td>0.001247</td>\n",
       "      <td>0.000623</td>\n",
       "    </tr>\n",
       "    <tr>\n",
       "      <th>food</th>\n",
       "      <td>0.006302</td>\n",
       "      <td>0.000394</td>\n",
       "      <td>0.006302</td>\n",
       "      <td>0.000394</td>\n",
       "      <td>0.000788</td>\n",
       "      <td>0.001969</td>\n",
       "      <td>0.000394</td>\n",
       "      <td>0.000394</td>\n",
       "    </tr>\n",
       "    <tr>\n",
       "      <th>lunch</th>\n",
       "      <td>0.001679</td>\n",
       "      <td>0.000560</td>\n",
       "      <td>0.000560</td>\n",
       "      <td>0.000560</td>\n",
       "      <td>0.000560</td>\n",
       "      <td>0.001119</td>\n",
       "      <td>0.000560</td>\n",
       "      <td>0.000560</td>\n",
       "    </tr>\n",
       "    <tr>\n",
       "      <th>spend</th>\n",
       "      <td>0.001160</td>\n",
       "      <td>0.000580</td>\n",
       "      <td>0.001160</td>\n",
       "      <td>0.000580</td>\n",
       "      <td>0.000580</td>\n",
       "      <td>0.000580</td>\n",
       "      <td>0.000580</td>\n",
       "      <td>0.000580</td>\n",
       "    </tr>\n",
       "  </tbody>\n",
       "</table>\n",
       "</div>"
      ],
      "text/plain": [
       "                I      want        to       eat   chinese      food     lunch  \\\n",
       "I        0.001508  0.208092  0.000251  0.002513  0.000251  0.000251  0.000251   \n",
       "want     0.001264  0.000421  0.256637  0.000843  0.002950  0.002950  0.002528   \n",
       "to       0.000777  0.000259  0.001294  0.177841  0.000777  0.000259  0.001812   \n",
       "eat      0.000456  0.000456  0.001369  0.000456  0.007755  0.001369  0.019617   \n",
       "chinese  0.001247  0.000623  0.000623  0.000623  0.000623  0.051746  0.001247   \n",
       "food     0.006302  0.000394  0.006302  0.000394  0.000788  0.001969  0.000394   \n",
       "lunch    0.001679  0.000560  0.000560  0.000560  0.000560  0.001119  0.000560   \n",
       "spend    0.001160  0.000580  0.001160  0.000580  0.000580  0.000580  0.000580   \n",
       "\n",
       "            spend  \n",
       "I        0.000754  \n",
       "want     0.000843  \n",
       "to       0.054880  \n",
       "eat      0.000456  \n",
       "chinese  0.000623  \n",
       "food     0.000394  \n",
       "lunch    0.000560  \n",
       "spend    0.000580  "
      ]
     },
     "execution_count": 19,
     "metadata": {},
     "output_type": "execute_result"
    }
   ],
   "source": [
    "brp_bigrams_norm_laplace = brp_bigrams_laplace.div(brp_unigrams_laplace, axis='index')\n",
    "brp_bigrams_norm_laplace"
   ]
  },
  {
   "cell_type": "markdown",
   "id": "0d2c5d0d",
   "metadata": {},
   "source": [
    "#### Einige vorgegebene Ps "
   ]
  },
  {
   "cell_type": "code",
   "execution_count": 21,
   "id": "362d2eb3",
   "metadata": {},
   "outputs": [],
   "source": [
    "P_s_i = 0.19 # P(i|<s>) = 0.19\n",
    "P_food_s = 0.40 # P(</s>|food) = 0.40"
   ]
  },
  {
   "cell_type": "markdown",
   "id": "bdd9bdc2",
   "metadata": {},
   "source": [
    "P(\\<s\\> i want chinese food \\</s\\>) = P(i|\\<s\\>)\\*P(want|i)\\*P(chinese|want)\\*P(food|chinese)\\*P(\\</s\\>|food)"
   ]
  },
  {
   "cell_type": "code",
   "execution_count": 24,
   "id": "a3eb4af6",
   "metadata": {},
   "outputs": [
    {
     "name": "stdout",
     "output_type": "stream",
     "text": [
      "P(<s> i want chinese food </s>) = 0.000002\n"
     ]
    }
   ],
   "source": [
    "P_chi = P_s_i * brp_bigrams_norm_laplace.loc['I','want'] * brp_bigrams_norm_laplace.loc['want','chinese']  * brp_bigrams_norm_laplace.loc['chinese','food'] * P_food_s\n",
    "print(\"P(<s> i want chinese food </s>) = \" + '{:f}'.format(P_chi)) # no scientific notation"
   ]
  }
 ],
 "metadata": {
  "kernelspec": {
   "display_name": "Python 3 (ipykernel)",
   "language": "python",
   "name": "python3"
  },
  "language_info": {
   "codemirror_mode": {
    "name": "ipython",
    "version": 3
   },
   "file_extension": ".py",
   "mimetype": "text/x-python",
   "name": "python",
   "nbconvert_exporter": "python",
   "pygments_lexer": "ipython3",
   "version": "3.10.9"
  }
 },
 "nbformat": 4,
 "nbformat_minor": 5
}
