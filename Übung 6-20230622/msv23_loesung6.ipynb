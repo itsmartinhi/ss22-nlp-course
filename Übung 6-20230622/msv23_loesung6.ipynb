{
 "cells": [
  {
   "cell_type": "markdown",
   "id": "bba5e7d1",
   "metadata": {},
   "source": [
    "# MSV / SS 2023 - Übung 6 - Lösung der Hausaufgaben"
   ]
  },
  {
   "cell_type": "markdown",
   "id": "c75e5e36",
   "metadata": {},
   "source": [
    "## Hausaufgaben\n",
    "\n",
    "### Übung 6.1\n",
    "\n",
    "Spezifizieren Sie ein neuronales Netz, mit drei Input- und einem Outputknoten (und beliebigen zusätzlichen Knoten). Die Inputknoten können genau die Werte 0 und 1 annehmen. Der Outputknoten soll genau dann feuern, wenn entweder alle drei oder genau der erste Outputknoten den Wert 1 hat.\n",
    "\n",
    "Sie können die Lösung manuell finden oder mit Keras."
   ]
  },
  {
   "cell_type": "code",
   "execution_count": 1,
   "id": "83d98c24",
   "metadata": {},
   "outputs": [],
   "source": [
    "import numpy as np\n",
    "import matplotlib.pyplot as plt"
   ]
  },
  {
   "cell_type": "code",
   "execution_count": 2,
   "id": "e18d6b4a",
   "metadata": {},
   "outputs": [],
   "source": [
    "def ReLU(z):\n",
    "    y = np.maximum(z, 0)\n",
    "    return y\n",
    "\n",
    "def perceptron(x_vect,w_vect):    # bias as x_0 node\n",
    "    activation = np.dot(x_vect, w_vect)\n",
    "    y = ReLU(activation)\n",
    "    \n",
    "    return y\n",
    "\n",
    "def FNN_2lay(x_vect,parameters):\n",
    "    \n",
    "    h1_1 = perceptron(x_vect + parameters['b1'],parameters['h1_1_weighs'])\n",
    "    h1_2 = perceptron(x_vect + parameters['b1'],parameters['h1_2_weighs'])\n",
    "    h1_3 = perceptron(x_vect + parameters['b1'],parameters['h1_3_weighs'])\n",
    "    \n",
    "    h1_layer = [h1_1,h1_2,h1_3] + parameters['b2']\n",
    "    \n",
    "    h2_1 = perceptron(h1_layer,parameters['h2_1_weighs'])\n",
    "    h2_2 = perceptron(h1_layer,parameters['h2_2_weighs'])\n",
    "    \n",
    "    h2_layer = [h2_1,h2_2] + parameters['b3']\n",
    "    \n",
    "    y = perceptron(h2_layer,parameters['output_weighs'])\n",
    "    \n",
    "    print(x_vect)#,\"h1:\",h1,\"; h2:\",h2,\"; h3:\",h3)\n",
    "    \n",
    "    return y"
   ]
  },
  {
   "cell_type": "code",
   "execution_count": 5,
   "id": "284c84ac",
   "metadata": {},
   "outputs": [
    {
     "name": "stdout",
     "output_type": "stream",
     "text": [
      "[1, 1, 1]\n",
      "y:  1\n",
      "[1, 0, 0]\n",
      "y:  1\n",
      "[0, 0, 0]\n",
      "y:  0\n",
      "[0, 1, 1]\n",
      "y:  0\n",
      "[0, 1, 0]\n",
      "y:  0\n",
      "[0, 0, 1]\n",
      "y:  0\n",
      "[1, 0, 1]\n",
      "y:  0\n",
      "[1, 1, 0]\n",
      "y:  0\n"
     ]
    }
   ],
   "source": [
    "xor_parameters = {\n",
    "    \"b1\": [1],\n",
    "    \"b2\": [1],\n",
    "    \"b3\": [1],\n",
    "    \n",
    "    \"h1_1_weighs\": [1, 0, 0, 0],\n",
    "    \"h1_2_weighs\": [0, 1, 1, 0],\n",
    "    \"h1_3_weighs\": [0, 1, 1, -1],\n",
    "    \"h2_1_weighs\": [1, 0, 0, 0],\n",
    "    \"h2_2_weighs\": [0, 1, -2, 0], \n",
    "    \"output_weighs\": [1, -1, 0] # 1st unit \"1 there or not\" unit, 2nd unit XOR unit\n",
    "}\n",
    "\n",
    "\n",
    "test = [\n",
    "    [1, 1, 1],\n",
    "    [1, 0, 0],\n",
    "    [0, 0, 0],    \n",
    "    [0, 1, 1],\n",
    "    [0, 1, 0],\n",
    "    [0, 0, 1],\n",
    "    [1, 0, 1],\n",
    "    [1, 1, 0]]\n",
    "\n",
    "for x in test:\n",
    "    \n",
    "    y = FNN_2lay(x,xor_parameters)\n",
    "    print(\"y: \",y)"
   ]
  },
  {
   "cell_type": "code",
   "execution_count": null,
   "id": "a693379d",
   "metadata": {},
   "outputs": [],
   "source": [
    "https://colab.research.google.com/drive/118bgXgnFDnI_xm9kyoB472DFTWHCWU8j#scrollTo=CDRLHJo_2eGc"
   ]
  }
 ],
 "metadata": {
  "kernelspec": {
   "display_name": "Python 3 (ipykernel)",
   "language": "python",
   "name": "python3"
  },
  "language_info": {
   "codemirror_mode": {
    "name": "ipython",
    "version": 3
   },
   "file_extension": ".py",
   "mimetype": "text/x-python",
   "name": "python",
   "nbconvert_exporter": "python",
   "pygments_lexer": "ipython3",
   "version": "3.10.9"
  }
 },
 "nbformat": 4,
 "nbformat_minor": 5
}
