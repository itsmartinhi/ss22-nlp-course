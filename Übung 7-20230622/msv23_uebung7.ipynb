{
 "cells": [
  {
   "cell_type": "markdown",
   "id": "bba5e7d1",
   "metadata": {},
   "source": [
    "# MSV / SS 2023 - Übung 7"
   ]
  },
  {
   "cell_type": "markdown",
   "id": "aafc8bb1",
   "metadata": {},
   "source": [
    "## 7.1 Agreement"
   ]
  },
  {
   "cell_type": "code",
   "execution_count": 44,
   "id": "186d1e25",
   "metadata": {},
   "outputs": [],
   "source": [
    "import pandas as pd\n",
    "import numpy as np"
   ]
  },
  {
   "cell_type": "markdown",
   "id": "831654c7",
   "metadata": {},
   "source": [
    "#### Notation\n",
    "- Menge von __Instanzen__ $\\{ i | i \\in I \\}$ der Kardinalität $\\mathbf{i}$\n",
    "- Menge von __Kategorien__ $\\{ k | k \\in K \\}$ der Kardinalität $\\mathbf{k}$\n",
    "- Menge von __Annotatoren__ (Codierern) $\\{ c | c \\in C \\}$ der Kardinalität $\\mathbf{c}$\n",
    "\n",
    "- $\\mathbf{n}_i^k$  ist die Anzahl der Annotatoren, die die Instanz $i$ der Kategorie $k$ zugeordnet haben\n",
    "- $\\mathbf{n}_c^k$ ist die Anzahl der Instanzen, die vom Annotatoren $c$ der Kategorie $k$ zugeordnet wurden \n",
    "- $\\mathbf{n}^k$  ist die gesamte Anzahl der Instanzen, die der Kategorie $k$ zugeordnet wurden\n",
    "\n",
    "#### Beispiel: Sentiment-Klassifikation (2 Mögliche Klassen: Positiv oder Negativ)"
   ]
  },
  {
   "cell_type": "code",
   "execution_count": 32,
   "id": "d377db84",
   "metadata": {},
   "outputs": [],
   "source": [
    "tuples = [[25, 15, 40],\n",
    "         [5, 55, 60],\n",
    "         [30, 70, 100]]\n",
    "header = pd.MultiIndex.from_product([['Annotator A'], ['Pos', 'Neg', 'Total']])\n",
    "arrays = [np.array(['Annotator B', 'Annotator B', 'Annotator B']), np.array(['Pos', 'Neg', 'Total'])]\n",
    "sentiment = pd.DataFrame(tuples, index=arrays, columns=header,)"
   ]
  },
  {
   "cell_type": "markdown",
   "id": "ade687c5",
   "metadata": {},
   "source": [
    "#### Konfusionsmatrix"
   ]
  },
  {
   "cell_type": "code",
   "execution_count": 23,
   "id": "750e642a",
   "metadata": {},
   "outputs": [
    {
     "data": {
      "text/html": [
       "<div>\n",
       "<style scoped>\n",
       "    .dataframe tbody tr th:only-of-type {\n",
       "        vertical-align: middle;\n",
       "    }\n",
       "\n",
       "    .dataframe tbody tr th {\n",
       "        vertical-align: top;\n",
       "    }\n",
       "\n",
       "    .dataframe thead tr th {\n",
       "        text-align: left;\n",
       "    }\n",
       "</style>\n",
       "<table border=\"1\" class=\"dataframe\">\n",
       "  <thead>\n",
       "    <tr>\n",
       "      <th></th>\n",
       "      <th></th>\n",
       "      <th colspan=\"3\" halign=\"left\">Annotator A</th>\n",
       "    </tr>\n",
       "    <tr>\n",
       "      <th></th>\n",
       "      <th></th>\n",
       "      <th>Pos</th>\n",
       "      <th>Neg</th>\n",
       "      <th>Total</th>\n",
       "    </tr>\n",
       "  </thead>\n",
       "  <tbody>\n",
       "    <tr>\n",
       "      <th rowspan=\"3\" valign=\"top\">Annotator B</th>\n",
       "      <th>Pos</th>\n",
       "      <td>25</td>\n",
       "      <td>15</td>\n",
       "      <td>40</td>\n",
       "    </tr>\n",
       "    <tr>\n",
       "      <th>Neg</th>\n",
       "      <td>5</td>\n",
       "      <td>55</td>\n",
       "      <td>60</td>\n",
       "    </tr>\n",
       "    <tr>\n",
       "      <th>Total</th>\n",
       "      <td>30</td>\n",
       "      <td>70</td>\n",
       "      <td>100</td>\n",
       "    </tr>\n",
       "  </tbody>\n",
       "</table>\n",
       "</div>"
      ],
      "text/plain": [
       "                  Annotator A          \n",
       "                          Pos Neg Total\n",
       "Annotator B Pos            25  15    40\n",
       "            Neg             5  55    60\n",
       "            Total          30  70   100"
      ]
     },
     "execution_count": 23,
     "metadata": {},
     "output_type": "execute_result"
    }
   ],
   "source": [
    "sentiment"
   ]
  },
  {
   "cell_type": "markdown",
   "id": "0c21abee",
   "metadata": {},
   "source": [
    "### Option 1: Percentage Agreement (Prozentuale Übereinstimmung)\n",
    "\n",
    "Wieviel % der Labels wurden von beiden Annotator/innen vergeben?\n",
    "\n",
    "$$ {{\\mathbf{n}_{\\textrm{agr}}} \\over {\\mathbf{n}}} $$\n",
    "\n",
    "__Beobachtetes Übereinstimmung (observed agreement)__\n",
    "\n",
    "arithmetisches Mittel aller $i$\n",
    "\n",
    "$$ A_o = {1 \\over \\mathbf{i} } \\sum_{i \\in I} \\textrm{agr}_i $$\n",
    "\n",
    "- $\\textrm{agr}_i$ ist\n",
    "    - $0$ wenn die beiden Codierer Instanz $i$ verschiedenen Kategorie zugeordnet haben\n",
    "    - $1$ wenn die beiden Codierer Instanz $i$ der gleichen Kategorie zugeordnet haben\n",
    "    "
   ]
  },
  {
   "cell_type": "markdown",
   "id": "8d0abcf4",
   "metadata": {},
   "source": [
    "$$ A_o = {1 \\over 100 } (25 + 55) = 0.8 $$ "
   ]
  },
  {
   "cell_type": "markdown",
   "id": "0d7abc08",
   "metadata": {},
   "source": [
    "__Nachteile:__\n",
    "- $A_o$ berücksichtigt nicht den Anteil an Übereinstimmung, der durch __Zufall__ erreicht wurde (chance agreement)\n",
    "- Chance agreement häng  sehr stark von der jeweiligen Annotationsaufgabe ab (Anzahl an Kategorien & höhere Übereinstimmung für die dominante Klasse) \n",
    "\n",
    "__Die Beobachtete Übereinstimmung muss mithilfe der zufällige Übereinstimmung korrigiert werden__"
   ]
  },
  {
   "cell_type": "markdown",
   "id": "b0074f9f",
   "metadata": {},
   "source": [
    "### Option 2: zufalls-korrigierte Koeffizient  $\\kappa$ (Cohen 1960): \n",
    "    \n",
    "(1) Welche Übereinstimmung erwarten wir?\n",
    "\n",
    "$A_e$\n",
    "\n",
    "(2) Welche Übereinstimmung über Zufall hinaus\n",
    "wurde tatsächlich gefunden?\n",
    "\n",
    "$A_o - A_e$\n",
    "\n",
    "(3) Welche Übereinstimmung über Zufall hinaus war überhaupt möglich? \n",
    "\n",
    "$1 - A_e$\n",
    "\n",
    "(4) Welche Übereinstimmung wurde erreicht, basierend auf (1) und (2)?\n",
    "\n",
    "$${A_o - A_e \\over 1 - A_e}$$\n",
    "\n",
    "- Wenn die Übereinstimmung $= 0$: zufällige Übereinstimmung (keine Übereinstimmung über $A_e$ hinaus)\n",
    "- If agreement $= 1$: bestmögliche Übereinstimmung (höheste Übereinstimmung über $A_e$ hinaus)\n",
    "- If agreement $< 0$: schlechter als der Zufall"
   ]
  },
  {
   "cell_type": "markdown",
   "id": "77a593e9",
   "metadata": {},
   "source": [
    "(5) Berechnung der $A_e$ mittels $P(k|c_1)$ - die Wahrscheinlichkeit, dass Annotator $c$ eine beliebige Instanz als Kategorie $k$ annotiert (Unabhängigkeitsannahme)\n",
    "\n",
    "$$A^\\kappa_e = \\sum_{k \\in K} P(k|c_1) \\cdot P(k|c_2)$$"
   ]
  },
  {
   "cell_type": "markdown",
   "id": "95b7ffd8",
   "metadata": {},
   "source": [
    "- Individuelle Verteilung für jede Annotatorin: zufällige Zuweisung von Kategorien zu Instanzen wird von A-priori-Wahrscheinlichkeit gesteuert, die für jede Annotatorin bestimmt wird \n",
    "\n",
    "$$\\hat{P}(k|c_i) = { \\mathbf{n}_{c_ik} \\over \\mathbf{i} }$$\n",
    "\n",
    "$$A^\\kappa_e = \\sum_{k \\in K} \\hat{P}(k|c_1) \\cdot \\hat{P}(k|c_2) = \\sum_{k \\in K} { \\mathbf{n}_{c_1k} \\over \\mathbf{i} } \\cdot { \\mathbf{n}_{c_2k} \\over \\mathbf{i} } $$"
   ]
  },
  {
   "cell_type": "code",
   "execution_count": 24,
   "id": "d791440f",
   "metadata": {},
   "outputs": [
    {
     "data": {
      "text/html": [
       "<div>\n",
       "<style scoped>\n",
       "    .dataframe tbody tr th:only-of-type {\n",
       "        vertical-align: middle;\n",
       "    }\n",
       "\n",
       "    .dataframe tbody tr th {\n",
       "        vertical-align: top;\n",
       "    }\n",
       "\n",
       "    .dataframe thead tr th {\n",
       "        text-align: left;\n",
       "    }\n",
       "</style>\n",
       "<table border=\"1\" class=\"dataframe\">\n",
       "  <thead>\n",
       "    <tr>\n",
       "      <th></th>\n",
       "      <th></th>\n",
       "      <th colspan=\"3\" halign=\"left\">Annotator A</th>\n",
       "    </tr>\n",
       "    <tr>\n",
       "      <th></th>\n",
       "      <th></th>\n",
       "      <th>Pos</th>\n",
       "      <th>Neg</th>\n",
       "      <th>Total</th>\n",
       "    </tr>\n",
       "  </thead>\n",
       "  <tbody>\n",
       "    <tr>\n",
       "      <th rowspan=\"3\" valign=\"top\">Annotator B</th>\n",
       "      <th>Pos</th>\n",
       "      <td>25</td>\n",
       "      <td>15</td>\n",
       "      <td>40</td>\n",
       "    </tr>\n",
       "    <tr>\n",
       "      <th>Neg</th>\n",
       "      <td>5</td>\n",
       "      <td>55</td>\n",
       "      <td>60</td>\n",
       "    </tr>\n",
       "    <tr>\n",
       "      <th>Total</th>\n",
       "      <td>30</td>\n",
       "      <td>70</td>\n",
       "      <td>100</td>\n",
       "    </tr>\n",
       "  </tbody>\n",
       "</table>\n",
       "</div>"
      ],
      "text/plain": [
       "                  Annotator A          \n",
       "                          Pos Neg Total\n",
       "Annotator B Pos            25  15    40\n",
       "            Neg             5  55    60\n",
       "            Total          30  70   100"
      ]
     },
     "execution_count": 24,
     "metadata": {},
     "output_type": "execute_result"
    }
   ],
   "source": [
    "sentiment"
   ]
  },
  {
   "cell_type": "markdown",
   "id": "794b2619",
   "metadata": {},
   "source": [
    "$$\\hat{P}(\\textrm{Pos}|\\textrm{AnnotatorA}) = 30 / 100 = 0.3$$\n",
    "$$\\hat{P}(\\textrm{Pos}|\\textrm{AnnotatorB}) = 40 / 100 = 0.4$$\n",
    "\n",
    "$$\\hat{P}(\\textrm{Neg}|\\textrm{AnnotatorA}) = 70 / 100 = 0.7$$\n",
    "$$\\hat{P}(\\textrm{Neg}|\\textrm{AnnotatorB}) = 60 / 100 = 0.6$$\n",
    "\n",
    "$$A^\\kappa_e = \\hat{P}(\\textrm{Pos}|\\textrm{AnnotatorA}) \\cdot \\hat{P}(\\textrm{Pos}|\\textrm{AnnotatorB}) + \n",
    "\\hat{P}(\\textrm{Neg}|\\textrm{AnnotatorA}) \\cdot \\hat{P}(\\textrm{Neg}|\\textrm{AnnotatorB}) = 0.54$$\n",
    "\n",
    "$$\\kappa = {0.8-0.54 \\over 1 - 0.54} \\approx 0.56$$"
   ]
  },
  {
   "cell_type": "markdown",
   "id": "ccc4c794",
   "metadata": {},
   "source": [
    "### Mehr als 2 Annotatoren?"
   ]
  },
  {
   "cell_type": "code",
   "execution_count": 30,
   "id": "b32e84c5",
   "metadata": {},
   "outputs": [],
   "source": [
    "tuples = [[\"2\", \"1\"],\n",
    "         [\"0\", \"3\"],\n",
    "         [\" \", \" \"],\n",
    "         [\"1\", \"2\"],\n",
    "         [\"90 (0.3)\", \"210 (0.7)\"]]\n",
    "header = ['Pos', 'Neg']\n",
    "arrays = ['Rew1', 'Rew2', '...', 'Rew100', 'Total']\n",
    "sentiment2 = pd.DataFrame(tuples, index=arrays, columns=header,)"
   ]
  },
  {
   "cell_type": "markdown",
   "id": "7c4ec3d3",
   "metadata": {},
   "source": [
    "#### Übereinstimmungstabelle"
   ]
  },
  {
   "cell_type": "code",
   "execution_count": 31,
   "id": "72161979",
   "metadata": {},
   "outputs": [
    {
     "data": {
      "text/html": [
       "<div>\n",
       "<style scoped>\n",
       "    .dataframe tbody tr th:only-of-type {\n",
       "        vertical-align: middle;\n",
       "    }\n",
       "\n",
       "    .dataframe tbody tr th {\n",
       "        vertical-align: top;\n",
       "    }\n",
       "\n",
       "    .dataframe thead th {\n",
       "        text-align: right;\n",
       "    }\n",
       "</style>\n",
       "<table border=\"1\" class=\"dataframe\">\n",
       "  <thead>\n",
       "    <tr style=\"text-align: right;\">\n",
       "      <th></th>\n",
       "      <th>Pos</th>\n",
       "      <th>Neg</th>\n",
       "    </tr>\n",
       "  </thead>\n",
       "  <tbody>\n",
       "    <tr>\n",
       "      <th>Rew1</th>\n",
       "      <td>2</td>\n",
       "      <td>1</td>\n",
       "    </tr>\n",
       "    <tr>\n",
       "      <th>Rew2</th>\n",
       "      <td>0</td>\n",
       "      <td>3</td>\n",
       "    </tr>\n",
       "    <tr>\n",
       "      <th>...</th>\n",
       "      <td></td>\n",
       "      <td></td>\n",
       "    </tr>\n",
       "    <tr>\n",
       "      <th>Rew100</th>\n",
       "      <td>1</td>\n",
       "      <td>2</td>\n",
       "    </tr>\n",
       "    <tr>\n",
       "      <th>Total</th>\n",
       "      <td>90 (0.3)</td>\n",
       "      <td>210 (0.7)</td>\n",
       "    </tr>\n",
       "  </tbody>\n",
       "</table>\n",
       "</div>"
      ],
      "text/plain": [
       "             Pos        Neg\n",
       "Rew1           2          1\n",
       "Rew2           0          3\n",
       "...                        \n",
       "Rew100         1          2\n",
       "Total   90 (0.3)  210 (0.7)"
      ]
     },
     "execution_count": 31,
     "metadata": {},
     "output_type": "execute_result"
    }
   ],
   "source": [
    "sentiment2"
   ]
  },
  {
   "attachments": {},
   "cell_type": "markdown",
   "id": "4e4cbe9d",
   "metadata": {},
   "source": [
    "$\\kappa$ kann generalisiert werden\n",
    "\n",
    "#### Observed Agreement\n",
    "\n",
    "$A_o$: Anteil an übereinstimmenden Beurteilungspaaren ${\\mathbf{n}_{ik} \\choose 2}$ aus der Gesamtanzahl an Beurteilungspaaren für diese Instanz ${\\mathbf{c} \\choose 2}$\n",
    "\n",
    "$$\\textrm{agr}_1 = {1 \\over {\\mathbf{c} \\choose 2}} \\sum_{k \\in K}{\\mathbf{n}_{ik} \\choose 2} = {1 \\over \\mathbf{c}(\\mathbf{c} - 1)}\\sum_{k \\in K}\\mathbf{n}_{ik}(\\mathbf{n}_{ik} - 1)$$\n",
    "\n",
    "$$A_o = {1 \\over \\mathbf{i}} \\sum_{i \\in I} \\textrm{agr}_i = {1 \\over \\mathbf{ic}(\\mathbf{c} -1)}\\sum_{i \\in I}\\sum_{k \\in K}\\mathbf{n}_{ik}(\\mathbf{n}_{ik} - 1)$$"
   ]
  },
  {
   "cell_type": "markdown",
   "id": "a445b566",
   "metadata": {},
   "source": [
    "#### für Rew_1:\n",
    "\n",
    "$$\\mathbf{n}_{\\textrm{Utt}_{1}\\textrm{Pos}} = 2$$\n",
    "$$\\mathbf{n}_{\\textrm{Utt}_{1}\\textrm{Neg}} = 1$$\n",
    "    \n",
    "$$\\textrm{agr}_i = {1 \\over {3 \\choose 2}} \\bigg({\\mathbf{n}_{\\textrm{Rew}_{1}\\textrm{Pos}} \\choose 2} + {\\mathbf{n}_{\\textrm{Rew}_{1}\\textrm{Neg}} \\choose 2} \\bigg) = {1 \\over 3} (1 + 0) \\approx 0.33$$\n",
    "    \n"
   ]
  },
  {
   "cell_type": "markdown",
   "id": "9003aeb3",
   "metadata": {},
   "source": [
    "#### Expected Agreement\n",
    "\n",
    "$A_e$: Wahrscheinlichkeit, dass 2 zufällig ausgewählte\n",
    "Annotatoren einer Instanz zufällig die gleiche Kategorie zuweisen)"
   ]
  },
  {
   "cell_type": "markdown",
   "id": "5a6242c6",
   "metadata": {},
   "source": [
    "- Multi$-\\kappa$: \n",
    "    - __Separate Wahrscheinlichkeitsverteilung für Annotatoren und Kategorien___\n",
    "    \n",
    "    $$\\hat{P}(k) = { 1 \\over \\mathbf{ic} } \\mathbf{n}_ck$$\n",
    "\n",
    "    (joint probability of each coder making this assignment independently)\n",
    "\n",
    "    $$A^\\kappa_e = \\sum_{k \\in K} {1 \\over {\\mathbf{c} \\choose 2}} \\sum_{m = 1}^{\\mathbf{c}-1} \\sum_{n = m + 1}^{\\mathbf{c}} \\hat{P}(k|c_m) \\cdot \\hat{P}(k|c_n)$$"
   ]
  },
  {
   "cell_type": "markdown",
   "id": "b0ec811a",
   "metadata": {},
   "source": [
    "#### Krippendorff's  $\\alpha$\n",
    "\n",
    "- kann auf mehr als 2 Annotatoren angewendet werden\n",
    "- misst die fehlende Übereinstimmung, oder Disagreement (nicht Agreement)\n",
    " $$\\alpha = 1 - {D_o \\over D_e}$$\n",
    "- bezieht mit ein, wie schwerwiegend die fehlende Übereinstimmung ist\n",
    "- kann mit fehlenden Werten umgehen\n",
    "\n",
    "\n",
    "- https://repository.upenn.edu/cgi/viewcontent.cgi?article=1043&context=asc_papers \n",
    "- https://www.nltk.org/_modules/nltk/metrics/agreement.html"
   ]
  },
  {
   "cell_type": "code",
   "execution_count": 33,
   "id": "015b6b16",
   "metadata": {},
   "outputs": [],
   "source": [
    "from nltk.metrics.agreement import AnnotationTask"
   ]
  },
  {
   "cell_type": "code",
   "execution_count": 60,
   "id": "b70843d1",
   "metadata": {},
   "outputs": [
    {
     "data": {
      "text/html": [
       "<div>\n",
       "<style scoped>\n",
       "    .dataframe tbody tr th:only-of-type {\n",
       "        vertical-align: middle;\n",
       "    }\n",
       "\n",
       "    .dataframe tbody tr th {\n",
       "        vertical-align: top;\n",
       "    }\n",
       "\n",
       "    .dataframe thead th {\n",
       "        text-align: right;\n",
       "    }\n",
       "</style>\n",
       "<table border=\"1\" class=\"dataframe\">\n",
       "  <thead>\n",
       "    <tr style=\"text-align: right;\">\n",
       "      <th></th>\n",
       "      <th>1</th>\n",
       "      <th>2</th>\n",
       "      <th>3</th>\n",
       "      <th>4</th>\n",
       "      <th>5</th>\n",
       "      <th>6</th>\n",
       "      <th>7</th>\n",
       "      <th>8</th>\n",
       "      <th>9</th>\n",
       "      <th>10</th>\n",
       "    </tr>\n",
       "  </thead>\n",
       "  <tbody>\n",
       "    <tr>\n",
       "      <th>meg</th>\n",
       "      <td>0</td>\n",
       "      <td>1</td>\n",
       "      <td>0</td>\n",
       "      <td>0</td>\n",
       "      <td>0</td>\n",
       "      <td>0</td>\n",
       "      <td>0</td>\n",
       "      <td>0</td>\n",
       "      <td>1</td>\n",
       "      <td>0</td>\n",
       "    </tr>\n",
       "    <tr>\n",
       "      <th>owen</th>\n",
       "      <td>1</td>\n",
       "      <td>1</td>\n",
       "      <td>1</td>\n",
       "      <td>0</td>\n",
       "      <td>0</td>\n",
       "      <td>1</td>\n",
       "      <td>0</td>\n",
       "      <td>0</td>\n",
       "      <td>0</td>\n",
       "      <td>0</td>\n",
       "    </tr>\n",
       "  </tbody>\n",
       "</table>\n",
       "</div>"
      ],
      "text/plain": [
       "      1   2   3   4   5   6   7   8   9   10\n",
       "meg    0   1   0   0   0   0   0   0   1   0\n",
       "owen   1   1   1   0   0   1   0   0   0   0"
      ]
     },
     "execution_count": 60,
     "metadata": {},
     "output_type": "execute_result"
    }
   ],
   "source": [
    "matrix = [[0, 1, 0, 0, 0, 0, 0, 0, 1, 0],\n",
    "         [1, 1, 1, 0, 0, 1, 0, 0, 0, 0]]\n",
    "header = pd.Series(range(1,11))\n",
    "arrays = ['meg', 'owen']\n",
    "caseA = pd.DataFrame(matrix, index=arrays, columns=header,)\n",
    "caseA"
   ]
  },
  {
   "cell_type": "code",
   "execution_count": 61,
   "id": "c6b4c570",
   "metadata": {},
   "outputs": [
    {
     "data": {
      "text/plain": [
       "[('meg', 1, 0),\n",
       " ('owen', 1, 1),\n",
       " ('meg', 2, 1),\n",
       " ('owen', 2, 1),\n",
       " ('meg', 3, 0),\n",
       " ('owen', 3, 1),\n",
       " ('meg', 4, 0),\n",
       " ('owen', 4, 0),\n",
       " ('meg', 5, 0),\n",
       " ('owen', 5, 0),\n",
       " ('meg', 6, 0),\n",
       " ('owen', 6, 1),\n",
       " ('meg', 7, 0),\n",
       " ('owen', 7, 0),\n",
       " ('meg', 8, 0),\n",
       " ('owen', 8, 0),\n",
       " ('meg', 9, 1),\n",
       " ('owen', 9, 0),\n",
       " ('meg', 10, 0),\n",
       " ('owen', 10, 0)]"
      ]
     },
     "execution_count": 61,
     "metadata": {},
     "output_type": "execute_result"
    }
   ],
   "source": [
    "caseA_tuples = caseA.reset_index().melt(id_vars=['index'])\n",
    "caseA_tuples.columns = [\"coder\", \"item\", \"code\"]\n",
    "caseA_tuples = list(zip(caseA_tuples.coder, caseA_tuples.item, caseA_tuples.code))\n",
    "caseA_tuples"
   ]
  },
  {
   "cell_type": "code",
   "execution_count": 62,
   "id": "433d22df",
   "metadata": {},
   "outputs": [],
   "source": [
    "task = AnnotationTask(data=caseA_tuples)"
   ]
  },
  {
   "cell_type": "code",
   "execution_count": 63,
   "id": "7d269bb2",
   "metadata": {},
   "outputs": [
    {
     "data": {
      "text/plain": [
       "0.6"
      ]
     },
     "execution_count": 63,
     "metadata": {},
     "output_type": "execute_result"
    }
   ],
   "source": [
    "task.avg_Ao()"
   ]
  },
  {
   "cell_type": "code",
   "execution_count": 64,
   "id": "50d7842d",
   "metadata": {},
   "outputs": [
    {
     "data": {
      "text/plain": [
       "0.09090909090909075"
      ]
     },
     "execution_count": 64,
     "metadata": {},
     "output_type": "execute_result"
    }
   ],
   "source": [
    "task.kappa()"
   ]
  },
  {
   "cell_type": "code",
   "execution_count": 65,
   "id": "b3e7cba3",
   "metadata": {},
   "outputs": [
    {
     "data": {
      "text/plain": [
       "0.09523809523809512"
      ]
     },
     "execution_count": 65,
     "metadata": {},
     "output_type": "execute_result"
    }
   ],
   "source": [
    "task.alpha()"
   ]
  },
  {
   "cell_type": "markdown",
   "id": "53110690",
   "metadata": {},
   "source": [
    "## 7.2 Named Entity Recognition mit SpaCy (Chap 3)\n",
    "\n",
    "basiert auf: \n",
    "- Duygu Altinok, Mastering Spacy, Chapt 3 - Code und Daten: https://github.com/PacktPublishing/Mastering-spaCy/tree/main/Chapter03 & \n",
    "- Duygu Altinok, Mastering Spacy, Chapt 4 - Code und Daten: https://github.com/PacktPublishing/Mastering-spaCy/tree/main/Chapter04"
   ]
  },
  {
   "cell_type": "code",
   "execution_count": 66,
   "id": "b7a8eb49",
   "metadata": {},
   "outputs": [],
   "source": [
    "import re\n",
    "import spacy\n",
    "nlp_en = spacy.load(\"en_core_web_md\") "
   ]
  },
  {
   "cell_type": "markdown",
   "id": "3314bb29",
   "metadata": {},
   "source": [
    "Jede Instanz der Klasse ``Language`` enthält eine sprachspezifische Verarbeitungspipeline\n",
    "\n",
    "<img src=\"https://spacy.io/images/pipeline.svg\" alt=\"SpaCy architecture\" width=\"500\" />"
   ]
  },
  {
   "cell_type": "markdown",
   "id": "511d9701",
   "metadata": {},
   "source": [
    "### Entitäts vorhersagen (NER)"
   ]
  },
  {
   "cell_type": "code",
   "execution_count": 68,
   "id": "f60749f4",
   "metadata": {},
   "outputs": [
    {
     "data": {
      "text/plain": [
       "(United Airlines,\n",
       " Friday,\n",
       " 6,\n",
       " American Airlines,\n",
       " AMR Corp.,\n",
       " Tim Wagner,\n",
       " United,\n",
       " UAL Corp.,\n",
       " Thursday,\n",
       " Chicago,\n",
       " Dallas,\n",
       " Denver,\n",
       " San Francisco)"
      ]
     },
     "execution_count": 68,
     "metadata": {},
     "output_type": "execute_result"
    }
   ],
   "source": [
    "doc = nlp_en(\"Citing high fuel prices, United Airlines said Friday it has increased fares by $6 per round trip on flights to some cities also served by lower-cost carriers. American Airlines, a unit of AMR Corp., immediately matched the move, spokesman Tim Wagner said. United, a unit of UAL Corp., said the increase took effect Thursday and applies to most routes where it competes against discount carriers, such as Chicago to Dallas and Denver to San Francisco.\")\n",
    "\n",
    "doc.ents"
   ]
  },
  {
   "cell_type": "code",
   "execution_count": 52,
   "id": "3bb2d8eb",
   "metadata": {},
   "outputs": [
    {
     "name": "stdout",
     "output_type": "stream",
     "text": [
      "Citing \n",
      "high \n",
      "fuel \n",
      "prices \n",
      ", \n",
      "United ORG\n",
      "Airlines ORG\n",
      "said \n",
      "Friday DATE\n",
      "it \n",
      "has \n",
      "increased \n",
      "fares \n",
      "by \n",
      "$ \n",
      "6 MONEY\n",
      "per \n",
      "round \n",
      "trip \n",
      "on \n",
      "flights \n",
      "to \n",
      "some \n",
      "cities \n",
      "also \n",
      "served \n",
      "by \n",
      "lower \n",
      "- \n",
      "cost \n",
      "carriers \n",
      ". \n",
      "American ORG\n",
      "Airlines ORG\n",
      ", \n",
      "a \n",
      "unit \n",
      "of \n",
      "AMR ORG\n",
      "Corp. ORG\n",
      ", \n",
      "immediately \n",
      "matched \n",
      "the \n",
      "move \n",
      ", \n",
      "spokesman \n",
      "Tim PERSON\n",
      "Wagner PERSON\n",
      "said \n",
      ". \n",
      "United ORG\n",
      ", \n",
      "a \n",
      "unit \n",
      "of \n",
      "UAL ORG\n",
      "Corp. ORG\n",
      ", \n",
      "said \n",
      "the \n",
      "increase \n",
      "took \n",
      "effect \n",
      "Thursday DATE\n",
      "and \n",
      "applies \n",
      "to \n",
      "most \n",
      "routes \n",
      "where \n",
      "it \n",
      "competes \n",
      "against \n",
      "discount \n",
      "carriers \n",
      ", \n",
      "such \n",
      "as \n",
      "Chicago GPE\n",
      "to \n",
      "Dallas GPE\n",
      "and \n",
      "Denver GPE\n",
      "to \n",
      "San GPE\n",
      "Francisco GPE\n",
      ". \n"
     ]
    }
   ],
   "source": [
    "for token in doc:\n",
    "    print(token.text, token.ent_type_)"
   ]
  },
  {
   "cell_type": "code",
   "execution_count": 53,
   "id": "fb8845a9",
   "metadata": {},
   "outputs": [
    {
     "data": {
      "text/html": [
       "<span class=\"tex2jax_ignore\"><div class=\"entities\" style=\"line-height: 2.5; direction: ltr\">Citing high fuel prices, \n",
       "<mark class=\"entity\" style=\"background: #7aecec; padding: 0.45em 0.6em; margin: 0 0.25em; line-height: 1; border-radius: 0.35em;\">\n",
       "    United Airlines\n",
       "    <span style=\"font-size: 0.8em; font-weight: bold; line-height: 1; border-radius: 0.35em; vertical-align: middle; margin-left: 0.5rem\">ORG</span>\n",
       "</mark>\n",
       " said \n",
       "<mark class=\"entity\" style=\"background: #bfe1d9; padding: 0.45em 0.6em; margin: 0 0.25em; line-height: 1; border-radius: 0.35em;\">\n",
       "    Friday\n",
       "    <span style=\"font-size: 0.8em; font-weight: bold; line-height: 1; border-radius: 0.35em; vertical-align: middle; margin-left: 0.5rem\">DATE</span>\n",
       "</mark>\n",
       " it has increased fares by $\n",
       "<mark class=\"entity\" style=\"background: #e4e7d2; padding: 0.45em 0.6em; margin: 0 0.25em; line-height: 1; border-radius: 0.35em;\">\n",
       "    6\n",
       "    <span style=\"font-size: 0.8em; font-weight: bold; line-height: 1; border-radius: 0.35em; vertical-align: middle; margin-left: 0.5rem\">MONEY</span>\n",
       "</mark>\n",
       " per round trip on flights to some cities also served by lower-cost carriers. \n",
       "<mark class=\"entity\" style=\"background: #7aecec; padding: 0.45em 0.6em; margin: 0 0.25em; line-height: 1; border-radius: 0.35em;\">\n",
       "    American Airlines\n",
       "    <span style=\"font-size: 0.8em; font-weight: bold; line-height: 1; border-radius: 0.35em; vertical-align: middle; margin-left: 0.5rem\">ORG</span>\n",
       "</mark>\n",
       ", a unit of \n",
       "<mark class=\"entity\" style=\"background: #7aecec; padding: 0.45em 0.6em; margin: 0 0.25em; line-height: 1; border-radius: 0.35em;\">\n",
       "    AMR Corp.\n",
       "    <span style=\"font-size: 0.8em; font-weight: bold; line-height: 1; border-radius: 0.35em; vertical-align: middle; margin-left: 0.5rem\">ORG</span>\n",
       "</mark>\n",
       ", immediately matched the move, spokesman \n",
       "<mark class=\"entity\" style=\"background: #aa9cfc; padding: 0.45em 0.6em; margin: 0 0.25em; line-height: 1; border-radius: 0.35em;\">\n",
       "    Tim Wagner\n",
       "    <span style=\"font-size: 0.8em; font-weight: bold; line-height: 1; border-radius: 0.35em; vertical-align: middle; margin-left: 0.5rem\">PERSON</span>\n",
       "</mark>\n",
       " said. \n",
       "<mark class=\"entity\" style=\"background: #7aecec; padding: 0.45em 0.6em; margin: 0 0.25em; line-height: 1; border-radius: 0.35em;\">\n",
       "    United\n",
       "    <span style=\"font-size: 0.8em; font-weight: bold; line-height: 1; border-radius: 0.35em; vertical-align: middle; margin-left: 0.5rem\">ORG</span>\n",
       "</mark>\n",
       ", a unit of \n",
       "<mark class=\"entity\" style=\"background: #7aecec; padding: 0.45em 0.6em; margin: 0 0.25em; line-height: 1; border-radius: 0.35em;\">\n",
       "    UAL Corp.\n",
       "    <span style=\"font-size: 0.8em; font-weight: bold; line-height: 1; border-radius: 0.35em; vertical-align: middle; margin-left: 0.5rem\">ORG</span>\n",
       "</mark>\n",
       ", said the increase took effect \n",
       "<mark class=\"entity\" style=\"background: #bfe1d9; padding: 0.45em 0.6em; margin: 0 0.25em; line-height: 1; border-radius: 0.35em;\">\n",
       "    Thursday\n",
       "    <span style=\"font-size: 0.8em; font-weight: bold; line-height: 1; border-radius: 0.35em; vertical-align: middle; margin-left: 0.5rem\">DATE</span>\n",
       "</mark>\n",
       " and applies to most routes where it competes against discount carriers, such as \n",
       "<mark class=\"entity\" style=\"background: #feca74; padding: 0.45em 0.6em; margin: 0 0.25em; line-height: 1; border-radius: 0.35em;\">\n",
       "    Chicago\n",
       "    <span style=\"font-size: 0.8em; font-weight: bold; line-height: 1; border-radius: 0.35em; vertical-align: middle; margin-left: 0.5rem\">GPE</span>\n",
       "</mark>\n",
       " to \n",
       "<mark class=\"entity\" style=\"background: #feca74; padding: 0.45em 0.6em; margin: 0 0.25em; line-height: 1; border-radius: 0.35em;\">\n",
       "    Dallas\n",
       "    <span style=\"font-size: 0.8em; font-weight: bold; line-height: 1; border-radius: 0.35em; vertical-align: middle; margin-left: 0.5rem\">GPE</span>\n",
       "</mark>\n",
       " and \n",
       "<mark class=\"entity\" style=\"background: #feca74; padding: 0.45em 0.6em; margin: 0 0.25em; line-height: 1; border-radius: 0.35em;\">\n",
       "    Denver\n",
       "    <span style=\"font-size: 0.8em; font-weight: bold; line-height: 1; border-radius: 0.35em; vertical-align: middle; margin-left: 0.5rem\">GPE</span>\n",
       "</mark>\n",
       " to \n",
       "<mark class=\"entity\" style=\"background: #feca74; padding: 0.45em 0.6em; margin: 0 0.25em; line-height: 1; border-radius: 0.35em;\">\n",
       "    San Francisco\n",
       "    <span style=\"font-size: 0.8em; font-weight: bold; line-height: 1; border-radius: 0.35em; vertical-align: middle; margin-left: 0.5rem\">GPE</span>\n",
       "</mark>\n",
       ".</div></span>"
      ],
      "text/plain": [
       "<IPython.core.display.HTML object>"
      ]
     },
     "metadata": {},
     "output_type": "display_data"
    }
   ],
   "source": [
    "from spacy import displacy\n",
    "displacy.render(doc, style=\"ent\")"
   ]
  },
  {
   "cell_type": "code",
   "execution_count": 69,
   "id": "2ea9b814",
   "metadata": {},
   "outputs": [
    {
     "data": {
      "text/plain": [
       "'Countries, cities, states'"
      ]
     },
     "execution_count": 69,
     "metadata": {},
     "output_type": "execute_result"
    }
   ],
   "source": [
    "spacy.explain(\"GPE\")"
   ]
  },
  {
   "cell_type": "markdown",
   "id": "69fe7597",
   "metadata": {},
   "source": [
    "#### NER auf Deutsch"
   ]
  },
  {
   "cell_type": "code",
   "execution_count": 71,
   "id": "6c9e566a",
   "metadata": {},
   "outputs": [],
   "source": [
    "nlp_de = spacy.load(\"de_core_news_md\")"
   ]
  },
  {
   "cell_type": "code",
   "execution_count": 72,
   "id": "1ffb16eb",
   "metadata": {},
   "outputs": [
    {
     "data": {
      "text/html": [
       "<span class=\"tex2jax_ignore\"><div class=\"entities\" style=\"line-height: 2.5; direction: ltr\">Das von Einheimischen und Urlaubern befürchtete große \n",
       "<mark class=\"entity\" style=\"background: #ddd; padding: 0.45em 0.6em; margin: 0 0.25em; line-height: 1; border-radius: 0.35em;\">\n",
       "    Chaos             \n",
       "    <span style=\"font-size: 0.8em; font-weight: bold; line-height: 1; border-radius: 0.35em; vertical-align: middle; margin-left: 0.5rem\">MISC</span>\n",
       "</mark>\n",
       "auf \n",
       "<mark class=\"entity\" style=\"background: #ff9561; padding: 0.45em 0.6em; margin: 0 0.25em; line-height: 1; border-radius: 0.35em;\">\n",
       "    Sylt\n",
       "    <span style=\"font-size: 0.8em; font-weight: bold; line-height: 1; border-radius: 0.35em; vertical-align: middle; margin-left: 0.5rem\">LOC</span>\n",
       "</mark>\n",
       " blieb am langen Pfingstwochenende aus. Die zuständige Polizeidirektion             in \n",
       "<mark class=\"entity\" style=\"background: #ff9561; padding: 0.45em 0.6em; margin: 0 0.25em; line-height: 1; border-radius: 0.35em;\">\n",
       "    Flensburg\n",
       "    <span style=\"font-size: 0.8em; font-weight: bold; line-height: 1; border-radius: 0.35em; vertical-align: middle; margin-left: 0.5rem\">LOC</span>\n",
       "</mark>\n",
       " hat Bilanz gezogen: &quot;Für uns war es ein ruhiges Pfingstwochenende,             vergleichbar mit solchen von Vor-Corona-Zeiten&quot;, sagt Sprecherin \n",
       "<mark class=\"entity\" style=\"background: #ddd; padding: 0.45em 0.6em; margin: 0 0.25em; line-height: 1; border-radius: 0.35em;\">\n",
       "    Sandra Otte\n",
       "    <span style=\"font-size: 0.8em; font-weight: bold; line-height: 1; border-radius: 0.35em; vertical-align: middle; margin-left: 0.5rem\">PER</span>\n",
       "</mark>\n",
       " \n",
       "<mark class=\"entity\" style=\"background: #ddd; padding: 0.45em 0.6em; margin: 0 0.25em; line-height: 1; border-radius: 0.35em;\">\n",
       "    NDR             Schleswig-Holstein\n",
       "    <span style=\"font-size: 0.8em; font-weight: bold; line-height: 1; border-radius: 0.35em; vertical-align: middle; margin-left: 0.5rem\">MISC</span>\n",
       "</mark>\n",
       ". Laut Bilanz der Polizei kamen viele partyfreudige Menschen nach \n",
       "<mark class=\"entity\" style=\"background: #ff9561; padding: 0.45em 0.6em; margin: 0 0.25em; line-height: 1; border-radius: 0.35em;\">\n",
       "    Sylt\n",
       "    <span style=\"font-size: 0.8em; font-weight: bold; line-height: 1; border-radius: 0.35em; vertical-align: middle; margin-left: 0.5rem\">LOC</span>\n",
       "</mark>\n",
       ",             darunter auch etwa 150 Personen, die der Punker-Szene angehören. Insgesamt gab es laut             Otte zwar viele Einsätze, aber das sei normal, wenn viel gefeiert werde.</div></span>"
      ],
      "text/plain": [
       "<IPython.core.display.HTML object>"
      ]
     },
     "metadata": {},
     "output_type": "display_data"
    }
   ],
   "source": [
    "doc = nlp_de('Das von Einheimischen und Urlaubern befürchtete große Chaos \\\n",
    "            auf Sylt blieb am langen Pfingstwochenende aus. Die zuständige Polizeidirektion \\\n",
    "            in Flensburg hat Bilanz gezogen: \"Für uns war es ein ruhiges Pfingstwochenende, \\\n",
    "            vergleichbar mit solchen von Vor-Corona-Zeiten\", sagt Sprecherin Sandra Otte NDR \\\n",
    "            Schleswig-Holstein. Laut Bilanz der Polizei kamen viele partyfreudige Menschen nach Sylt, \\\n",
    "            darunter auch etwa 150 Personen, die der Punker-Szene angehören. Insgesamt gab es laut \\\n",
    "            Otte zwar viele Einsätze, aber das sei normal, wenn viel gefeiert werde.')\n",
    "\n",
    "from spacy import displacy\n",
    "displacy.render(doc, style=\"ent\")"
   ]
  },
  {
   "cell_type": "markdown",
   "id": "35880902",
   "metadata": {},
   "source": [
    "#### Warum ist die Erkennung von Entitäten auf Deutsch anspruchsvoller?"
   ]
  },
  {
   "cell_type": "markdown",
   "id": "755b1166",
   "metadata": {},
   "source": [
    "### Ein Beispiel mit Web-Scraping\n",
    "\n",
    "Also bitte vorher New ‣ Terminal auswahlen und \n",
    "```\n",
    "pip install beautifulsoup4\n",
    "pip install html5lib\n",
    "```"
   ]
  },
  {
   "cell_type": "code",
   "execution_count": 73,
   "id": "a7e0ed4f",
   "metadata": {},
   "outputs": [],
   "source": [
    "from bs4 import BeautifulSoup\n",
    "import requests"
   ]
  },
  {
   "cell_type": "code",
   "execution_count": 74,
   "id": "b2b670fa",
   "metadata": {},
   "outputs": [],
   "source": [
    "def url_text(url_string):\n",
    "\n",
    "    res = requests.get(url_string)\n",
    "\n",
    "    html = res.text\n",
    "\n",
    "    soup = BeautifulSoup(html, 'html')\n",
    "\n",
    "    for script in soup([\"script\", \"style\", 'aside']):\n",
    "\n",
    "        script.extract()\n",
    "\n",
    "    text = soup.get_text()\n",
    "\n",
    "    return \" \".join(text.split())\n",
    "\n",
    "dw_art = url_text(\"https://www.dw.com/en/nato-chief-talks-sweden-finland-membership-with-erdogan/a-62034347\")\n"
   ]
  },
  {
   "cell_type": "code",
   "execution_count": 75,
   "id": "ac003649",
   "metadata": {},
   "outputs": [
    {
     "data": {
      "text/plain": [
       "'NATO chief talks Sweden, Finland membership with Erdogan – DW – 06/04/2022 You need to enable JavaScript to run this app. Skip to contentSkip to main menuSkip to more DW sitesLatest videosLatest audioRegionsAfricaAsiaEuropeLatin AmericaMiddle EastNorth AmericaGermanyTopicsClimateEqualityHealthHuman RightsMigrationTechnologyCategoriesBusinessScienceEnvironmentCultureSportsLive TVLatest audioLatest videosIn focusRussia\\'s war in UkraineDiversitySweden and Finland applied to join the Western defence alliance last month in response to Russia\\'s invasion of UkraineImage: Sascha Steinach/IMAGOPoliticsTurkeyNATO chief talks Sweden, Finland membership with Erdogan06/04/2022June 4, 2022The talks represent the latest attempt to work past the roadblock Ankara has put up over Sweden and Finland joining the military alliance.https://p.dw.com/p/4CHxzAdvertisementNATO Secretary-General Jens Stoltenberg said Saturday he had held a \"constructive phone call\" with Turkish President Recep Tayyip Erdogan over membership bids by Sweden and Finland. Stoltenberg also met with Finland\\'s prime minister in an effort to work past the roadblock Ankara has put up over the Nordic countries joining the military alliance. A unanimous vote from all 30 NATO members is required for a new country to be accepted. Why does Turkey oppose Sweden and Finland joining NATO? Turkey, a member of NATO since 1952, is using its veto power in the membership vote to force policy changes from Sweden and Finland. Turkey is demanding both countries: stop perceived support for ethnic Kurdish groups Ankara considers to be terrorists; lift arms embargoes put in place after Turkish incursions into Syria; extradite Turks granted political asylum in Sweden and Finland following a failed coup in 2016. Ankara says it will not change its opposition to either country\\'s bid until it sees \"concrete steps\" on its demands. Erdogan has said NATO could not provide protection from terror, citing events organised by the Kurdistan Workers Party (PKK) militant group in allied countries. The PKK is designated a terrorist organisation by Turkey, the United States and European Union. A spokesman for Turkey\\'s president said Ankara feels no pressure to see the bids advanced by the time NATO leaders convene for a June 29-30 summit in Spain. Turkey has irked other NATO allies, most specifically the US, through its incursion into Syria and its purchase of Russian S-400 missile systems. The US had specifically warned it against doing so and it resulted in Washington refusing to sell Turkey advanced F-35 fighter jets.Sweden\\'s defense minister: \\'We are not naïve\\'To view this video please enable JavaScript, and consider upgrading to a web browser that supports HTML5 video Why do Sweden and Finland want to join NATO? Sweden and Finland applied to join NATO last month, spurred by Russia\\'s February 24 invasion of Ukraine. Seeking admission to the military alliance.upended decades of non-alignment policy. A top US general said Saturday that their joining would put Russia in a difficult military position in the Baltic Sea. \"The Baltic Sea is very strategically important, it\\'s one of the great seaways of the world,\" General Mark Milley said during a visit to Stockholm ahead of a military exercise. German Chancellor Olaf Scholz has said that Germany was doing everything possible to make the bids succeed. US President Joe Biden has also come out in support of Sweden and Finland joining NATO. Secretary-General Stoltenberg tweeted late Friday that he had also met with Finnish Prime Minister Sanna Marin while in Washington last week. He said the two spoke of \"the need to address Turkey\\'s concerns and move forward\" with the membership applications.Finland to apply for NATO membershipTo view this video please enable JavaScript, and consider upgrading to a web browser that supports HTML5 video jsi/rt (AP, Reuters) Send us your feedbackYour feedbackAdvertisementSkip next section Related topicsRelated topicsSkip next section DW\\'s Top StoryDW\\'s Top StoryWho are the Russian volunteers fighting for Ukraine?Politics8 hours ago8 hours agoUkraine updates: Wagner Group reports 10,000 prisoner deathsConflicts6 hours ago6 hours agoNorway: Russian spying prompts rethink of port access Politics16 hours ago16 hours ago03:25 minPage 1 of 2Skip next section More stories from DWMore stories from DWAfricaLiberator to oppressor: 30 years under Isaias AfwerkiLiberator to oppressor: 30 years under Isaias AfwerkiPolitics05/23/2023May 23, 2023More from AfricaAsiaThailand: Anti-junta parties seek to rule but hurdles remainThailand: Anti-junta parties seek to rule but hurdles remainPolitics12 hours ago12 hours agoMore from AsiaGermanyArchitect David Chipperfield wins 2023 Pritzker Prize Architect David Chipperfield wins 2023 Pritzker Prize Architecture18 hours ago18 hours agoMore from GermanyEuropeTurkey’s runoff election: Nationalism, fake news, xenophobiaTurkey’s runoff election: Nationalism, fake news, xenophobiaPolitics8 hours ago8 hours agoMore from EuropeNorth AmericaTina Turner: Remembering the \\'Queen of Rock \\'n\\' Roll\\'Tina Turner: Remembering the \\'Queen of Rock \\'n\\' Roll\\'Music7 hours ago7 hours agoMore from North AmericaLatin AmericaPopocatepetl: Ashes over MexicoPopocatepetl: Ashes over MexicoCatastrophe20 hours ago20 hours ago7 imagesMore from Latin AmericaGo to homepageAdvertisementAbout DWWho we arePressDW Global Media ForumDW offersLearn GermanDW AkademieServiceNewslettersReceptionFAQContactTopics from A to ZB2BSales & DistributionTravelAdvertisingFollow us on© 2023 Deutsche WellePrivacy PolicyLegal noticeDigital accessibility'"
      ]
     },
     "execution_count": 75,
     "metadata": {},
     "output_type": "execute_result"
    }
   ],
   "source": [
    "dw_art"
   ]
  },
  {
   "cell_type": "code",
   "execution_count": 76,
   "id": "8adfb70a",
   "metadata": {},
   "outputs": [
    {
     "data": {
      "text/plain": [
       "151"
      ]
     },
     "execution_count": 76,
     "metadata": {},
     "output_type": "execute_result"
    }
   ],
   "source": [
    "doc = nlp_en(dw_art)\n",
    "len(doc.ents)"
   ]
  },
  {
   "cell_type": "code",
   "execution_count": 77,
   "id": "4c939c0d",
   "metadata": {},
   "outputs": [
    {
     "data": {
      "text/plain": [
       "Counter({'ORG': 35,\n",
       "         'GPE': 59,\n",
       "         'PERSON': 16,\n",
       "         'DATE': 13,\n",
       "         'NORP': 10,\n",
       "         'CARDINAL': 9,\n",
       "         'PRODUCT': 2,\n",
       "         'LOC': 2,\n",
       "         'TIME': 4,\n",
       "         'LAW': 1})"
      ]
     },
     "execution_count": 77,
     "metadata": {},
     "output_type": "execute_result"
    }
   ],
   "source": [
    "from collections import Counter\n",
    "\n",
    "labels = [ent.label_ for ent in doc.ents]\n",
    "\n",
    "Counter(labels)"
   ]
  },
  {
   "cell_type": "markdown",
   "id": "a98374e4",
   "metadata": {},
   "source": [
    "#### Was sagen Entitäten über den Text aus?"
   ]
  },
  {
   "cell_type": "code",
   "execution_count": 78,
   "id": "4eaaa41f",
   "metadata": {},
   "outputs": [
    {
     "data": {
      "text/plain": [
       "[('Finland', 13),\n",
       " ('NATO', 11),\n",
       " ('Sweden', 11),\n",
       " ('Turkey', 8),\n",
       " ('Ankara', 5),\n",
       " ('US', 4),\n",
       " ('DW', 3),\n",
       " ('Russia', 3),\n",
       " ('Erdogan', 2),\n",
       " ('last month', 2)]"
      ]
     },
     "execution_count": 78,
     "metadata": {},
     "output_type": "execute_result"
    }
   ],
   "source": [
    "items = [ent.text for ent in doc.ents]\n",
    "\n",
    "Counter(items).most_common(10)"
   ]
  },
  {
   "cell_type": "code",
   "execution_count": 79,
   "id": "2d1148cb",
   "metadata": {},
   "outputs": [
    {
     "data": {
      "text/html": [
       "<span class=\"tex2jax_ignore\"><div class=\"entities\" style=\"line-height: 2.5; direction: ltr\">\n",
       "<mark class=\"entity\" style=\"background: #7aecec; padding: 0.45em 0.6em; margin: 0 0.25em; line-height: 1; border-radius: 0.35em;\">\n",
       "    NATO\n",
       "    <span style=\"font-size: 0.8em; font-weight: bold; line-height: 1; border-radius: 0.35em; vertical-align: middle; margin-left: 0.5rem\">ORG</span>\n",
       "</mark>\n",
       " chief talks \n",
       "<mark class=\"entity\" style=\"background: #feca74; padding: 0.45em 0.6em; margin: 0 0.25em; line-height: 1; border-radius: 0.35em;\">\n",
       "    Sweden\n",
       "    <span style=\"font-size: 0.8em; font-weight: bold; line-height: 1; border-radius: 0.35em; vertical-align: middle; margin-left: 0.5rem\">GPE</span>\n",
       "</mark>\n",
       ", \n",
       "<mark class=\"entity\" style=\"background: #feca74; padding: 0.45em 0.6em; margin: 0 0.25em; line-height: 1; border-radius: 0.35em;\">\n",
       "    Finland\n",
       "    <span style=\"font-size: 0.8em; font-weight: bold; line-height: 1; border-radius: 0.35em; vertical-align: middle; margin-left: 0.5rem\">GPE</span>\n",
       "</mark>\n",
       " membership with \n",
       "<mark class=\"entity\" style=\"background: #aa9cfc; padding: 0.45em 0.6em; margin: 0 0.25em; line-height: 1; border-radius: 0.35em;\">\n",
       "    Erdogan\n",
       "    <span style=\"font-size: 0.8em; font-weight: bold; line-height: 1; border-radius: 0.35em; vertical-align: middle; margin-left: 0.5rem\">PERSON</span>\n",
       "</mark>\n",
       " – \n",
       "<mark class=\"entity\" style=\"background: #7aecec; padding: 0.45em 0.6em; margin: 0 0.25em; line-height: 1; border-radius: 0.35em;\">\n",
       "    DW\n",
       "    <span style=\"font-size: 0.8em; font-weight: bold; line-height: 1; border-radius: 0.35em; vertical-align: middle; margin-left: 0.5rem\">ORG</span>\n",
       "</mark>\n",
       " – 06/04/2022 You need to enable JavaScript to run this app. Skip to contentSkip to main menuSkip to more \n",
       "<mark class=\"entity\" style=\"background: #7aecec; padding: 0.45em 0.6em; margin: 0 0.25em; line-height: 1; border-radius: 0.35em;\">\n",
       "    DW\n",
       "    <span style=\"font-size: 0.8em; font-weight: bold; line-height: 1; border-radius: 0.35em; vertical-align: middle; margin-left: 0.5rem\">ORG</span>\n",
       "</mark>\n",
       " sitesLatest videosLatest \n",
       "<mark class=\"entity\" style=\"background: #aa9cfc; padding: 0.45em 0.6em; margin: 0 0.25em; line-height: 1; border-radius: 0.35em;\">\n",
       "    audioRegionsAfricaAsiaEuropeLatin AmericaMiddle EastNorth AmericaGermanyTopicsClimateEqualityHealthHuman\n",
       "    <span style=\"font-size: 0.8em; font-weight: bold; line-height: 1; border-radius: 0.35em; vertical-align: middle; margin-left: 0.5rem\">PERSON</span>\n",
       "</mark>\n",
       " RightsMigrationTechnologyCategoriesBusinessScienceEnvironmentCultureSportsLive \n",
       "<mark class=\"entity\" style=\"background: #7aecec; padding: 0.45em 0.6em; margin: 0 0.25em; line-height: 1; border-radius: 0.35em;\">\n",
       "    TVLatest\n",
       "    <span style=\"font-size: 0.8em; font-weight: bold; line-height: 1; border-radius: 0.35em; vertical-align: middle; margin-left: 0.5rem\">ORG</span>\n",
       "</mark>\n",
       " audioLatest videosIn focusRussia's war in \n",
       "<mark class=\"entity\" style=\"background: #feca74; padding: 0.45em 0.6em; margin: 0 0.25em; line-height: 1; border-radius: 0.35em;\">\n",
       "    UkraineDiversitySweden\n",
       "    <span style=\"font-size: 0.8em; font-weight: bold; line-height: 1; border-radius: 0.35em; vertical-align: middle; margin-left: 0.5rem\">GPE</span>\n",
       "</mark>\n",
       " and \n",
       "<mark class=\"entity\" style=\"background: #feca74; padding: 0.45em 0.6em; margin: 0 0.25em; line-height: 1; border-radius: 0.35em;\">\n",
       "    Finland\n",
       "    <span style=\"font-size: 0.8em; font-weight: bold; line-height: 1; border-radius: 0.35em; vertical-align: middle; margin-left: 0.5rem\">GPE</span>\n",
       "</mark>\n",
       " applied to join the Western defence alliance \n",
       "<mark class=\"entity\" style=\"background: #bfe1d9; padding: 0.45em 0.6em; margin: 0 0.25em; line-height: 1; border-radius: 0.35em;\">\n",
       "    last month\n",
       "    <span style=\"font-size: 0.8em; font-weight: bold; line-height: 1; border-radius: 0.35em; vertical-align: middle; margin-left: 0.5rem\">DATE</span>\n",
       "</mark>\n",
       " in response to \n",
       "<mark class=\"entity\" style=\"background: #feca74; padding: 0.45em 0.6em; margin: 0 0.25em; line-height: 1; border-radius: 0.35em;\">\n",
       "    Russia\n",
       "    <span style=\"font-size: 0.8em; font-weight: bold; line-height: 1; border-radius: 0.35em; vertical-align: middle; margin-left: 0.5rem\">GPE</span>\n",
       "</mark>\n",
       "'s invasion of UkraineImage: \n",
       "<mark class=\"entity\" style=\"background: #aa9cfc; padding: 0.45em 0.6em; margin: 0 0.25em; line-height: 1; border-radius: 0.35em;\">\n",
       "    Sascha Steinach\n",
       "    <span style=\"font-size: 0.8em; font-weight: bold; line-height: 1; border-radius: 0.35em; vertical-align: middle; margin-left: 0.5rem\">PERSON</span>\n",
       "</mark>\n",
       "/IMAGOPoliticsTurkeyNATO chief talks \n",
       "<mark class=\"entity\" style=\"background: #feca74; padding: 0.45em 0.6em; margin: 0 0.25em; line-height: 1; border-radius: 0.35em;\">\n",
       "    Sweden\n",
       "    <span style=\"font-size: 0.8em; font-weight: bold; line-height: 1; border-radius: 0.35em; vertical-align: middle; margin-left: 0.5rem\">GPE</span>\n",
       "</mark>\n",
       ", \n",
       "<mark class=\"entity\" style=\"background: #feca74; padding: 0.45em 0.6em; margin: 0 0.25em; line-height: 1; border-radius: 0.35em;\">\n",
       "    Finland\n",
       "    <span style=\"font-size: 0.8em; font-weight: bold; line-height: 1; border-radius: 0.35em; vertical-align: middle; margin-left: 0.5rem\">GPE</span>\n",
       "</mark>\n",
       " membership with \n",
       "<mark class=\"entity\" style=\"background: #7aecec; padding: 0.45em 0.6em; margin: 0 0.25em; line-height: 1; border-radius: 0.35em;\">\n",
       "    Erdogan06/04/2022June 4\n",
       "    <span style=\"font-size: 0.8em; font-weight: bold; line-height: 1; border-radius: 0.35em; vertical-align: middle; margin-left: 0.5rem\">ORG</span>\n",
       "</mark>\n",
       ", \n",
       "<mark class=\"entity\" style=\"background: #7aecec; padding: 0.45em 0.6em; margin: 0 0.25em; line-height: 1; border-radius: 0.35em;\">\n",
       "    2022The\n",
       "    <span style=\"font-size: 0.8em; font-weight: bold; line-height: 1; border-radius: 0.35em; vertical-align: middle; margin-left: 0.5rem\">ORG</span>\n",
       "</mark>\n",
       " talks represent the latest attempt to work past the roadblock \n",
       "<mark class=\"entity\" style=\"background: #feca74; padding: 0.45em 0.6em; margin: 0 0.25em; line-height: 1; border-radius: 0.35em;\">\n",
       "    Ankara\n",
       "    <span style=\"font-size: 0.8em; font-weight: bold; line-height: 1; border-radius: 0.35em; vertical-align: middle; margin-left: 0.5rem\">GPE</span>\n",
       "</mark>\n",
       " has put up over \n",
       "<mark class=\"entity\" style=\"background: #feca74; padding: 0.45em 0.6em; margin: 0 0.25em; line-height: 1; border-radius: 0.35em;\">\n",
       "    Sweden\n",
       "    <span style=\"font-size: 0.8em; font-weight: bold; line-height: 1; border-radius: 0.35em; vertical-align: middle; margin-left: 0.5rem\">GPE</span>\n",
       "</mark>\n",
       " and \n",
       "<mark class=\"entity\" style=\"background: #feca74; padding: 0.45em 0.6em; margin: 0 0.25em; line-height: 1; border-radius: 0.35em;\">\n",
       "    Finland\n",
       "    <span style=\"font-size: 0.8em; font-weight: bold; line-height: 1; border-radius: 0.35em; vertical-align: middle; margin-left: 0.5rem\">GPE</span>\n",
       "</mark>\n",
       " joining the military alliance.https://p.dw.com/p/4CHxzAdvertisementNATO Secretary-General \n",
       "<mark class=\"entity\" style=\"background: #aa9cfc; padding: 0.45em 0.6em; margin: 0 0.25em; line-height: 1; border-radius: 0.35em;\">\n",
       "    Jens Stoltenberg\n",
       "    <span style=\"font-size: 0.8em; font-weight: bold; line-height: 1; border-radius: 0.35em; vertical-align: middle; margin-left: 0.5rem\">PERSON</span>\n",
       "</mark>\n",
       " said \n",
       "<mark class=\"entity\" style=\"background: #bfe1d9; padding: 0.45em 0.6em; margin: 0 0.25em; line-height: 1; border-radius: 0.35em;\">\n",
       "    Saturday\n",
       "    <span style=\"font-size: 0.8em; font-weight: bold; line-height: 1; border-radius: 0.35em; vertical-align: middle; margin-left: 0.5rem\">DATE</span>\n",
       "</mark>\n",
       " he had held a &quot;constructive phone call&quot; with \n",
       "<mark class=\"entity\" style=\"background: #c887fb; padding: 0.45em 0.6em; margin: 0 0.25em; line-height: 1; border-radius: 0.35em;\">\n",
       "    Turkish\n",
       "    <span style=\"font-size: 0.8em; font-weight: bold; line-height: 1; border-radius: 0.35em; vertical-align: middle; margin-left: 0.5rem\">NORP</span>\n",
       "</mark>\n",
       " President \n",
       "<mark class=\"entity\" style=\"background: #aa9cfc; padding: 0.45em 0.6em; margin: 0 0.25em; line-height: 1; border-radius: 0.35em;\">\n",
       "    Recep Tayyip Erdogan\n",
       "    <span style=\"font-size: 0.8em; font-weight: bold; line-height: 1; border-radius: 0.35em; vertical-align: middle; margin-left: 0.5rem\">PERSON</span>\n",
       "</mark>\n",
       " over membership bids by \n",
       "<mark class=\"entity\" style=\"background: #feca74; padding: 0.45em 0.6em; margin: 0 0.25em; line-height: 1; border-radius: 0.35em;\">\n",
       "    Sweden\n",
       "    <span style=\"font-size: 0.8em; font-weight: bold; line-height: 1; border-radius: 0.35em; vertical-align: middle; margin-left: 0.5rem\">GPE</span>\n",
       "</mark>\n",
       " and \n",
       "<mark class=\"entity\" style=\"background: #feca74; padding: 0.45em 0.6em; margin: 0 0.25em; line-height: 1; border-radius: 0.35em;\">\n",
       "    Finland\n",
       "    <span style=\"font-size: 0.8em; font-weight: bold; line-height: 1; border-radius: 0.35em; vertical-align: middle; margin-left: 0.5rem\">GPE</span>\n",
       "</mark>\n",
       ". \n",
       "<mark class=\"entity\" style=\"background: #feca74; padding: 0.45em 0.6em; margin: 0 0.25em; line-height: 1; border-radius: 0.35em;\">\n",
       "    Stoltenberg\n",
       "    <span style=\"font-size: 0.8em; font-weight: bold; line-height: 1; border-radius: 0.35em; vertical-align: middle; margin-left: 0.5rem\">GPE</span>\n",
       "</mark>\n",
       " also met with \n",
       "<mark class=\"entity\" style=\"background: #feca74; padding: 0.45em 0.6em; margin: 0 0.25em; line-height: 1; border-radius: 0.35em;\">\n",
       "    Finland\n",
       "    <span style=\"font-size: 0.8em; font-weight: bold; line-height: 1; border-radius: 0.35em; vertical-align: middle; margin-left: 0.5rem\">GPE</span>\n",
       "</mark>\n",
       "'s prime minister in an effort to work past the roadblock \n",
       "<mark class=\"entity\" style=\"background: #feca74; padding: 0.45em 0.6em; margin: 0 0.25em; line-height: 1; border-radius: 0.35em;\">\n",
       "    Ankara\n",
       "    <span style=\"font-size: 0.8em; font-weight: bold; line-height: 1; border-radius: 0.35em; vertical-align: middle; margin-left: 0.5rem\">GPE</span>\n",
       "</mark>\n",
       " has put up over the \n",
       "<mark class=\"entity\" style=\"background: #c887fb; padding: 0.45em 0.6em; margin: 0 0.25em; line-height: 1; border-radius: 0.35em;\">\n",
       "    Nordic\n",
       "    <span style=\"font-size: 0.8em; font-weight: bold; line-height: 1; border-radius: 0.35em; vertical-align: middle; margin-left: 0.5rem\">NORP</span>\n",
       "</mark>\n",
       " countries joining the military alliance. A unanimous vote from all \n",
       "<mark class=\"entity\" style=\"background: #e4e7d2; padding: 0.45em 0.6em; margin: 0 0.25em; line-height: 1; border-radius: 0.35em;\">\n",
       "    30\n",
       "    <span style=\"font-size: 0.8em; font-weight: bold; line-height: 1; border-radius: 0.35em; vertical-align: middle; margin-left: 0.5rem\">CARDINAL</span>\n",
       "</mark>\n",
       " \n",
       "<mark class=\"entity\" style=\"background: #7aecec; padding: 0.45em 0.6em; margin: 0 0.25em; line-height: 1; border-radius: 0.35em;\">\n",
       "    NATO\n",
       "    <span style=\"font-size: 0.8em; font-weight: bold; line-height: 1; border-radius: 0.35em; vertical-align: middle; margin-left: 0.5rem\">ORG</span>\n",
       "</mark>\n",
       " members is required for a new country to be accepted. Why does \n",
       "<mark class=\"entity\" style=\"background: #feca74; padding: 0.45em 0.6em; margin: 0 0.25em; line-height: 1; border-radius: 0.35em;\">\n",
       "    Turkey\n",
       "    <span style=\"font-size: 0.8em; font-weight: bold; line-height: 1; border-radius: 0.35em; vertical-align: middle; margin-left: 0.5rem\">GPE</span>\n",
       "</mark>\n",
       " oppose \n",
       "<mark class=\"entity\" style=\"background: #feca74; padding: 0.45em 0.6em; margin: 0 0.25em; line-height: 1; border-radius: 0.35em;\">\n",
       "    Sweden\n",
       "    <span style=\"font-size: 0.8em; font-weight: bold; line-height: 1; border-radius: 0.35em; vertical-align: middle; margin-left: 0.5rem\">GPE</span>\n",
       "</mark>\n",
       " and \n",
       "<mark class=\"entity\" style=\"background: #feca74; padding: 0.45em 0.6em; margin: 0 0.25em; line-height: 1; border-radius: 0.35em;\">\n",
       "    Finland\n",
       "    <span style=\"font-size: 0.8em; font-weight: bold; line-height: 1; border-radius: 0.35em; vertical-align: middle; margin-left: 0.5rem\">GPE</span>\n",
       "</mark>\n",
       " joining \n",
       "<mark class=\"entity\" style=\"background: #7aecec; padding: 0.45em 0.6em; margin: 0 0.25em; line-height: 1; border-radius: 0.35em;\">\n",
       "    NATO\n",
       "    <span style=\"font-size: 0.8em; font-weight: bold; line-height: 1; border-radius: 0.35em; vertical-align: middle; margin-left: 0.5rem\">ORG</span>\n",
       "</mark>\n",
       "? \n",
       "<mark class=\"entity\" style=\"background: #feca74; padding: 0.45em 0.6em; margin: 0 0.25em; line-height: 1; border-radius: 0.35em;\">\n",
       "    Turkey\n",
       "    <span style=\"font-size: 0.8em; font-weight: bold; line-height: 1; border-radius: 0.35em; vertical-align: middle; margin-left: 0.5rem\">GPE</span>\n",
       "</mark>\n",
       ", a member of \n",
       "<mark class=\"entity\" style=\"background: #7aecec; padding: 0.45em 0.6em; margin: 0 0.25em; line-height: 1; border-radius: 0.35em;\">\n",
       "    NATO\n",
       "    <span style=\"font-size: 0.8em; font-weight: bold; line-height: 1; border-radius: 0.35em; vertical-align: middle; margin-left: 0.5rem\">ORG</span>\n",
       "</mark>\n",
       " since \n",
       "<mark class=\"entity\" style=\"background: #bfe1d9; padding: 0.45em 0.6em; margin: 0 0.25em; line-height: 1; border-radius: 0.35em;\">\n",
       "    1952\n",
       "    <span style=\"font-size: 0.8em; font-weight: bold; line-height: 1; border-radius: 0.35em; vertical-align: middle; margin-left: 0.5rem\">DATE</span>\n",
       "</mark>\n",
       ", is using its veto power in the membership vote to force policy changes from \n",
       "<mark class=\"entity\" style=\"background: #feca74; padding: 0.45em 0.6em; margin: 0 0.25em; line-height: 1; border-radius: 0.35em;\">\n",
       "    Sweden\n",
       "    <span style=\"font-size: 0.8em; font-weight: bold; line-height: 1; border-radius: 0.35em; vertical-align: middle; margin-left: 0.5rem\">GPE</span>\n",
       "</mark>\n",
       " and \n",
       "<mark class=\"entity\" style=\"background: #feca74; padding: 0.45em 0.6em; margin: 0 0.25em; line-height: 1; border-radius: 0.35em;\">\n",
       "    Finland\n",
       "    <span style=\"font-size: 0.8em; font-weight: bold; line-height: 1; border-radius: 0.35em; vertical-align: middle; margin-left: 0.5rem\">GPE</span>\n",
       "</mark>\n",
       ". \n",
       "<mark class=\"entity\" style=\"background: #feca74; padding: 0.45em 0.6em; margin: 0 0.25em; line-height: 1; border-radius: 0.35em;\">\n",
       "    Turkey\n",
       "    <span style=\"font-size: 0.8em; font-weight: bold; line-height: 1; border-radius: 0.35em; vertical-align: middle; margin-left: 0.5rem\">GPE</span>\n",
       "</mark>\n",
       " is demanding both countries: stop perceived support for ethnic \n",
       "<mark class=\"entity\" style=\"background: #c887fb; padding: 0.45em 0.6em; margin: 0 0.25em; line-height: 1; border-radius: 0.35em;\">\n",
       "    Kurdish\n",
       "    <span style=\"font-size: 0.8em; font-weight: bold; line-height: 1; border-radius: 0.35em; vertical-align: middle; margin-left: 0.5rem\">NORP</span>\n",
       "</mark>\n",
       " groups \n",
       "<mark class=\"entity\" style=\"background: #feca74; padding: 0.45em 0.6em; margin: 0 0.25em; line-height: 1; border-radius: 0.35em;\">\n",
       "    Ankara\n",
       "    <span style=\"font-size: 0.8em; font-weight: bold; line-height: 1; border-radius: 0.35em; vertical-align: middle; margin-left: 0.5rem\">GPE</span>\n",
       "</mark>\n",
       " considers to be terrorists; lift arms embargoes put in place after \n",
       "<mark class=\"entity\" style=\"background: #c887fb; padding: 0.45em 0.6em; margin: 0 0.25em; line-height: 1; border-radius: 0.35em;\">\n",
       "    Turkish\n",
       "    <span style=\"font-size: 0.8em; font-weight: bold; line-height: 1; border-radius: 0.35em; vertical-align: middle; margin-left: 0.5rem\">NORP</span>\n",
       "</mark>\n",
       " incursions into \n",
       "<mark class=\"entity\" style=\"background: #feca74; padding: 0.45em 0.6em; margin: 0 0.25em; line-height: 1; border-radius: 0.35em;\">\n",
       "    Syria\n",
       "    <span style=\"font-size: 0.8em; font-weight: bold; line-height: 1; border-radius: 0.35em; vertical-align: middle; margin-left: 0.5rem\">GPE</span>\n",
       "</mark>\n",
       "; extradite \n",
       "<mark class=\"entity\" style=\"background: #c887fb; padding: 0.45em 0.6em; margin: 0 0.25em; line-height: 1; border-radius: 0.35em;\">\n",
       "    Turks\n",
       "    <span style=\"font-size: 0.8em; font-weight: bold; line-height: 1; border-radius: 0.35em; vertical-align: middle; margin-left: 0.5rem\">NORP</span>\n",
       "</mark>\n",
       " granted political asylum in \n",
       "<mark class=\"entity\" style=\"background: #feca74; padding: 0.45em 0.6em; margin: 0 0.25em; line-height: 1; border-radius: 0.35em;\">\n",
       "    Sweden\n",
       "    <span style=\"font-size: 0.8em; font-weight: bold; line-height: 1; border-radius: 0.35em; vertical-align: middle; margin-left: 0.5rem\">GPE</span>\n",
       "</mark>\n",
       " and \n",
       "<mark class=\"entity\" style=\"background: #feca74; padding: 0.45em 0.6em; margin: 0 0.25em; line-height: 1; border-radius: 0.35em;\">\n",
       "    Finland\n",
       "    <span style=\"font-size: 0.8em; font-weight: bold; line-height: 1; border-radius: 0.35em; vertical-align: middle; margin-left: 0.5rem\">GPE</span>\n",
       "</mark>\n",
       " following a failed coup in \n",
       "<mark class=\"entity\" style=\"background: #bfe1d9; padding: 0.45em 0.6em; margin: 0 0.25em; line-height: 1; border-radius: 0.35em;\">\n",
       "    2016\n",
       "    <span style=\"font-size: 0.8em; font-weight: bold; line-height: 1; border-radius: 0.35em; vertical-align: middle; margin-left: 0.5rem\">DATE</span>\n",
       "</mark>\n",
       ". \n",
       "<mark class=\"entity\" style=\"background: #feca74; padding: 0.45em 0.6em; margin: 0 0.25em; line-height: 1; border-radius: 0.35em;\">\n",
       "    Ankara\n",
       "    <span style=\"font-size: 0.8em; font-weight: bold; line-height: 1; border-radius: 0.35em; vertical-align: middle; margin-left: 0.5rem\">GPE</span>\n",
       "</mark>\n",
       " says it will not change its opposition to either country's bid until it sees &quot;concrete steps&quot; on its demands. \n",
       "<mark class=\"entity\" style=\"background: #aa9cfc; padding: 0.45em 0.6em; margin: 0 0.25em; line-height: 1; border-radius: 0.35em;\">\n",
       "    Erdogan\n",
       "    <span style=\"font-size: 0.8em; font-weight: bold; line-height: 1; border-radius: 0.35em; vertical-align: middle; margin-left: 0.5rem\">PERSON</span>\n",
       "</mark>\n",
       " has said \n",
       "<mark class=\"entity\" style=\"background: #7aecec; padding: 0.45em 0.6em; margin: 0 0.25em; line-height: 1; border-radius: 0.35em;\">\n",
       "    NATO\n",
       "    <span style=\"font-size: 0.8em; font-weight: bold; line-height: 1; border-radius: 0.35em; vertical-align: middle; margin-left: 0.5rem\">ORG</span>\n",
       "</mark>\n",
       " could not provide protection from terror, citing events organised by \n",
       "<mark class=\"entity\" style=\"background: #7aecec; padding: 0.45em 0.6em; margin: 0 0.25em; line-height: 1; border-radius: 0.35em;\">\n",
       "    the Kurdistan Workers Party\n",
       "    <span style=\"font-size: 0.8em; font-weight: bold; line-height: 1; border-radius: 0.35em; vertical-align: middle; margin-left: 0.5rem\">ORG</span>\n",
       "</mark>\n",
       " (\n",
       "<mark class=\"entity\" style=\"background: #7aecec; padding: 0.45em 0.6em; margin: 0 0.25em; line-height: 1; border-radius: 0.35em;\">\n",
       "    PKK\n",
       "    <span style=\"font-size: 0.8em; font-weight: bold; line-height: 1; border-radius: 0.35em; vertical-align: middle; margin-left: 0.5rem\">ORG</span>\n",
       "</mark>\n",
       ") militant group in allied countries. The \n",
       "<mark class=\"entity\" style=\"background: #7aecec; padding: 0.45em 0.6em; margin: 0 0.25em; line-height: 1; border-radius: 0.35em;\">\n",
       "    PKK\n",
       "    <span style=\"font-size: 0.8em; font-weight: bold; line-height: 1; border-radius: 0.35em; vertical-align: middle; margin-left: 0.5rem\">ORG</span>\n",
       "</mark>\n",
       " is designated a terrorist organisation by \n",
       "<mark class=\"entity\" style=\"background: #feca74; padding: 0.45em 0.6em; margin: 0 0.25em; line-height: 1; border-radius: 0.35em;\">\n",
       "    Turkey\n",
       "    <span style=\"font-size: 0.8em; font-weight: bold; line-height: 1; border-radius: 0.35em; vertical-align: middle; margin-left: 0.5rem\">GPE</span>\n",
       "</mark>\n",
       ", \n",
       "<mark class=\"entity\" style=\"background: #feca74; padding: 0.45em 0.6em; margin: 0 0.25em; line-height: 1; border-radius: 0.35em;\">\n",
       "    the United States\n",
       "    <span style=\"font-size: 0.8em; font-weight: bold; line-height: 1; border-radius: 0.35em; vertical-align: middle; margin-left: 0.5rem\">GPE</span>\n",
       "</mark>\n",
       " and \n",
       "<mark class=\"entity\" style=\"background: #7aecec; padding: 0.45em 0.6em; margin: 0 0.25em; line-height: 1; border-radius: 0.35em;\">\n",
       "    European Union\n",
       "    <span style=\"font-size: 0.8em; font-weight: bold; line-height: 1; border-radius: 0.35em; vertical-align: middle; margin-left: 0.5rem\">ORG</span>\n",
       "</mark>\n",
       ". A spokesman for \n",
       "<mark class=\"entity\" style=\"background: #feca74; padding: 0.45em 0.6em; margin: 0 0.25em; line-height: 1; border-radius: 0.35em;\">\n",
       "    Turkey\n",
       "    <span style=\"font-size: 0.8em; font-weight: bold; line-height: 1; border-radius: 0.35em; vertical-align: middle; margin-left: 0.5rem\">GPE</span>\n",
       "</mark>\n",
       "'s president said \n",
       "<mark class=\"entity\" style=\"background: #feca74; padding: 0.45em 0.6em; margin: 0 0.25em; line-height: 1; border-radius: 0.35em;\">\n",
       "    Ankara\n",
       "    <span style=\"font-size: 0.8em; font-weight: bold; line-height: 1; border-radius: 0.35em; vertical-align: middle; margin-left: 0.5rem\">GPE</span>\n",
       "</mark>\n",
       " feels no pressure to see the bids advanced by the time \n",
       "<mark class=\"entity\" style=\"background: #7aecec; padding: 0.45em 0.6em; margin: 0 0.25em; line-height: 1; border-radius: 0.35em;\">\n",
       "    NATO\n",
       "    <span style=\"font-size: 0.8em; font-weight: bold; line-height: 1; border-radius: 0.35em; vertical-align: middle; margin-left: 0.5rem\">ORG</span>\n",
       "</mark>\n",
       " leaders convene for a \n",
       "<mark class=\"entity\" style=\"background: #bfe1d9; padding: 0.45em 0.6em; margin: 0 0.25em; line-height: 1; border-radius: 0.35em;\">\n",
       "    June 29-30\n",
       "    <span style=\"font-size: 0.8em; font-weight: bold; line-height: 1; border-radius: 0.35em; vertical-align: middle; margin-left: 0.5rem\">DATE</span>\n",
       "</mark>\n",
       " summit in \n",
       "<mark class=\"entity\" style=\"background: #feca74; padding: 0.45em 0.6em; margin: 0 0.25em; line-height: 1; border-radius: 0.35em;\">\n",
       "    Spain\n",
       "    <span style=\"font-size: 0.8em; font-weight: bold; line-height: 1; border-radius: 0.35em; vertical-align: middle; margin-left: 0.5rem\">GPE</span>\n",
       "</mark>\n",
       ". \n",
       "<mark class=\"entity\" style=\"background: #feca74; padding: 0.45em 0.6em; margin: 0 0.25em; line-height: 1; border-radius: 0.35em;\">\n",
       "    Turkey\n",
       "    <span style=\"font-size: 0.8em; font-weight: bold; line-height: 1; border-radius: 0.35em; vertical-align: middle; margin-left: 0.5rem\">GPE</span>\n",
       "</mark>\n",
       " has irked other \n",
       "<mark class=\"entity\" style=\"background: #7aecec; padding: 0.45em 0.6em; margin: 0 0.25em; line-height: 1; border-radius: 0.35em;\">\n",
       "    NATO\n",
       "    <span style=\"font-size: 0.8em; font-weight: bold; line-height: 1; border-radius: 0.35em; vertical-align: middle; margin-left: 0.5rem\">ORG</span>\n",
       "</mark>\n",
       " allies, most specifically the \n",
       "<mark class=\"entity\" style=\"background: #feca74; padding: 0.45em 0.6em; margin: 0 0.25em; line-height: 1; border-radius: 0.35em;\">\n",
       "    US\n",
       "    <span style=\"font-size: 0.8em; font-weight: bold; line-height: 1; border-radius: 0.35em; vertical-align: middle; margin-left: 0.5rem\">GPE</span>\n",
       "</mark>\n",
       ", through its incursion into \n",
       "<mark class=\"entity\" style=\"background: #feca74; padding: 0.45em 0.6em; margin: 0 0.25em; line-height: 1; border-radius: 0.35em;\">\n",
       "    Syria\n",
       "    <span style=\"font-size: 0.8em; font-weight: bold; line-height: 1; border-radius: 0.35em; vertical-align: middle; margin-left: 0.5rem\">GPE</span>\n",
       "</mark>\n",
       " and its purchase of \n",
       "<mark class=\"entity\" style=\"background: #bfeeb7; padding: 0.45em 0.6em; margin: 0 0.25em; line-height: 1; border-radius: 0.35em;\">\n",
       "    Russian S-400\n",
       "    <span style=\"font-size: 0.8em; font-weight: bold; line-height: 1; border-radius: 0.35em; vertical-align: middle; margin-left: 0.5rem\">PRODUCT</span>\n",
       "</mark>\n",
       " missile systems. The \n",
       "<mark class=\"entity\" style=\"background: #feca74; padding: 0.45em 0.6em; margin: 0 0.25em; line-height: 1; border-radius: 0.35em;\">\n",
       "    US\n",
       "    <span style=\"font-size: 0.8em; font-weight: bold; line-height: 1; border-radius: 0.35em; vertical-align: middle; margin-left: 0.5rem\">GPE</span>\n",
       "</mark>\n",
       " had specifically warned it against doing so and it resulted in \n",
       "<mark class=\"entity\" style=\"background: #feca74; padding: 0.45em 0.6em; margin: 0 0.25em; line-height: 1; border-radius: 0.35em;\">\n",
       "    Washington\n",
       "    <span style=\"font-size: 0.8em; font-weight: bold; line-height: 1; border-radius: 0.35em; vertical-align: middle; margin-left: 0.5rem\">GPE</span>\n",
       "</mark>\n",
       " refusing to sell \n",
       "<mark class=\"entity\" style=\"background: #feca74; padding: 0.45em 0.6em; margin: 0 0.25em; line-height: 1; border-radius: 0.35em;\">\n",
       "    Turkey\n",
       "    <span style=\"font-size: 0.8em; font-weight: bold; line-height: 1; border-radius: 0.35em; vertical-align: middle; margin-left: 0.5rem\">GPE</span>\n",
       "</mark>\n",
       " advanced \n",
       "<mark class=\"entity\" style=\"background: #bfeeb7; padding: 0.45em 0.6em; margin: 0 0.25em; line-height: 1; border-radius: 0.35em;\">\n",
       "    F-35\n",
       "    <span style=\"font-size: 0.8em; font-weight: bold; line-height: 1; border-radius: 0.35em; vertical-align: middle; margin-left: 0.5rem\">PRODUCT</span>\n",
       "</mark>\n",
       " fighter jets.\n",
       "<mark class=\"entity\" style=\"background: #feca74; padding: 0.45em 0.6em; margin: 0 0.25em; line-height: 1; border-radius: 0.35em;\">\n",
       "    Sweden\n",
       "    <span style=\"font-size: 0.8em; font-weight: bold; line-height: 1; border-radius: 0.35em; vertical-align: middle; margin-left: 0.5rem\">GPE</span>\n",
       "</mark>\n",
       "'s defense minister: 'We are not \n",
       "<mark class=\"entity\" style=\"background: #7aecec; padding: 0.45em 0.6em; margin: 0 0.25em; line-height: 1; border-radius: 0.35em;\">\n",
       "    naïve'To\n",
       "    <span style=\"font-size: 0.8em; font-weight: bold; line-height: 1; border-radius: 0.35em; vertical-align: middle; margin-left: 0.5rem\">ORG</span>\n",
       "</mark>\n",
       " view this video please enable \n",
       "<mark class=\"entity\" style=\"background: #7aecec; padding: 0.45em 0.6em; margin: 0 0.25em; line-height: 1; border-radius: 0.35em;\">\n",
       "    JavaScript\n",
       "    <span style=\"font-size: 0.8em; font-weight: bold; line-height: 1; border-radius: 0.35em; vertical-align: middle; margin-left: 0.5rem\">ORG</span>\n",
       "</mark>\n",
       ", and consider upgrading to a web browser that supports HTML5 video Why do \n",
       "<mark class=\"entity\" style=\"background: #feca74; padding: 0.45em 0.6em; margin: 0 0.25em; line-height: 1; border-radius: 0.35em;\">\n",
       "    Sweden\n",
       "    <span style=\"font-size: 0.8em; font-weight: bold; line-height: 1; border-radius: 0.35em; vertical-align: middle; margin-left: 0.5rem\">GPE</span>\n",
       "</mark>\n",
       " and \n",
       "<mark class=\"entity\" style=\"background: #feca74; padding: 0.45em 0.6em; margin: 0 0.25em; line-height: 1; border-radius: 0.35em;\">\n",
       "    Finland\n",
       "    <span style=\"font-size: 0.8em; font-weight: bold; line-height: 1; border-radius: 0.35em; vertical-align: middle; margin-left: 0.5rem\">GPE</span>\n",
       "</mark>\n",
       " want to join \n",
       "<mark class=\"entity\" style=\"background: #7aecec; padding: 0.45em 0.6em; margin: 0 0.25em; line-height: 1; border-radius: 0.35em;\">\n",
       "    NATO\n",
       "    <span style=\"font-size: 0.8em; font-weight: bold; line-height: 1; border-radius: 0.35em; vertical-align: middle; margin-left: 0.5rem\">ORG</span>\n",
       "</mark>\n",
       "? \n",
       "<mark class=\"entity\" style=\"background: #feca74; padding: 0.45em 0.6em; margin: 0 0.25em; line-height: 1; border-radius: 0.35em;\">\n",
       "    Sweden\n",
       "    <span style=\"font-size: 0.8em; font-weight: bold; line-height: 1; border-radius: 0.35em; vertical-align: middle; margin-left: 0.5rem\">GPE</span>\n",
       "</mark>\n",
       " and \n",
       "<mark class=\"entity\" style=\"background: #feca74; padding: 0.45em 0.6em; margin: 0 0.25em; line-height: 1; border-radius: 0.35em;\">\n",
       "    Finland\n",
       "    <span style=\"font-size: 0.8em; font-weight: bold; line-height: 1; border-radius: 0.35em; vertical-align: middle; margin-left: 0.5rem\">GPE</span>\n",
       "</mark>\n",
       " applied to join \n",
       "<mark class=\"entity\" style=\"background: #7aecec; padding: 0.45em 0.6em; margin: 0 0.25em; line-height: 1; border-radius: 0.35em;\">\n",
       "    NATO\n",
       "    <span style=\"font-size: 0.8em; font-weight: bold; line-height: 1; border-radius: 0.35em; vertical-align: middle; margin-left: 0.5rem\">ORG</span>\n",
       "</mark>\n",
       " \n",
       "<mark class=\"entity\" style=\"background: #bfe1d9; padding: 0.45em 0.6em; margin: 0 0.25em; line-height: 1; border-radius: 0.35em;\">\n",
       "    last month\n",
       "    <span style=\"font-size: 0.8em; font-weight: bold; line-height: 1; border-radius: 0.35em; vertical-align: middle; margin-left: 0.5rem\">DATE</span>\n",
       "</mark>\n",
       ", spurred by \n",
       "<mark class=\"entity\" style=\"background: #feca74; padding: 0.45em 0.6em; margin: 0 0.25em; line-height: 1; border-radius: 0.35em;\">\n",
       "    Russia\n",
       "    <span style=\"font-size: 0.8em; font-weight: bold; line-height: 1; border-radius: 0.35em; vertical-align: middle; margin-left: 0.5rem\">GPE</span>\n",
       "</mark>\n",
       "'s \n",
       "<mark class=\"entity\" style=\"background: #bfe1d9; padding: 0.45em 0.6em; margin: 0 0.25em; line-height: 1; border-radius: 0.35em;\">\n",
       "    February 24\n",
       "    <span style=\"font-size: 0.8em; font-weight: bold; line-height: 1; border-radius: 0.35em; vertical-align: middle; margin-left: 0.5rem\">DATE</span>\n",
       "</mark>\n",
       " invasion of \n",
       "<mark class=\"entity\" style=\"background: #feca74; padding: 0.45em 0.6em; margin: 0 0.25em; line-height: 1; border-radius: 0.35em;\">\n",
       "    Ukraine\n",
       "    <span style=\"font-size: 0.8em; font-weight: bold; line-height: 1; border-radius: 0.35em; vertical-align: middle; margin-left: 0.5rem\">GPE</span>\n",
       "</mark>\n",
       ". Seeking admission to the military alliance.upended \n",
       "<mark class=\"entity\" style=\"background: #bfe1d9; padding: 0.45em 0.6em; margin: 0 0.25em; line-height: 1; border-radius: 0.35em;\">\n",
       "    decades\n",
       "    <span style=\"font-size: 0.8em; font-weight: bold; line-height: 1; border-radius: 0.35em; vertical-align: middle; margin-left: 0.5rem\">DATE</span>\n",
       "</mark>\n",
       " of non-alignment policy. A top \n",
       "<mark class=\"entity\" style=\"background: #feca74; padding: 0.45em 0.6em; margin: 0 0.25em; line-height: 1; border-radius: 0.35em;\">\n",
       "    US\n",
       "    <span style=\"font-size: 0.8em; font-weight: bold; line-height: 1; border-radius: 0.35em; vertical-align: middle; margin-left: 0.5rem\">GPE</span>\n",
       "</mark>\n",
       " general said \n",
       "<mark class=\"entity\" style=\"background: #bfe1d9; padding: 0.45em 0.6em; margin: 0 0.25em; line-height: 1; border-radius: 0.35em;\">\n",
       "    Saturday\n",
       "    <span style=\"font-size: 0.8em; font-weight: bold; line-height: 1; border-radius: 0.35em; vertical-align: middle; margin-left: 0.5rem\">DATE</span>\n",
       "</mark>\n",
       " that their joining would put \n",
       "<mark class=\"entity\" style=\"background: #feca74; padding: 0.45em 0.6em; margin: 0 0.25em; line-height: 1; border-radius: 0.35em;\">\n",
       "    Russia\n",
       "    <span style=\"font-size: 0.8em; font-weight: bold; line-height: 1; border-radius: 0.35em; vertical-align: middle; margin-left: 0.5rem\">GPE</span>\n",
       "</mark>\n",
       " in a difficult military position in \n",
       "<mark class=\"entity\" style=\"background: #ff9561; padding: 0.45em 0.6em; margin: 0 0.25em; line-height: 1; border-radius: 0.35em;\">\n",
       "    the Baltic Sea\n",
       "    <span style=\"font-size: 0.8em; font-weight: bold; line-height: 1; border-radius: 0.35em; vertical-align: middle; margin-left: 0.5rem\">LOC</span>\n",
       "</mark>\n",
       ". &quot;\n",
       "<mark class=\"entity\" style=\"background: #ff9561; padding: 0.45em 0.6em; margin: 0 0.25em; line-height: 1; border-radius: 0.35em;\">\n",
       "    The Baltic Sea\n",
       "    <span style=\"font-size: 0.8em; font-weight: bold; line-height: 1; border-radius: 0.35em; vertical-align: middle; margin-left: 0.5rem\">LOC</span>\n",
       "</mark>\n",
       " is very strategically important, it's one of the great seaways of the world,&quot; General \n",
       "<mark class=\"entity\" style=\"background: #aa9cfc; padding: 0.45em 0.6em; margin: 0 0.25em; line-height: 1; border-radius: 0.35em;\">\n",
       "    Mark Milley\n",
       "    <span style=\"font-size: 0.8em; font-weight: bold; line-height: 1; border-radius: 0.35em; vertical-align: middle; margin-left: 0.5rem\">PERSON</span>\n",
       "</mark>\n",
       " said during a visit to \n",
       "<mark class=\"entity\" style=\"background: #feca74; padding: 0.45em 0.6em; margin: 0 0.25em; line-height: 1; border-radius: 0.35em;\">\n",
       "    Stockholm\n",
       "    <span style=\"font-size: 0.8em; font-weight: bold; line-height: 1; border-radius: 0.35em; vertical-align: middle; margin-left: 0.5rem\">GPE</span>\n",
       "</mark>\n",
       " ahead of a military exercise. \n",
       "<mark class=\"entity\" style=\"background: #c887fb; padding: 0.45em 0.6em; margin: 0 0.25em; line-height: 1; border-radius: 0.35em;\">\n",
       "    German\n",
       "    <span style=\"font-size: 0.8em; font-weight: bold; line-height: 1; border-radius: 0.35em; vertical-align: middle; margin-left: 0.5rem\">NORP</span>\n",
       "</mark>\n",
       " Chancellor \n",
       "<mark class=\"entity\" style=\"background: #aa9cfc; padding: 0.45em 0.6em; margin: 0 0.25em; line-height: 1; border-radius: 0.35em;\">\n",
       "    Olaf Scholz\n",
       "    <span style=\"font-size: 0.8em; font-weight: bold; line-height: 1; border-radius: 0.35em; vertical-align: middle; margin-left: 0.5rem\">PERSON</span>\n",
       "</mark>\n",
       " has said that \n",
       "<mark class=\"entity\" style=\"background: #feca74; padding: 0.45em 0.6em; margin: 0 0.25em; line-height: 1; border-radius: 0.35em;\">\n",
       "    Germany\n",
       "    <span style=\"font-size: 0.8em; font-weight: bold; line-height: 1; border-radius: 0.35em; vertical-align: middle; margin-left: 0.5rem\">GPE</span>\n",
       "</mark>\n",
       " was doing everything possible to make the bids succeed. \n",
       "<mark class=\"entity\" style=\"background: #feca74; padding: 0.45em 0.6em; margin: 0 0.25em; line-height: 1; border-radius: 0.35em;\">\n",
       "    US\n",
       "    <span style=\"font-size: 0.8em; font-weight: bold; line-height: 1; border-radius: 0.35em; vertical-align: middle; margin-left: 0.5rem\">GPE</span>\n",
       "</mark>\n",
       " President \n",
       "<mark class=\"entity\" style=\"background: #aa9cfc; padding: 0.45em 0.6em; margin: 0 0.25em; line-height: 1; border-radius: 0.35em;\">\n",
       "    Joe Biden\n",
       "    <span style=\"font-size: 0.8em; font-weight: bold; line-height: 1; border-radius: 0.35em; vertical-align: middle; margin-left: 0.5rem\">PERSON</span>\n",
       "</mark>\n",
       " has also come out in support of \n",
       "<mark class=\"entity\" style=\"background: #feca74; padding: 0.45em 0.6em; margin: 0 0.25em; line-height: 1; border-radius: 0.35em;\">\n",
       "    Sweden\n",
       "    <span style=\"font-size: 0.8em; font-weight: bold; line-height: 1; border-radius: 0.35em; vertical-align: middle; margin-left: 0.5rem\">GPE</span>\n",
       "</mark>\n",
       " and \n",
       "<mark class=\"entity\" style=\"background: #feca74; padding: 0.45em 0.6em; margin: 0 0.25em; line-height: 1; border-radius: 0.35em;\">\n",
       "    Finland\n",
       "    <span style=\"font-size: 0.8em; font-weight: bold; line-height: 1; border-radius: 0.35em; vertical-align: middle; margin-left: 0.5rem\">GPE</span>\n",
       "</mark>\n",
       " joining \n",
       "<mark class=\"entity\" style=\"background: #7aecec; padding: 0.45em 0.6em; margin: 0 0.25em; line-height: 1; border-radius: 0.35em;\">\n",
       "    NATO\n",
       "    <span style=\"font-size: 0.8em; font-weight: bold; line-height: 1; border-radius: 0.35em; vertical-align: middle; margin-left: 0.5rem\">ORG</span>\n",
       "</mark>\n",
       ". Secretary-General \n",
       "<mark class=\"entity\" style=\"background: #aa9cfc; padding: 0.45em 0.6em; margin: 0 0.25em; line-height: 1; border-radius: 0.35em;\">\n",
       "    Stoltenberg\n",
       "    <span style=\"font-size: 0.8em; font-weight: bold; line-height: 1; border-radius: 0.35em; vertical-align: middle; margin-left: 0.5rem\">PERSON</span>\n",
       "</mark>\n",
       " tweeted \n",
       "<mark class=\"entity\" style=\"background: #bfe1d9; padding: 0.45em 0.6em; margin: 0 0.25em; line-height: 1; border-radius: 0.35em;\">\n",
       "    late Friday\n",
       "    <span style=\"font-size: 0.8em; font-weight: bold; line-height: 1; border-radius: 0.35em; vertical-align: middle; margin-left: 0.5rem\">DATE</span>\n",
       "</mark>\n",
       " that he had also met with \n",
       "<mark class=\"entity\" style=\"background: #c887fb; padding: 0.45em 0.6em; margin: 0 0.25em; line-height: 1; border-radius: 0.35em;\">\n",
       "    Finnish\n",
       "    <span style=\"font-size: 0.8em; font-weight: bold; line-height: 1; border-radius: 0.35em; vertical-align: middle; margin-left: 0.5rem\">NORP</span>\n",
       "</mark>\n",
       " Prime Minister \n",
       "<mark class=\"entity\" style=\"background: #aa9cfc; padding: 0.45em 0.6em; margin: 0 0.25em; line-height: 1; border-radius: 0.35em;\">\n",
       "    Sanna Marin\n",
       "    <span style=\"font-size: 0.8em; font-weight: bold; line-height: 1; border-radius: 0.35em; vertical-align: middle; margin-left: 0.5rem\">PERSON</span>\n",
       "</mark>\n",
       " while in \n",
       "<mark class=\"entity\" style=\"background: #feca74; padding: 0.45em 0.6em; margin: 0 0.25em; line-height: 1; border-radius: 0.35em;\">\n",
       "    Washington\n",
       "    <span style=\"font-size: 0.8em; font-weight: bold; line-height: 1; border-radius: 0.35em; vertical-align: middle; margin-left: 0.5rem\">GPE</span>\n",
       "</mark>\n",
       " \n",
       "<mark class=\"entity\" style=\"background: #bfe1d9; padding: 0.45em 0.6em; margin: 0 0.25em; line-height: 1; border-radius: 0.35em;\">\n",
       "    last week\n",
       "    <span style=\"font-size: 0.8em; font-weight: bold; line-height: 1; border-radius: 0.35em; vertical-align: middle; margin-left: 0.5rem\">DATE</span>\n",
       "</mark>\n",
       ". He said the \n",
       "<mark class=\"entity\" style=\"background: #e4e7d2; padding: 0.45em 0.6em; margin: 0 0.25em; line-height: 1; border-radius: 0.35em;\">\n",
       "    two\n",
       "    <span style=\"font-size: 0.8em; font-weight: bold; line-height: 1; border-radius: 0.35em; vertical-align: middle; margin-left: 0.5rem\">CARDINAL</span>\n",
       "</mark>\n",
       " spoke of &quot;the need to address \n",
       "<mark class=\"entity\" style=\"background: #feca74; padding: 0.45em 0.6em; margin: 0 0.25em; line-height: 1; border-radius: 0.35em;\">\n",
       "    Turkey\n",
       "    <span style=\"font-size: 0.8em; font-weight: bold; line-height: 1; border-radius: 0.35em; vertical-align: middle; margin-left: 0.5rem\">GPE</span>\n",
       "</mark>\n",
       "'s concerns and move forward&quot; with the membership applications.\n",
       "<mark class=\"entity\" style=\"background: #feca74; padding: 0.45em 0.6em; margin: 0 0.25em; line-height: 1; border-radius: 0.35em;\">\n",
       "    Finland\n",
       "    <span style=\"font-size: 0.8em; font-weight: bold; line-height: 1; border-radius: 0.35em; vertical-align: middle; margin-left: 0.5rem\">GPE</span>\n",
       "</mark>\n",
       " to apply for \n",
       "<mark class=\"entity\" style=\"background: #7aecec; padding: 0.45em 0.6em; margin: 0 0.25em; line-height: 1; border-radius: 0.35em;\">\n",
       "    NATO\n",
       "    <span style=\"font-size: 0.8em; font-weight: bold; line-height: 1; border-radius: 0.35em; vertical-align: middle; margin-left: 0.5rem\">ORG</span>\n",
       "</mark>\n",
       " membershipTo view this video please enable \n",
       "<mark class=\"entity\" style=\"background: #7aecec; padding: 0.45em 0.6em; margin: 0 0.25em; line-height: 1; border-radius: 0.35em;\">\n",
       "    JavaScript\n",
       "    <span style=\"font-size: 0.8em; font-weight: bold; line-height: 1; border-radius: 0.35em; vertical-align: middle; margin-left: 0.5rem\">ORG</span>\n",
       "</mark>\n",
       ", and consider upgrading to a web browser that supports HTML5 video \n",
       "<mark class=\"entity\" style=\"background: #7aecec; padding: 0.45em 0.6em; margin: 0 0.25em; line-height: 1; border-radius: 0.35em;\">\n",
       "    jsi/rt (\n",
       "    <span style=\"font-size: 0.8em; font-weight: bold; line-height: 1; border-radius: 0.35em; vertical-align: middle; margin-left: 0.5rem\">ORG</span>\n",
       "</mark>\n",
       "\n",
       "<mark class=\"entity\" style=\"background: #7aecec; padding: 0.45em 0.6em; margin: 0 0.25em; line-height: 1; border-radius: 0.35em;\">\n",
       "    AP\n",
       "    <span style=\"font-size: 0.8em; font-weight: bold; line-height: 1; border-radius: 0.35em; vertical-align: middle; margin-left: 0.5rem\">ORG</span>\n",
       "</mark>\n",
       ", \n",
       "<mark class=\"entity\" style=\"background: #7aecec; padding: 0.45em 0.6em; margin: 0 0.25em; line-height: 1; border-radius: 0.35em;\">\n",
       "    Reuters\n",
       "    <span style=\"font-size: 0.8em; font-weight: bold; line-height: 1; border-radius: 0.35em; vertical-align: middle; margin-left: 0.5rem\">ORG</span>\n",
       "</mark>\n",
       ") Send us your feedbackYour feedbackAdvertisementSkip next section Related topicsRelated topicsSkip next section \n",
       "<mark class=\"entity\" style=\"background: #7aecec; padding: 0.45em 0.6em; margin: 0 0.25em; line-height: 1; border-radius: 0.35em;\">\n",
       "    DW\n",
       "    <span style=\"font-size: 0.8em; font-weight: bold; line-height: 1; border-radius: 0.35em; vertical-align: middle; margin-left: 0.5rem\">ORG</span>\n",
       "</mark>\n",
       "'s \n",
       "<mark class=\"entity\" style=\"background: #7aecec; padding: 0.45em 0.6em; margin: 0 0.25em; line-height: 1; border-radius: 0.35em;\">\n",
       "    Top StoryDW's Top\n",
       "    <span style=\"font-size: 0.8em; font-weight: bold; line-height: 1; border-radius: 0.35em; vertical-align: middle; margin-left: 0.5rem\">ORG</span>\n",
       "</mark>\n",
       " StoryWho are the \n",
       "<mark class=\"entity\" style=\"background: #c887fb; padding: 0.45em 0.6em; margin: 0 0.25em; line-height: 1; border-radius: 0.35em;\">\n",
       "    Russian\n",
       "    <span style=\"font-size: 0.8em; font-weight: bold; line-height: 1; border-radius: 0.35em; vertical-align: middle; margin-left: 0.5rem\">NORP</span>\n",
       "</mark>\n",
       " volunteers fighting for Ukraine?Politics8 hours ago8 hours \n",
       "<mark class=\"entity\" style=\"background: #feca74; padding: 0.45em 0.6em; margin: 0 0.25em; line-height: 1; border-radius: 0.35em;\">\n",
       "    agoUkraine\n",
       "    <span style=\"font-size: 0.8em; font-weight: bold; line-height: 1; border-radius: 0.35em; vertical-align: middle; margin-left: 0.5rem\">GPE</span>\n",
       "</mark>\n",
       " updates: \n",
       "<mark class=\"entity\" style=\"background: #7aecec; padding: 0.45em 0.6em; margin: 0 0.25em; line-height: 1; border-radius: 0.35em;\">\n",
       "    Wagner Group\n",
       "    <span style=\"font-size: 0.8em; font-weight: bold; line-height: 1; border-radius: 0.35em; vertical-align: middle; margin-left: 0.5rem\">ORG</span>\n",
       "</mark>\n",
       " reports \n",
       "<mark class=\"entity\" style=\"background: #e4e7d2; padding: 0.45em 0.6em; margin: 0 0.25em; line-height: 1; border-radius: 0.35em;\">\n",
       "    10,000\n",
       "    <span style=\"font-size: 0.8em; font-weight: bold; line-height: 1; border-radius: 0.35em; vertical-align: middle; margin-left: 0.5rem\">CARDINAL</span>\n",
       "</mark>\n",
       " prisoner deathsConflicts6 hours ago6 hours agoNorway: \n",
       "<mark class=\"entity\" style=\"background: #c887fb; padding: 0.45em 0.6em; margin: 0 0.25em; line-height: 1; border-radius: 0.35em;\">\n",
       "    Russian\n",
       "    <span style=\"font-size: 0.8em; font-weight: bold; line-height: 1; border-radius: 0.35em; vertical-align: middle; margin-left: 0.5rem\">NORP</span>\n",
       "</mark>\n",
       " spying prompts rethink of port access \n",
       "<mark class=\"entity\" style=\"background: #feca74; padding: 0.45em 0.6em; margin: 0 0.25em; line-height: 1; border-radius: 0.35em;\">\n",
       "    Politics16\n",
       "    <span style=\"font-size: 0.8em; font-weight: bold; line-height: 1; border-radius: 0.35em; vertical-align: middle; margin-left: 0.5rem\">GPE</span>\n",
       "</mark>\n",
       " hours ago16 hours ago03:25 minPage \n",
       "<mark class=\"entity\" style=\"background: #e4e7d2; padding: 0.45em 0.6em; margin: 0 0.25em; line-height: 1; border-radius: 0.35em;\">\n",
       "    1\n",
       "    <span style=\"font-size: 0.8em; font-weight: bold; line-height: 1; border-radius: 0.35em; vertical-align: middle; margin-left: 0.5rem\">CARDINAL</span>\n",
       "</mark>\n",
       " of \n",
       "<mark class=\"entity\" style=\"background: #e4e7d2; padding: 0.45em 0.6em; margin: 0 0.25em; line-height: 1; border-radius: 0.35em;\">\n",
       "    2Skip\n",
       "    <span style=\"font-size: 0.8em; font-weight: bold; line-height: 1; border-radius: 0.35em; vertical-align: middle; margin-left: 0.5rem\">CARDINAL</span>\n",
       "</mark>\n",
       " next section More stories from \n",
       "<mark class=\"entity\" style=\"background: #feca74; padding: 0.45em 0.6em; margin: 0 0.25em; line-height: 1; border-radius: 0.35em;\">\n",
       "    DWMore\n",
       "    <span style=\"font-size: 0.8em; font-weight: bold; line-height: 1; border-radius: 0.35em; vertical-align: middle; margin-left: 0.5rem\">GPE</span>\n",
       "</mark>\n",
       " stories from DWAfricaLiberator to oppressor: \n",
       "<mark class=\"entity\" style=\"background: #bfe1d9; padding: 0.45em 0.6em; margin: 0 0.25em; line-height: 1; border-radius: 0.35em;\">\n",
       "    30 years\n",
       "    <span style=\"font-size: 0.8em; font-weight: bold; line-height: 1; border-radius: 0.35em; vertical-align: middle; margin-left: 0.5rem\">DATE</span>\n",
       "</mark>\n",
       " under \n",
       "<mark class=\"entity\" style=\"background: #aa9cfc; padding: 0.45em 0.6em; margin: 0 0.25em; line-height: 1; border-radius: 0.35em;\">\n",
       "    Isaias\n",
       "    <span style=\"font-size: 0.8em; font-weight: bold; line-height: 1; border-radius: 0.35em; vertical-align: middle; margin-left: 0.5rem\">PERSON</span>\n",
       "</mark>\n",
       " AfwerkiLiberator to oppressor: \n",
       "<mark class=\"entity\" style=\"background: #bfe1d9; padding: 0.45em 0.6em; margin: 0 0.25em; line-height: 1; border-radius: 0.35em;\">\n",
       "    30 years\n",
       "    <span style=\"font-size: 0.8em; font-weight: bold; line-height: 1; border-radius: 0.35em; vertical-align: middle; margin-left: 0.5rem\">DATE</span>\n",
       "</mark>\n",
       " under \n",
       "<mark class=\"entity\" style=\"background: #aa9cfc; padding: 0.45em 0.6em; margin: 0 0.25em; line-height: 1; border-radius: 0.35em;\">\n",
       "    Isaias\n",
       "    <span style=\"font-size: 0.8em; font-weight: bold; line-height: 1; border-radius: 0.35em; vertical-align: middle; margin-left: 0.5rem\">PERSON</span>\n",
       "</mark>\n",
       " AfwerkiPolitics05/23/2023May \n",
       "<mark class=\"entity\" style=\"background: #e4e7d2; padding: 0.45em 0.6em; margin: 0 0.25em; line-height: 1; border-radius: 0.35em;\">\n",
       "    23\n",
       "    <span style=\"font-size: 0.8em; font-weight: bold; line-height: 1; border-radius: 0.35em; vertical-align: middle; margin-left: 0.5rem\">CARDINAL</span>\n",
       "</mark>\n",
       ", \n",
       "<mark class=\"entity\" style=\"background: #e4e7d2; padding: 0.45em 0.6em; margin: 0 0.25em; line-height: 1; border-radius: 0.35em;\">\n",
       "    2023More\n",
       "    <span style=\"font-size: 0.8em; font-weight: bold; line-height: 1; border-radius: 0.35em; vertical-align: middle; margin-left: 0.5rem\">CARDINAL</span>\n",
       "</mark>\n",
       " from AfricaAsiaThailand: Anti-junta parties seek to rule but hurdles remainThailand: Anti-junta parties seek to rule but hurdles remainPolitics12 hours ago12 hours agoMore from AsiaGermanyArchitect \n",
       "<mark class=\"entity\" style=\"background: #aa9cfc; padding: 0.45em 0.6em; margin: 0 0.25em; line-height: 1; border-radius: 0.35em;\">\n",
       "    David Chipperfield\n",
       "    <span style=\"font-size: 0.8em; font-weight: bold; line-height: 1; border-radius: 0.35em; vertical-align: middle; margin-left: 0.5rem\">PERSON</span>\n",
       "</mark>\n",
       " wins \n",
       "<mark class=\"entity\" style=\"background: #e4e7d2; padding: 0.45em 0.6em; margin: 0 0.25em; line-height: 1; border-radius: 0.35em;\">\n",
       "    2023\n",
       "    <span style=\"font-size: 0.8em; font-weight: bold; line-height: 1; border-radius: 0.35em; vertical-align: middle; margin-left: 0.5rem\">CARDINAL</span>\n",
       "</mark>\n",
       " Pritzker Prize Architect \n",
       "<mark class=\"entity\" style=\"background: #aa9cfc; padding: 0.45em 0.6em; margin: 0 0.25em; line-height: 1; border-radius: 0.35em;\">\n",
       "    David Chipperfield\n",
       "    <span style=\"font-size: 0.8em; font-weight: bold; line-height: 1; border-radius: 0.35em; vertical-align: middle; margin-left: 0.5rem\">PERSON</span>\n",
       "</mark>\n",
       " wins \n",
       "<mark class=\"entity\" style=\"background: #e4e7d2; padding: 0.45em 0.6em; margin: 0 0.25em; line-height: 1; border-radius: 0.35em;\">\n",
       "    2023\n",
       "    <span style=\"font-size: 0.8em; font-weight: bold; line-height: 1; border-radius: 0.35em; vertical-align: middle; margin-left: 0.5rem\">CARDINAL</span>\n",
       "</mark>\n",
       " Pritzker Prize Architecture18 \n",
       "<mark class=\"entity\" style=\"background: #bfe1d9; padding: 0.45em 0.6em; margin: 0 0.25em; line-height: 1; border-radius: 0.35em;\">\n",
       "    hours ago18 hours\n",
       "    <span style=\"font-size: 0.8em; font-weight: bold; line-height: 1; border-radius: 0.35em; vertical-align: middle; margin-left: 0.5rem\">TIME</span>\n",
       "</mark>\n",
       " agoMore from \n",
       "<mark class=\"entity\" style=\"background: #feca74; padding: 0.45em 0.6em; margin: 0 0.25em; line-height: 1; border-radius: 0.35em;\">\n",
       "    GermanyEuropeTurkey\n",
       "    <span style=\"font-size: 0.8em; font-weight: bold; line-height: 1; border-radius: 0.35em; vertical-align: middle; margin-left: 0.5rem\">GPE</span>\n",
       "</mark>\n",
       "’s runoff election: Nationalism, fake news, xenophobiaTurkey’s runoff election: Nationalism, fake news, xenophobiaPolitics8 hours ago8 \n",
       "<mark class=\"entity\" style=\"background: #bfe1d9; padding: 0.45em 0.6em; margin: 0 0.25em; line-height: 1; border-radius: 0.35em;\">\n",
       "    hours\n",
       "    <span style=\"font-size: 0.8em; font-weight: bold; line-height: 1; border-radius: 0.35em; vertical-align: middle; margin-left: 0.5rem\">TIME</span>\n",
       "</mark>\n",
       " agoMore from \n",
       "<mark class=\"entity\" style=\"background: #7aecec; padding: 0.45em 0.6em; margin: 0 0.25em; line-height: 1; border-radius: 0.35em;\">\n",
       "    EuropeNorth AmericaTina Turner:\n",
       "    <span style=\"font-size: 0.8em; font-weight: bold; line-height: 1; border-radius: 0.35em; vertical-align: middle; margin-left: 0.5rem\">ORG</span>\n",
       "</mark>\n",
       " Remembering the 'Queen of Rock 'n' Roll'Tina \n",
       "<mark class=\"entity\" style=\"background: #aa9cfc; padding: 0.45em 0.6em; margin: 0 0.25em; line-height: 1; border-radius: 0.35em;\">\n",
       "    Turner\n",
       "    <span style=\"font-size: 0.8em; font-weight: bold; line-height: 1; border-radius: 0.35em; vertical-align: middle; margin-left: 0.5rem\">PERSON</span>\n",
       "</mark>\n",
       ": Remembering the 'Queen of Rock 'n' Roll'Music7 hours ago7 \n",
       "<mark class=\"entity\" style=\"background: #bfe1d9; padding: 0.45em 0.6em; margin: 0 0.25em; line-height: 1; border-radius: 0.35em;\">\n",
       "    hours\n",
       "    <span style=\"font-size: 0.8em; font-weight: bold; line-height: 1; border-radius: 0.35em; vertical-align: middle; margin-left: 0.5rem\">TIME</span>\n",
       "</mark>\n",
       " agoMore from \n",
       "<mark class=\"entity\" style=\"background: #c887fb; padding: 0.45em 0.6em; margin: 0 0.25em; line-height: 1; border-radius: 0.35em;\">\n",
       "    North AmericaLatin\n",
       "    <span style=\"font-size: 0.8em; font-weight: bold; line-height: 1; border-radius: 0.35em; vertical-align: middle; margin-left: 0.5rem\">NORP</span>\n",
       "</mark>\n",
       " AmericaPopocatepetl: Ashes over \n",
       "<mark class=\"entity\" style=\"background: #7aecec; padding: 0.45em 0.6em; margin: 0 0.25em; line-height: 1; border-radius: 0.35em;\">\n",
       "    MexicoPopocatepetl\n",
       "    <span style=\"font-size: 0.8em; font-weight: bold; line-height: 1; border-radius: 0.35em; vertical-align: middle; margin-left: 0.5rem\">ORG</span>\n",
       "</mark>\n",
       ": Ashes over \n",
       "<mark class=\"entity\" style=\"background: #bfe1d9; padding: 0.45em 0.6em; margin: 0 0.25em; line-height: 1; border-radius: 0.35em;\">\n",
       "    MexicoCatastrophe20 hours\n",
       "    <span style=\"font-size: 0.8em; font-weight: bold; line-height: 1; border-radius: 0.35em; vertical-align: middle; margin-left: 0.5rem\">TIME</span>\n",
       "</mark>\n",
       " ago20 hours ago7 imagesMore from \n",
       "<mark class=\"entity\" style=\"background: #7aecec; padding: 0.45em 0.6em; margin: 0 0.25em; line-height: 1; border-radius: 0.35em;\">\n",
       "    Latin AmericaGo\n",
       "    <span style=\"font-size: 0.8em; font-weight: bold; line-height: 1; border-radius: 0.35em; vertical-align: middle; margin-left: 0.5rem\">ORG</span>\n",
       "</mark>\n",
       " to homepageAdvertisementAbout DWWho we arePressDW \n",
       "<mark class=\"entity\" style=\"background: #7aecec; padding: 0.45em 0.6em; margin: 0 0.25em; line-height: 1; border-radius: 0.35em;\">\n",
       "    Global Media\n",
       "    <span style=\"font-size: 0.8em; font-weight: bold; line-height: 1; border-radius: 0.35em; vertical-align: middle; margin-left: 0.5rem\">ORG</span>\n",
       "</mark>\n",
       " ForumDW offersLearn GermanDW AkademieServiceNewslettersReceptionFAQContactTopics from A to \n",
       "<mark class=\"entity\" style=\"background: #7aecec; padding: 0.45em 0.6em; margin: 0 0.25em; line-height: 1; border-radius: 0.35em;\">\n",
       "    ZB2BSales &amp; DistributionTravelAdvertisingFollow\n",
       "    <span style=\"font-size: 0.8em; font-weight: bold; line-height: 1; border-radius: 0.35em; vertical-align: middle; margin-left: 0.5rem\">ORG</span>\n",
       "</mark>\n",
       " us on\n",
       "<mark class=\"entity\" style=\"background: #ff8197; padding: 0.45em 0.6em; margin: 0 0.25em; line-height: 1; border-radius: 0.35em;\">\n",
       "    © 2023\n",
       "    <span style=\"font-size: 0.8em; font-weight: bold; line-height: 1; border-radius: 0.35em; vertical-align: middle; margin-left: 0.5rem\">LAW</span>\n",
       "</mark>\n",
       " \n",
       "<mark class=\"entity\" style=\"background: #7aecec; padding: 0.45em 0.6em; margin: 0 0.25em; line-height: 1; border-radius: 0.35em;\">\n",
       "    Deutsche WellePrivacy PolicyLegal\n",
       "    <span style=\"font-size: 0.8em; font-weight: bold; line-height: 1; border-radius: 0.35em; vertical-align: middle; margin-left: 0.5rem\">ORG</span>\n",
       "</mark>\n",
       " noticeDigital accessibility</div></span>"
      ],
      "text/plain": [
       "<IPython.core.display.HTML object>"
      ]
     },
     "metadata": {},
     "output_type": "display_data"
    }
   ],
   "source": [
    "from spacy import displacy\n",
    "displacy.render(doc, style=\"ent\")"
   ]
  },
  {
   "cell_type": "markdown",
   "id": "6e187cde",
   "metadata": {},
   "source": [
    "### Regeln-basierte Suche nach Entitäten\n",
    "\n",
    "Wir inisialisieren ein Matcher-Objekt mit den Wortschatz des Sprachmodells"
   ]
  },
  {
   "cell_type": "code",
   "execution_count": 81,
   "id": "cee84b8a",
   "metadata": {},
   "outputs": [],
   "source": [
    "from spacy.matcher import Matcher\n",
    "\n",
    "doc = nlp_en(\"Good morning, I want to reserve a ticket. I will then say good evening!\")\n",
    "\n",
    "matcher = Matcher(nlp_en.vocab)"
   ]
  },
  {
   "cell_type": "markdown",
   "id": "09b8bcb4",
   "metadata": {},
   "source": [
    "Wir definieren zwei Pattern (1 List-Item = 1 Token)"
   ]
  },
  {
   "cell_type": "code",
   "execution_count": 82,
   "id": "376dfd42",
   "metadata": {},
   "outputs": [],
   "source": [
    "pattern1 = [{\"LOWER\": \"good\"}, {\"LOWER\": \"morning\"}, {\"IS_PUNCT\": True}]\n",
    "\n",
    "matcher.add(\"morningGreeting\", [pattern1])\n",
    "\n",
    "pattern2 = [{\"LOWER\": \"good\"}, {\"LOWER\": \"evening\"}, {\"IS_PUNCT\": True}]\n",
    "\n",
    "matcher.add(\"eveningGreeting\",  [pattern2])"
   ]
  },
  {
   "cell_type": "markdown",
   "id": "f89e673b",
   "metadata": {},
   "source": [
    "Wir suchen nach der Pattern"
   ]
  },
  {
   "cell_type": "code",
   "execution_count": 83,
   "id": "8ac05e79",
   "metadata": {
    "scrolled": true
   },
   "outputs": [
    {
     "name": "stdout",
     "output_type": "stream",
     "text": [
      "0 3 Good morning,\n",
      "14 17 good evening!\n"
     ]
    }
   ],
   "source": [
    "matches = matcher(doc)\n",
    "\n",
    "for match_id, start, end in matches:\n",
    "\n",
    "     m_span = doc[start:end]  \n",
    "\n",
    "     print(start, end, m_span.text)"
   ]
  },
  {
   "cell_type": "markdown",
   "id": "880a8af1",
   "metadata": {},
   "source": [
    "### Lexika-basierte Suche nach Entitäten\n",
    "\n",
    "Wir inisialisieren ein PhraseMatcher-Objekt mit den Wortschatz des Sprachmodells"
   ]
  },
  {
   "cell_type": "code",
   "execution_count": 38,
   "id": "ae8ea25a",
   "metadata": {},
   "outputs": [],
   "source": [
    "from spacy.matcher import PhraseMatcher\n",
    "\n",
    "matcher = PhraseMatcher(nlp_en.vocab)"
   ]
  },
  {
   "cell_type": "markdown",
   "id": "1b58a7cf",
   "metadata": {},
   "source": [
    "Wir definieren ein Lexikon"
   ]
  },
  {
   "cell_type": "code",
   "execution_count": 39,
   "id": "5a779215",
   "metadata": {},
   "outputs": [],
   "source": [
    "terms = [\"Angela Merkel\", \"Donald Trump\", \"Alexis Tsipras\"]"
   ]
  },
  {
   "cell_type": "markdown",
   "id": "342546f0",
   "metadata": {},
   "source": [
    "Wir suchen nach der Entitäten in einem Text"
   ]
  },
  {
   "cell_type": "code",
   "execution_count": 40,
   "id": "3173ae64",
   "metadata": {},
   "outputs": [
    {
     "name": "stdout",
     "output_type": "stream",
     "text": [
      "9 11 Angela Merkel\n",
      "17 19 Donald Trump\n",
      "23 25 Alexis Tsipras\n"
     ]
    }
   ],
   "source": [
    "patterns = [nlp_en.make_doc(term) for term in terms]\n",
    "\n",
    "matcher.add(\"politiciansList\", patterns)\n",
    "\n",
    "doc = nlp_en(\"3 EU leaders met in Berlin. German chancellor Angela Merkel first welcomed \\\n",
    "             the US president Donald Trump. The following day Alexis Tsipras joined \\\n",
    "             them in Brandenburg.\")\n",
    "\n",
    "matches = matcher(doc)\n",
    "\n",
    "for mid, start, end in matches:\n",
    "\n",
    "    print(start, end, doc[start:end])"
   ]
  },
  {
   "cell_type": "markdown",
   "id": "33da19f0",
   "metadata": {},
   "source": [
    "### Regelbasierte Suche nach IPs\n",
    "\n",
    "Hier möchten wir IP-Nummern als Entitäten extrahieren. Mit \"Shape\" brauchen wir nur ein paar Beispiele bieten. "
   ]
  },
  {
   "cell_type": "code",
   "execution_count": 41,
   "id": "35b9c974",
   "metadata": {},
   "outputs": [],
   "source": [
    "matcher = PhraseMatcher(nlp_en.vocab, attr=\"SHAPE\") # \"Shape\" erlaubt uns, die 'Form' des Musters zuverwenden (einfacher als RegEx)\n",
    "\n",
    "ip_nums = [\"127.0.0.0\", \"127.256.0.0\"]\n",
    "\n",
    "patterns = [nlp_en.make_doc(ip) for ip in ip_nums]\n",
    "\n",
    "matcher.add(\"IPNums\", patterns)"
   ]
  },
  {
   "cell_type": "code",
   "execution_count": 42,
   "id": "fc02d749",
   "metadata": {},
   "outputs": [
    {
     "name": "stdout",
     "output_type": "stream",
     "text": [
      "8 9 192.1.1.1\n",
      "12 13 192.160.1.1\n"
     ]
    }
   ],
   "source": [
    "doc = nlp_en(\"This log contains the following IP addresses: 192.1.1.1 and 192.12.1.1 and 192.160.1.1 .\")\n",
    "\n",
    "for mid, start, end in matcher(doc):\n",
    "\n",
    "    print(start, end, doc[start:end])"
   ]
  },
  {
   "cell_type": "markdown",
   "id": "be1bf01a",
   "metadata": {},
   "source": [
    "### EntityRuler\n",
    "\n",
    "Wir können wir regel-basierte Entitätserkennung mit maschinellen Lernen kombinieren?\n",
    "Entity Ruler kann als neue Komponente der Pipeline hinzugefügt werden"
   ]
  },
  {
   "cell_type": "code",
   "execution_count": 46,
   "id": "87cbf187",
   "metadata": {},
   "outputs": [
    {
     "name": "stdout",
     "output_type": "stream",
     "text": [
      "(2017,)\n"
     ]
    }
   ],
   "source": [
    "doc = nlp_en(\"I have an acccount with chime since 2017\")\n",
    "print(doc.ents)"
   ]
  },
  {
   "cell_type": "code",
   "execution_count": 47,
   "id": "91a5578e",
   "metadata": {},
   "outputs": [
    {
     "name": "stdout",
     "output_type": "stream",
     "text": [
      "(chime, 2017)\n",
      "ORG\n"
     ]
    }
   ],
   "source": [
    "patterns = [{\"label\": \"ORG\", \"pattern\": [{\"LOWER\": \"chime\"}]}]\n",
    "ruler = nlp_en.add_pipe(\"entity_ruler\")\n",
    "ruler.add_patterns(patterns)\n",
    "doc2 = nlp_en(\"I have an acccount with chime since 2017\")\n",
    "\n",
    "print(doc2.ents)\n",
    "print(doc2[5].ent_type_)"
   ]
  },
  {
   "cell_type": "markdown",
   "id": "525fb6f2",
   "metadata": {},
   "source": [
    "## Hausaufgaben\n",
    "\n",
    "### Übung 7.1\n",
    "\n",
    "Annotieren Sie die Daten im 'reviews_toannotate.csv' (mit \"pos\" oder \"neg\" in der in der letzten Spalte (csv mit \";\" als delimiter) und und berechnen Sie die Agreement (kappa und alpha) mit der bereits kommentierten Datei 'reviews_gold.csv'. "
   ]
  },
  {
   "cell_type": "code",
   "execution_count": 113,
   "id": "e120c2c2",
   "metadata": {},
   "outputs": [],
   "source": [
    "import pandas as pd\n",
    "from nltk.metrics.agreement import AnnotationTask"
   ]
  },
  {
   "cell_type": "code",
   "execution_count": 117,
   "id": "d7e20ba1",
   "metadata": {},
   "outputs": [
    {
     "name": "stdout",
     "output_type": "stream",
     "text": [
      "                                                    0    1\n",
      "0   an entertaining 2 hours awaits the audience in...  pos\n",
      "1   suddenly warren beatty doesn't look so absurd ) .  neg\n",
      "2     by the time they show you , it doesn't matter .  neg\n",
      "3   deniro is also affable , tough on the outside ...  pos\n",
      "4   its 100-minute running time feels like 100 yea...  neg\n",
      "5   this film would definitely not have been as go...  pos\n",
      "6   because of freeman's powerful presence , he ca...  pos\n",
      "7   every shot is choreographed as a portrait -- a...  pos\n",
      "8   in short , rudolph has created a world that it...  pos\n",
      "9   kick boxing deaths and conflicted nuns are not...  neg\n",
      "10  the costumes are remarkable and have jean-paul...  pos\n",
      "11  i was surprised how expressive an actor he pro...  pos\n",
      "12  and if i spoiled it for you , good , i saved y...  neg\n",
      "13  i like his quick-edit style , because it's abr...  pos\n",
      "14  the problems in logic are flaws , but don't ru...  pos\n",
      "15  connery plays his character with the exact amo...  pos\n",
      "16  the flashbacks are good , but at times schroed...  pos\n",
      "17  voiced by ming-na wen , mulan is disney's stro...  pos\n",
      "18  but these gags , and the gag behind the entire...  neg\n",
      "19  enough of his trademark style remains , howeve...  pos\n",
      "20  the performances are hardly worth talking about .  neg\n",
      "21  the look of the movie is as bland as the town ...  neg\n",
      "22  for about 160 out of its 170 minutes , \" savin...  pos\n",
      "23  how obvious is it that he's gonna cheat on her...  neg\n",
      "24  another disappointing film from this year's so...  neg\n",
      "25  there are many twists and turns that make this...  pos\n",
      "26  alicia silverstone is completely wasted playin...  neg\n",
      "27  everything else in this movie was pointless , ...  neg\n",
      "28  he manages to develop the main characters and ...  pos\n",
      "29  the film has no social message like its predec...  neg\n",
      "30  a slight romantic comedy with a feminist bent ...  neg\n",
      "31  although , as typical disaster movies go , day...  pos\n",
      "32  i find it quite entertaining , despite its com...  neg\n",
      "33  it's not thought provoking , but it's shiny , ...  pos\n",
      "34  how hard is it to get someone familiar with th...  neg\n",
      "35  in fact , it might as well be since the dialog...  neg\n",
      "36  big momma's house is ridiculous _and_ not funny .  neg\n",
      "37  suffice to say that everything done right in \"...  neg\n",
      "38  not since beauty & the beast have animated cha...  pos\n",
      "39  this movie is so pathetically pitiful that it'...  neg\n"
     ]
    }
   ],
   "source": [
    "annotator1_data = pd.read_csv('reviews_gold.csv',delimiter=';', header=None)\n",
    "print(annotator1_data)"
   ]
  },
  {
   "cell_type": "code",
   "execution_count": 123,
   "id": "67a710a5",
   "metadata": {},
   "outputs": [
    {
     "data": {
      "text/html": [
       "<div>\n",
       "<style scoped>\n",
       "    .dataframe tbody tr th:only-of-type {\n",
       "        vertical-align: middle;\n",
       "    }\n",
       "\n",
       "    .dataframe tbody tr th {\n",
       "        vertical-align: top;\n",
       "    }\n",
       "\n",
       "    .dataframe thead th {\n",
       "        text-align: right;\n",
       "    }\n",
       "</style>\n",
       "<table border=\"1\" class=\"dataframe\">\n",
       "  <thead>\n",
       "    <tr style=\"text-align: right;\">\n",
       "      <th></th>\n",
       "      <th>1</th>\n",
       "      <th>2</th>\n",
       "      <th>3</th>\n",
       "      <th>4</th>\n",
       "      <th>5</th>\n",
       "      <th>6</th>\n",
       "      <th>7</th>\n",
       "      <th>8</th>\n",
       "      <th>9</th>\n",
       "      <th>10</th>\n",
       "      <th>...</th>\n",
       "      <th>30</th>\n",
       "      <th>31</th>\n",
       "      <th>32</th>\n",
       "      <th>33</th>\n",
       "      <th>34</th>\n",
       "      <th>35</th>\n",
       "      <th>36</th>\n",
       "      <th>37</th>\n",
       "      <th>38</th>\n",
       "      <th>39</th>\n",
       "    </tr>\n",
       "  </thead>\n",
       "  <tbody>\n",
       "    <tr>\n",
       "      <th>gold</th>\n",
       "      <td>neg</td>\n",
       "      <td>neg</td>\n",
       "      <td>pos</td>\n",
       "      <td>neg</td>\n",
       "      <td>pos</td>\n",
       "      <td>pos</td>\n",
       "      <td>pos</td>\n",
       "      <td>pos</td>\n",
       "      <td>neg</td>\n",
       "      <td>pos</td>\n",
       "      <td>...</td>\n",
       "      <td>neg</td>\n",
       "      <td>pos</td>\n",
       "      <td>neg</td>\n",
       "      <td>pos</td>\n",
       "      <td>neg</td>\n",
       "      <td>neg</td>\n",
       "      <td>neg</td>\n",
       "      <td>neg</td>\n",
       "      <td>pos</td>\n",
       "      <td>neg</td>\n",
       "    </tr>\n",
       "    <tr>\n",
       "      <th>you</th>\n",
       "      <td>neg</td>\n",
       "      <td>neg</td>\n",
       "      <td>pos</td>\n",
       "      <td>neg</td>\n",
       "      <td>pos</td>\n",
       "      <td>pos</td>\n",
       "      <td>pos</td>\n",
       "      <td>pos</td>\n",
       "      <td>neg</td>\n",
       "      <td>pos</td>\n",
       "      <td>...</td>\n",
       "      <td>neg</td>\n",
       "      <td>pos</td>\n",
       "      <td>neg</td>\n",
       "      <td>pos</td>\n",
       "      <td>neg</td>\n",
       "      <td>neg</td>\n",
       "      <td>neg</td>\n",
       "      <td>neg</td>\n",
       "      <td>pos</td>\n",
       "      <td>neg</td>\n",
       "    </tr>\n",
       "  </tbody>\n",
       "</table>\n",
       "<p>2 rows × 39 columns</p>\n",
       "</div>"
      ],
      "text/plain": [
       "       1    2    3    4    5    6    7    8    9    10  ...   30   31   32  \\\n",
       "gold  neg  neg  pos  neg  pos  pos  pos  pos  neg  pos  ...  neg  pos  neg   \n",
       "you   neg  neg  pos  neg  pos  pos  pos  pos  neg  pos  ...  neg  pos  neg   \n",
       "\n",
       "       33   34   35   36   37   38   39  \n",
       "gold  pos  neg  neg  neg  neg  pos  neg  \n",
       "you   pos  neg  neg  neg  neg  pos  neg  \n",
       "\n",
       "[2 rows x 39 columns]"
      ]
     },
     "execution_count": 123,
     "metadata": {},
     "output_type": "execute_result"
    }
   ],
   "source": [
    "matrix = [annotator1_data[1],\n",
    "         annotator1_data[1]] # replace with your data\n",
    "header = pd.Series(range(1,40))\n",
    "arrays = ['gold', 'you']\n",
    "annotation = pd.DataFrame(matrix, index=arrays, columns=header,)\n",
    "annotation"
   ]
  },
  {
   "cell_type": "code",
   "execution_count": 130,
   "id": "e2fb3378",
   "metadata": {},
   "outputs": [],
   "source": [
    "annotation_tuples = annotation.reset_index().melt(id_vars=['index'])\n",
    "annotation_tuples.columns = [\"coder\", \"item\", \"code\"]\n",
    "annotation_tuples = list(zip(annotation_tuples.coder, annotation_tuples.item, annotation_tuples.code))\n",
    "annotation_tuplestask = AnnotationTask(data=annotation_tuples)"
   ]
  },
  {
   "cell_type": "markdown",
   "id": "1b862825",
   "metadata": {},
   "source": [
    "### Übung 7.2\n",
    "\n",
    "Finden Sie die Entitäten in diesem Text mit Hilfe des Spacy-NER-Modus. Suchen Sie nach möglichen Fehlern und überlegen Sie, wie Sie diese beheben können."
   ]
  },
  {
   "cell_type": "code",
   "execution_count": 90,
   "id": "cf6a0c62",
   "metadata": {},
   "outputs": [
    {
     "data": {
      "text/plain": [
       "'\"Nobody was very attentive in lessons, being much more interested in the arrival that evening of the people from Beauxbatons and Durmstrang; even Potions was more bearable than usual, as it was half an hour shorter.  When the bell rang early, Harry, Ron, and Hermione hurried up to Gryffindor Tower, deposited their bags and books as they had been instructed, pulled on their cloaks, and rushed back downstairs into the entrance hall. The Heads of Houses were ordering their students into lines.  \"Weasley, straighten your hat,\" Professor McGonagall snapped at Ron.  \"Miss Patil, take that ridiculous thing out of your hair.\"  Parvati scowled and removed a large ornamental butterfly from the end of her plait.  \"Follow me, please,\" said Professor McGonagall.  \"First years in front. . . no pushing.. .\"  They filed down the steps and lined up in front of the castle. It was a cold, clear evening; dusk was falling and a pale, transparent-looking moon was already shining over the Forbidden Forest. Harry, standing between Ron and Hermione in the fourth row from the front, saw Dennis Creevey positively shivering with anticipation among the other first years.  \"Nearly six,\" said Ron, checking his watch and then staring down the drive that led to the front gates. \"How d\\'you reckon they\\'re coming? The train?\"  \"I doubt it,\" said Hermione.  \"How, then? Broomsticks?\" Harry suggested, looking up at the starry sky.  \"I don\\'t think so…not from that far away.…\"  \"A Portkey?\" Ron suggested. \"Or they could Apparate — maybe you\\'re allowed to do it under seventeen wherever they come from?\"  \"You can\\'t Apparate inside the Hogwarts grounds, how often do I have to tell you?\" said Hermione impatiently.'"
      ]
     },
     "execution_count": 90,
     "metadata": {},
     "output_type": "execute_result"
    }
   ],
   "source": [
    "harrypotter_file = 'harrypotter.txt'\n",
    "harrypotter_txt = open(harrypotter_file).read()\n",
    "# replace \\n with whitespace\n",
    "harrypotter_txt = harrypotter_txt.replace('\\n',' ')\n",
    "harrypotter_txt"
   ]
  }
 ],
 "metadata": {
  "kernelspec": {
   "display_name": "Python 3 (ipykernel)",
   "language": "python",
   "name": "python3"
  },
  "language_info": {
   "codemirror_mode": {
    "name": "ipython",
    "version": 3
   },
   "file_extension": ".py",
   "mimetype": "text/x-python",
   "name": "python",
   "nbconvert_exporter": "python",
   "pygments_lexer": "ipython3",
   "version": "3.10.9"
  }
 },
 "nbformat": 4,
 "nbformat_minor": 5
}
