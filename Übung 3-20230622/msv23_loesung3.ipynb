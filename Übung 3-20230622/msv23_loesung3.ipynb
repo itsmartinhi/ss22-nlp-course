{
 "cells": [
  {
   "cell_type": "markdown",
   "id": "bba5e7d1",
   "metadata": {},
   "source": [
    "# MSV / SS 2023 - Übung 3 - Lösung der Hausaufgaben"
   ]
  },
  {
   "cell_type": "markdown",
   "id": "cd4357e2",
   "metadata": {},
   "source": [
    "## Hausaufgaben\n",
    "\n",
    "### Übung 3.1\n",
    "Implementieren Sie eine binäre Version des Klassifiers (Daten aus Jurafsky & Martin)"
   ]
  },
  {
   "cell_type": "code",
   "execution_count": 11,
   "id": "0ca75207",
   "metadata": {},
   "outputs": [],
   "source": [
    "import pandas as pd"
   ]
  },
  {
   "cell_type": "markdown",
   "id": "6b54da4e",
   "metadata": {},
   "source": [
    "#### Training Set"
   ]
  },
  {
   "cell_type": "code",
   "execution_count": 4,
   "id": "2c3731b6",
   "metadata": {},
   "outputs": [
    {
     "name": "stdout",
     "output_type": "stream",
     "text": [
      "  category                               document\n",
      "0        -                      just plain boring\n",
      "1        -  entirely predictable and lacks energy\n",
      "2        -       no surprises and very few laughs\n",
      "3        +                          very powerful\n",
      "4        +        the most fun film of the summer\n"
     ]
    }
   ],
   "source": [
    "sentiment_train = [('-', 'just plain boring'),\n",
    "              ('-', 'entirely predictable and lacks energy'),\n",
    "             ('-', 'no surprises and very few laughs'),\n",
    "             ('+', 'very powerful'),\n",
    "             ('+', 'the most fun film of the summer')]  \n",
    "\n",
    "sentiment_train = pd.DataFrame(sentiment_train, columns = ['category' , 'document'])\n",
    "\n",
    "print(sentiment_train)"
   ]
  },
  {
   "cell_type": "markdown",
   "id": "f823e4a5",
   "metadata": {},
   "source": [
    "#### Wortschatz"
   ]
  },
  {
   "cell_type": "code",
   "execution_count": 16,
   "id": "ef50428f",
   "metadata": {},
   "outputs": [
    {
     "name": "stdout",
     "output_type": "stream",
     "text": [
      "Wortschatzgrösse: 20\n"
     ]
    }
   ],
   "source": [
    "vocabulary = []\n",
    "\n",
    "for i in range(len(sentiment_train)):\n",
    "    \n",
    "    for w in sentiment_train.loc[i, \"document\"].split():\n",
    "        \n",
    "        if w not in vocabulary: vocabulary.append(w)\n",
    "            \n",
    "print(\"Wortschatzgrösse: \"+str(len(vocabulary)))"
   ]
  },
  {
   "cell_type": "markdown",
   "id": "2474bd61",
   "metadata": {},
   "source": [
    "#### Prior - P(c)"
   ]
  },
  {
   "cell_type": "code",
   "execution_count": 13,
   "id": "3cff2760",
   "metadata": {},
   "outputs": [
    {
     "data": {
      "text/plain": [
       "0.4"
      ]
     },
     "execution_count": 13,
     "metadata": {},
     "output_type": "execute_result"
    }
   ],
   "source": [
    "P_pos = len(sentiment_train[sentiment_train.category == \"+\"]) / len(sentiment_train)\n",
    "P_pos"
   ]
  },
  {
   "cell_type": "code",
   "execution_count": 14,
   "id": "0d7e9d1b",
   "metadata": {},
   "outputs": [
    {
     "data": {
      "text/plain": [
       "0.6"
      ]
     },
     "execution_count": 14,
     "metadata": {},
     "output_type": "execute_result"
    }
   ],
   "source": [
    "P_neg = len(sentiment_train[sentiment_train.category == \"-\"]) / len(sentiment_train)\n",
    "P_neg"
   ]
  },
  {
   "cell_type": "markdown",
   "id": "fc89c7eb",
   "metadata": {},
   "source": [
    "#### Likelihood - P(d|c)"
   ]
  },
  {
   "cell_type": "markdown",
   "id": "55815f39",
   "metadata": {},
   "source": [
    "#### Dokumentensammlungen für die 2 Klassen (Bag of Words)"
   ]
  },
  {
   "cell_type": "code",
   "execution_count": 18,
   "id": "4bfdea2a",
   "metadata": {},
   "outputs": [
    {
     "name": "stdout",
     "output_type": "stream",
     "text": [
      "+: {'very': 1, 'powerful': 1, 'film': 1, 'most': 1, 'fun': 1, 'summer': 1, 'of': 1, 'the': 1}\n",
      "-: {'just': 1, 'boring': 1, 'plain': 1, 'energy': 1, 'lacks': 1, 'predictable': 1, 'entirely': 1, 'and': 2, 'laughs': 1, 'few': 1, 'very': 1, 'surprises': 1, 'no': 1}\n"
     ]
    }
   ],
   "source": [
    "dok_pos = {}\n",
    "dok_neg = {}\n",
    "\n",
    "\n",
    "for i in range(len(sentiment_train)):\n",
    "    \n",
    "    if sentiment_train.loc[i, \"category\"] == \"+\": \n",
    "        # Ein Set darf keine Duplikate enthalten\n",
    "        for w in set(sentiment_train.loc[i, \"document\"].split()):\n",
    "            if w in dok_pos.keys(): dok_pos[w] += 1\n",
    "            else: dok_pos[w] = 1\n",
    "    else: \n",
    "        for w in set(sentiment_train.loc[i, \"document\"].split()):\n",
    "            if w in dok_neg.keys(): dok_neg[w] += 1\n",
    "            else: dok_neg[w] = 1\n",
    "                \n",
    "print(\"+:\", dok_pos)\n",
    "print(\"-:\", dok_neg)"
   ]
  },
  {
   "cell_type": "markdown",
   "id": "cd756c9f",
   "metadata": {},
   "source": [
    "#### Features: P(w|c) Schätzung (mit Add-1-Smoothing)"
   ]
  },
  {
   "cell_type": "code",
   "execution_count": 19,
   "id": "3d84d1b6",
   "metadata": {},
   "outputs": [
    {
     "name": "stdout",
     "output_type": "stream",
     "text": [
      "+: {'just': 0.03571428571428571, 'plain': 0.03571428571428571, 'boring': 0.03571428571428571, 'entirely': 0.03571428571428571, 'predictable': 0.03571428571428571, 'and': 0.03571428571428571, 'lacks': 0.03571428571428571, 'energy': 0.03571428571428571, 'no': 0.03571428571428571, 'surprises': 0.03571428571428571, 'very': 0.07142857142857142, 'few': 0.03571428571428571, 'laughs': 0.03571428571428571, 'powerful': 0.07142857142857142, 'the': 0.07142857142857142, 'most': 0.07142857142857142, 'fun': 0.07142857142857142, 'film': 0.07142857142857142, 'of': 0.07142857142857142, 'summer': 0.07142857142857142}\n",
      "-: {'just': 0.058823529411764705, 'plain': 0.058823529411764705, 'boring': 0.058823529411764705, 'entirely': 0.058823529411764705, 'predictable': 0.058823529411764705, 'and': 0.08823529411764706, 'lacks': 0.058823529411764705, 'energy': 0.058823529411764705, 'no': 0.058823529411764705, 'surprises': 0.058823529411764705, 'very': 0.058823529411764705, 'few': 0.058823529411764705, 'laughs': 0.058823529411764705, 'powerful': 0.029411764705882353, 'the': 0.029411764705882353, 'most': 0.029411764705882353, 'fun': 0.029411764705882353, 'film': 0.029411764705882353, 'of': 0.029411764705882353, 'summer': 0.029411764705882353}\n"
     ]
    }
   ],
   "source": [
    "F_w_pos = {}\n",
    "F_w_neg = {}\n",
    "\n",
    "P_w_pos = {}\n",
    "P_w_neg = {}\n",
    "\n",
    "for w in vocabulary:\n",
    "    \n",
    "    F_w_pos[w] = 1 \n",
    "    F_w_neg[w] = 1\n",
    "    \n",
    "    if w in dok_pos.keys():\n",
    "        F_w_pos[w] += dok_pos[w]\n",
    "        \n",
    "\n",
    "    if w in dok_neg.keys():\n",
    "        F_w_neg[w] += dok_neg[w]\n",
    "        \n",
    "    P_w_pos[w] = F_w_pos[w]/(sum(dok_pos.values())+len(vocabulary))\n",
    "    P_w_neg[w] = F_w_neg[w]/(sum(dok_neg.values())+len(vocabulary))\n",
    "    \n",
    "print(\"+:\", P_w_pos)\n",
    "print(\"-:\", P_w_neg)"
   ]
  },
  {
   "cell_type": "markdown",
   "id": "c572583d",
   "metadata": {},
   "source": [
    "### Testing"
   ]
  },
  {
   "cell_type": "code",
   "execution_count": 20,
   "id": "70fce90d",
   "metadata": {},
   "outputs": [],
   "source": [
    "sentiment_test = 'predictable with no fun'"
   ]
  },
  {
   "cell_type": "code",
   "execution_count": 21,
   "id": "4db0c998",
   "metadata": {},
   "outputs": [
    {
     "name": "stdout",
     "output_type": "stream",
     "text": [
      "P positive for test:  3.644314868804664e-05\n",
      "P negative for test:  6.106248727864848e-05\n"
     ]
    }
   ],
   "source": [
    "P_test_pos = P_pos\n",
    "P_test_neg = P_neg\n",
    "    \n",
    "for w in sentiment_test.split():\n",
    "        \n",
    "    if w in vocabulary:    \n",
    "        \n",
    "        P_test_pos = P_test_pos*P_w_pos[w]\n",
    "        P_test_neg = P_test_neg*P_w_neg[w]\n",
    "            \n",
    "print(\"P positive for test: \",P_test_pos)\n",
    "print(\"P negative for test: \",P_test_neg)"
   ]
  },
  {
   "cell_type": "markdown",
   "id": "f90f0d84",
   "metadata": {},
   "source": [
    "Die vorhergesagte Klasse für den Test ist 'negativ'"
   ]
  }
 ],
 "metadata": {
  "kernelspec": {
   "display_name": "Python 3 (ipykernel)",
   "language": "python",
   "name": "python3"
  },
  "language_info": {
   "codemirror_mode": {
    "name": "ipython",
    "version": 3
   },
   "file_extension": ".py",
   "mimetype": "text/x-python",
   "name": "python",
   "nbconvert_exporter": "python",
   "pygments_lexer": "ipython3",
   "version": "3.10.9"
  }
 },
 "nbformat": 4,
 "nbformat_minor": 5
}
