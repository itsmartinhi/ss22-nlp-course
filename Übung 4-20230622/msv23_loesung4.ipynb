{
 "cells": [
  {
   "cell_type": "markdown",
   "id": "bba5e7d1",
   "metadata": {},
   "source": [
    "# MSV / SS 2023 - Übung 4 - Lösung der Hausaufgaben"
   ]
  },
  {
   "cell_type": "markdown",
   "id": "bf7a2cc9",
   "metadata": {},
   "source": [
    "## Hausaufgaben\n",
    "\n",
    "### Übung 4.1\n",
    "\n",
    "Noch einen Schritt Gradient Descent berechnen, mit dem folgenden Beispiel \n",
    "\n",
    "y = 0"
   ]
  },
  {
   "cell_type": "code",
   "execution_count": 2,
   "id": "371e1dc4",
   "metadata": {},
   "outputs": [],
   "source": [
    "import pandas as pd\n",
    "import numpy as np\n",
    "import math"
   ]
  },
  {
   "cell_type": "markdown",
   "id": "a1e80953",
   "metadata": {},
   "source": [
    "#### Neues Beispiel: Parameter nach 1 Schritt Gradient Descent"
   ]
  },
  {
   "cell_type": "code",
   "execution_count": 4,
   "id": "c96f0e16",
   "metadata": {},
   "outputs": [
    {
     "name": "stdout",
     "output_type": "stream",
     "text": [
      "bias: 0.5\n",
      "        features  values  weights\n",
      "0  # pos. Wörter       1     0.15\n",
      "1  # neg. Wörter       4     0.10\n"
     ]
    }
   ],
   "source": [
    "bias = 0.5\n",
    "\n",
    "sentiment_feat = [(\"# pos. Wörter\", 1, .15),\n",
    "                  (\"# neg. Wörter\", 4, .1)]  \n",
    "\n",
    "sentiment_feat = pd.DataFrame(sentiment_feat, columns = ['features' , 'values', 'weights'])\n",
    "\n",
    "print(\"bias:\", bias)\n",
    "print(sentiment_feat)"
   ]
  },
  {
   "cell_type": "markdown",
   "id": "056a4ca4",
   "metadata": {},
   "source": [
    "#### Gradient Descent: 2. Schritt \n",
    "\n",
    "(1) Klassifizierungsfunktion für geschätzen $\\hat{y}$ (y = 0)\n",
    "\n",
    "$\\hat{y} = \\sigma(w \\cdot x + b)$"
   ]
  },
  {
   "cell_type": "code",
   "execution_count": 31,
   "id": "06dae5dd",
   "metadata": {},
   "outputs": [
    {
     "name": "stdout",
     "output_type": "stream",
     "text": [
      "gesch. y =  0.740774899182154\n"
     ]
    }
   ],
   "source": [
    "def sigmoid(x):\n",
    "    return 1/(1 + math.exp(-x))\n",
    "\n",
    "z = sum(sentiment_feat['values']*sentiment_feat['weights'])+bias\n",
    "\n",
    "print('gesch. y = ',sigmoid(z))"
   ]
  },
  {
   "cell_type": "markdown",
   "id": "3c01f949",
   "metadata": {},
   "source": [
    "(2) Verlust & Gradient Vektor\n",
    "\n",
    "$\\nabla_{w,b} = \\begin{bmatrix} (\\sigma(w \\cdot x + b)-y)x_1 \\\\ (\\sigma(w \\cdot x + b)-y)x_2 \\\\ \\sigma(w \\cdot x + b)-y\\end{bmatrix} = \\begin{bmatrix} (\\hat{y}-y)x_1 \\\\ (\\hat{y}-y)x_2 \\\\ \\hat{y}-y\\end{bmatrix} = \\begin{bmatrix} (0.74-0)1 \\\\ (0.74-0)4 \\\\ 0.74-0\\end{bmatrix} = \\begin{bmatrix} 0.74 \\\\ 2.96 \\\\ 0.74\\end{bmatrix}$ "
   ]
  },
  {
   "cell_type": "markdown",
   "id": "e4afe217",
   "metadata": {},
   "source": [
    "#### Wie sehen die neue Parametern nach 1 Schritt aus?\n",
    "\n",
    "Learning Rate\n",
    "\n",
    "$\\eta = 0.1$\n",
    "\n",
    "Gradient Vector\n",
    "\n",
    "$ \\begin{bmatrix} 0.74 \\\\ 2.96 \\\\ 0.74\\end{bmatrix} $ "
   ]
  },
  {
   "cell_type": "markdown",
   "id": "15580a93",
   "metadata": {},
   "source": [
    "Parameter update (opposite direction as gradient):\n",
    "\n",
    "$\\theta_{t+1} = \\theta_t - \\eta\\nabla L(f(x;\\theta),y)$\n",
    "\n",
    "$\\theta_{1} = \\begin{bmatrix} w_1 \\\\ w_2 \\\\ b\\end{bmatrix} - 0.1\n",
    "\\begin{bmatrix} 0.74 \\\\ 2.96 \\\\ 0.74\\end{bmatrix} =\n",
    "\\begin{bmatrix} .15 \\\\ .1 \\\\ .05 \\end{bmatrix} - \n",
    "\\begin{bmatrix} 0.074 \\\\ 0.296 \\\\ 0.074 \\end{bmatrix} = \\begin{bmatrix} 0.076 \\\\ -0.196 \\\\ -0.024 \\end{bmatrix}$ "
   ]
  },
  {
   "cell_type": "markdown",
   "id": "6a3387d5",
   "metadata": {},
   "source": [
    "#### Parameter nach 2. Schritt Gradient Descent"
   ]
  },
  {
   "cell_type": "code",
   "execution_count": 33,
   "id": "88648f93",
   "metadata": {},
   "outputs": [
    {
     "name": "stdout",
     "output_type": "stream",
     "text": [
      "bias: -0.024\n",
      "        features  weights\n",
      "0  # pos. Wörter    0.076\n",
      "1  # neg. Wörter   -0.196\n"
     ]
    }
   ],
   "source": [
    "bias = -0.024\n",
    "\n",
    "sentiment_feat = [(\"# pos. Wörter\", 0.076),\n",
    "                  (\"# neg. Wörter\", -0.196)]  \n",
    "\n",
    "sentiment_feat = pd.DataFrame(sentiment_feat, columns = ['features' , 'weights'])\n",
    "\n",
    "print(\"bias:\", bias)\n",
    "print(sentiment_feat)"
   ]
  }
 ],
 "metadata": {
  "kernelspec": {
   "display_name": "Python 3 (ipykernel)",
   "language": "python",
   "name": "python3"
  },
  "language_info": {
   "codemirror_mode": {
    "name": "ipython",
    "version": 3
   },
   "file_extension": ".py",
   "mimetype": "text/x-python",
   "name": "python",
   "nbconvert_exporter": "python",
   "pygments_lexer": "ipython3",
   "version": "3.10.9"
  }
 },
 "nbformat": 4,
 "nbformat_minor": 5
}
